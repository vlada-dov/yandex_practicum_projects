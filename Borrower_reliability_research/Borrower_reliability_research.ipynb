{
 "cells": [
  {
   "cell_type": "markdown",
   "id": "ac12bf8c",
   "metadata": {
    "deletable": false,
    "editable": false,
    "id": "c81daeeb"
   },
   "source": [
    "# Исследование надежности заемщиков\n"
   ]
  },
  {
   "cell_type": "markdown",
   "id": "a0084554",
   "metadata": {},
   "source": [
    "<div class=\"alert-info\" style=\"border-radius: 10px; box-shadow: 2px 2px 2px; border: 1px solid; padding: 10px\">\n",
    "<b></b>\n",
    "    \n",
    "## Краткое описание\n",
    "    \n",
    "**Цели исследования:**\n",
    "    \n",
    "1) Выявим влияет ли семейное положение и количество детей клиента на факт погашения кредита в срок.\n",
    "    \n",
    "2) Определим какие еще факторы могут влиять на способность клиента вернуть кредит вовремя.\n",
    "    \n",
    "3) Проанализируем какие клиенты представляют для банка наибольший риск, а какие являются наиболее надежными.\n",
    "      \n",
    "**Описание данных:**\n",
    "    \n",
    "Входные данные от банка — статистика о платёжеспособности клиентов.\n",
    "    \n",
    "children — количество детей в семье\n",
    "    \n",
    "days_employed — общий трудовой стаж в днях\n",
    "    \n",
    "dob_years — возраст клиента в годах\n",
    "    \n",
    "education — уровень образования клиента\n",
    "    \n",
    "education_id — идентификатор уровня образования\n",
    "    \n",
    "family_status — семейное положение\n",
    "    \n",
    "family_status_id — идентификатор семейного положения\n",
    "    \n",
    "gender — пол клиента\n",
    "    \n",
    "income_type — тип занятости\n",
    "    \n",
    "debt — имел ли задолженность по возврату кредитов\n",
    "    \n",
    "total_income — ежемесячный доход\n",
    "    \n",
    "purpose — цель получения кредита\n",
    "    \n",
    "    \n",
    "**План работы:** \n",
    "\n",
    "- изучим общую информацию о данных;\n",
    "- выявим пропуски, аномальные значения и дубликаты;\n",
    "- удалим пропуски, обработаем аномальные значения и дубликаты;\n",
    "- при необходимости изменим тип данных для анализа;\n",
    "- категоризируем данные;\n",
    "- сгруппируем и произведем вычисления;\n",
    "- изучим полученные результаты и сделаем выводы. \n",
    "</div>"
   ]
  },
  {
   "cell_type": "markdown",
   "id": "1cb15eaf",
   "metadata": {
    "id": "744d7639"
   },
   "source": [
    "## Знакомство с данными"
   ]
  },
  {
   "cell_type": "code",
   "execution_count": 1,
   "id": "5141c6fc",
   "metadata": {
    "deletable": false,
    "id": "7bcf75c9"
   },
   "outputs": [],
   "source": [
    "import pandas as pd"
   ]
  },
  {
   "cell_type": "code",
   "execution_count": 2,
   "id": "a02601fd",
   "metadata": {},
   "outputs": [],
   "source": [
    "try:\n",
    "    data = pd.read_csv('/datasets/data.csv')\n",
    "except:\n",
    "    data = pd.read_csv('https://code.s3.yandex.net/datasets/data.csv')"
   ]
  },
  {
   "cell_type": "code",
   "execution_count": 3,
   "id": "3300e25a",
   "metadata": {
    "deletable": false,
    "id": "2a7cab99",
    "outputId": "1a8f3ef2-d323-4ec2-ddf7-89670b5944c4"
   },
   "outputs": [
    {
     "data": {
      "text/html": [
       "<div>\n",
       "<style scoped>\n",
       "    .dataframe tbody tr th:only-of-type {\n",
       "        vertical-align: middle;\n",
       "    }\n",
       "\n",
       "    .dataframe tbody tr th {\n",
       "        vertical-align: top;\n",
       "    }\n",
       "\n",
       "    .dataframe thead th {\n",
       "        text-align: right;\n",
       "    }\n",
       "</style>\n",
       "<table border=\"1\" class=\"dataframe\">\n",
       "  <thead>\n",
       "    <tr style=\"text-align: right;\">\n",
       "      <th></th>\n",
       "      <th>children</th>\n",
       "      <th>days_employed</th>\n",
       "      <th>dob_years</th>\n",
       "      <th>education</th>\n",
       "      <th>education_id</th>\n",
       "      <th>family_status</th>\n",
       "      <th>family_status_id</th>\n",
       "      <th>gender</th>\n",
       "      <th>income_type</th>\n",
       "      <th>debt</th>\n",
       "      <th>total_income</th>\n",
       "      <th>purpose</th>\n",
       "    </tr>\n",
       "  </thead>\n",
       "  <tbody>\n",
       "    <tr>\n",
       "      <th>0</th>\n",
       "      <td>1</td>\n",
       "      <td>-8437.673028</td>\n",
       "      <td>42</td>\n",
       "      <td>высшее</td>\n",
       "      <td>0</td>\n",
       "      <td>женат / замужем</td>\n",
       "      <td>0</td>\n",
       "      <td>F</td>\n",
       "      <td>сотрудник</td>\n",
       "      <td>0</td>\n",
       "      <td>253875.639453</td>\n",
       "      <td>покупка жилья</td>\n",
       "    </tr>\n",
       "    <tr>\n",
       "      <th>1</th>\n",
       "      <td>1</td>\n",
       "      <td>-4024.803754</td>\n",
       "      <td>36</td>\n",
       "      <td>среднее</td>\n",
       "      <td>1</td>\n",
       "      <td>женат / замужем</td>\n",
       "      <td>0</td>\n",
       "      <td>F</td>\n",
       "      <td>сотрудник</td>\n",
       "      <td>0</td>\n",
       "      <td>112080.014102</td>\n",
       "      <td>приобретение автомобиля</td>\n",
       "    </tr>\n",
       "    <tr>\n",
       "      <th>2</th>\n",
       "      <td>0</td>\n",
       "      <td>-5623.422610</td>\n",
       "      <td>33</td>\n",
       "      <td>Среднее</td>\n",
       "      <td>1</td>\n",
       "      <td>женат / замужем</td>\n",
       "      <td>0</td>\n",
       "      <td>M</td>\n",
       "      <td>сотрудник</td>\n",
       "      <td>0</td>\n",
       "      <td>145885.952297</td>\n",
       "      <td>покупка жилья</td>\n",
       "    </tr>\n",
       "    <tr>\n",
       "      <th>3</th>\n",
       "      <td>3</td>\n",
       "      <td>-4124.747207</td>\n",
       "      <td>32</td>\n",
       "      <td>среднее</td>\n",
       "      <td>1</td>\n",
       "      <td>женат / замужем</td>\n",
       "      <td>0</td>\n",
       "      <td>M</td>\n",
       "      <td>сотрудник</td>\n",
       "      <td>0</td>\n",
       "      <td>267628.550329</td>\n",
       "      <td>дополнительное образование</td>\n",
       "    </tr>\n",
       "    <tr>\n",
       "      <th>4</th>\n",
       "      <td>0</td>\n",
       "      <td>340266.072047</td>\n",
       "      <td>53</td>\n",
       "      <td>среднее</td>\n",
       "      <td>1</td>\n",
       "      <td>гражданский брак</td>\n",
       "      <td>1</td>\n",
       "      <td>F</td>\n",
       "      <td>пенсионер</td>\n",
       "      <td>0</td>\n",
       "      <td>158616.077870</td>\n",
       "      <td>сыграть свадьбу</td>\n",
       "    </tr>\n",
       "    <tr>\n",
       "      <th>5</th>\n",
       "      <td>0</td>\n",
       "      <td>-926.185831</td>\n",
       "      <td>27</td>\n",
       "      <td>высшее</td>\n",
       "      <td>0</td>\n",
       "      <td>гражданский брак</td>\n",
       "      <td>1</td>\n",
       "      <td>M</td>\n",
       "      <td>компаньон</td>\n",
       "      <td>0</td>\n",
       "      <td>255763.565419</td>\n",
       "      <td>покупка жилья</td>\n",
       "    </tr>\n",
       "    <tr>\n",
       "      <th>6</th>\n",
       "      <td>0</td>\n",
       "      <td>-2879.202052</td>\n",
       "      <td>43</td>\n",
       "      <td>высшее</td>\n",
       "      <td>0</td>\n",
       "      <td>женат / замужем</td>\n",
       "      <td>0</td>\n",
       "      <td>F</td>\n",
       "      <td>компаньон</td>\n",
       "      <td>0</td>\n",
       "      <td>240525.971920</td>\n",
       "      <td>операции с жильем</td>\n",
       "    </tr>\n",
       "    <tr>\n",
       "      <th>7</th>\n",
       "      <td>0</td>\n",
       "      <td>-152.779569</td>\n",
       "      <td>50</td>\n",
       "      <td>СРЕДНЕЕ</td>\n",
       "      <td>1</td>\n",
       "      <td>женат / замужем</td>\n",
       "      <td>0</td>\n",
       "      <td>M</td>\n",
       "      <td>сотрудник</td>\n",
       "      <td>0</td>\n",
       "      <td>135823.934197</td>\n",
       "      <td>образование</td>\n",
       "    </tr>\n",
       "    <tr>\n",
       "      <th>8</th>\n",
       "      <td>2</td>\n",
       "      <td>-6929.865299</td>\n",
       "      <td>35</td>\n",
       "      <td>ВЫСШЕЕ</td>\n",
       "      <td>0</td>\n",
       "      <td>гражданский брак</td>\n",
       "      <td>1</td>\n",
       "      <td>F</td>\n",
       "      <td>сотрудник</td>\n",
       "      <td>0</td>\n",
       "      <td>95856.832424</td>\n",
       "      <td>на проведение свадьбы</td>\n",
       "    </tr>\n",
       "    <tr>\n",
       "      <th>9</th>\n",
       "      <td>0</td>\n",
       "      <td>-2188.756445</td>\n",
       "      <td>41</td>\n",
       "      <td>среднее</td>\n",
       "      <td>1</td>\n",
       "      <td>женат / замужем</td>\n",
       "      <td>0</td>\n",
       "      <td>M</td>\n",
       "      <td>сотрудник</td>\n",
       "      <td>0</td>\n",
       "      <td>144425.938277</td>\n",
       "      <td>покупка жилья для семьи</td>\n",
       "    </tr>\n",
       "    <tr>\n",
       "      <th>10</th>\n",
       "      <td>2</td>\n",
       "      <td>-4171.483647</td>\n",
       "      <td>36</td>\n",
       "      <td>высшее</td>\n",
       "      <td>0</td>\n",
       "      <td>женат / замужем</td>\n",
       "      <td>0</td>\n",
       "      <td>M</td>\n",
       "      <td>компаньон</td>\n",
       "      <td>0</td>\n",
       "      <td>113943.491460</td>\n",
       "      <td>покупка недвижимости</td>\n",
       "    </tr>\n",
       "    <tr>\n",
       "      <th>11</th>\n",
       "      <td>0</td>\n",
       "      <td>-792.701887</td>\n",
       "      <td>40</td>\n",
       "      <td>среднее</td>\n",
       "      <td>1</td>\n",
       "      <td>женат / замужем</td>\n",
       "      <td>0</td>\n",
       "      <td>F</td>\n",
       "      <td>сотрудник</td>\n",
       "      <td>0</td>\n",
       "      <td>77069.234271</td>\n",
       "      <td>покупка коммерческой недвижимости</td>\n",
       "    </tr>\n",
       "    <tr>\n",
       "      <th>12</th>\n",
       "      <td>0</td>\n",
       "      <td>NaN</td>\n",
       "      <td>65</td>\n",
       "      <td>среднее</td>\n",
       "      <td>1</td>\n",
       "      <td>гражданский брак</td>\n",
       "      <td>1</td>\n",
       "      <td>M</td>\n",
       "      <td>пенсионер</td>\n",
       "      <td>0</td>\n",
       "      <td>NaN</td>\n",
       "      <td>сыграть свадьбу</td>\n",
       "    </tr>\n",
       "    <tr>\n",
       "      <th>13</th>\n",
       "      <td>0</td>\n",
       "      <td>-1846.641941</td>\n",
       "      <td>54</td>\n",
       "      <td>неоконченное высшее</td>\n",
       "      <td>2</td>\n",
       "      <td>женат / замужем</td>\n",
       "      <td>0</td>\n",
       "      <td>F</td>\n",
       "      <td>сотрудник</td>\n",
       "      <td>0</td>\n",
       "      <td>130458.228857</td>\n",
       "      <td>приобретение автомобиля</td>\n",
       "    </tr>\n",
       "    <tr>\n",
       "      <th>14</th>\n",
       "      <td>0</td>\n",
       "      <td>-1844.956182</td>\n",
       "      <td>56</td>\n",
       "      <td>высшее</td>\n",
       "      <td>0</td>\n",
       "      <td>гражданский брак</td>\n",
       "      <td>1</td>\n",
       "      <td>F</td>\n",
       "      <td>компаньон</td>\n",
       "      <td>1</td>\n",
       "      <td>165127.911772</td>\n",
       "      <td>покупка жилой недвижимости</td>\n",
       "    </tr>\n",
       "    <tr>\n",
       "      <th>15</th>\n",
       "      <td>1</td>\n",
       "      <td>-972.364419</td>\n",
       "      <td>26</td>\n",
       "      <td>среднее</td>\n",
       "      <td>1</td>\n",
       "      <td>женат / замужем</td>\n",
       "      <td>0</td>\n",
       "      <td>F</td>\n",
       "      <td>сотрудник</td>\n",
       "      <td>0</td>\n",
       "      <td>116820.904450</td>\n",
       "      <td>строительство собственной недвижимости</td>\n",
       "    </tr>\n",
       "    <tr>\n",
       "      <th>16</th>\n",
       "      <td>0</td>\n",
       "      <td>-1719.934226</td>\n",
       "      <td>35</td>\n",
       "      <td>среднее</td>\n",
       "      <td>1</td>\n",
       "      <td>женат / замужем</td>\n",
       "      <td>0</td>\n",
       "      <td>F</td>\n",
       "      <td>сотрудник</td>\n",
       "      <td>0</td>\n",
       "      <td>289202.704229</td>\n",
       "      <td>недвижимость</td>\n",
       "    </tr>\n",
       "    <tr>\n",
       "      <th>17</th>\n",
       "      <td>0</td>\n",
       "      <td>-2369.999720</td>\n",
       "      <td>33</td>\n",
       "      <td>высшее</td>\n",
       "      <td>0</td>\n",
       "      <td>гражданский брак</td>\n",
       "      <td>1</td>\n",
       "      <td>M</td>\n",
       "      <td>сотрудник</td>\n",
       "      <td>0</td>\n",
       "      <td>90410.586745</td>\n",
       "      <td>строительство недвижимости</td>\n",
       "    </tr>\n",
       "    <tr>\n",
       "      <th>18</th>\n",
       "      <td>0</td>\n",
       "      <td>400281.136913</td>\n",
       "      <td>53</td>\n",
       "      <td>среднее</td>\n",
       "      <td>1</td>\n",
       "      <td>вдовец / вдова</td>\n",
       "      <td>2</td>\n",
       "      <td>F</td>\n",
       "      <td>пенсионер</td>\n",
       "      <td>0</td>\n",
       "      <td>56823.777243</td>\n",
       "      <td>на покупку подержанного автомобиля</td>\n",
       "    </tr>\n",
       "    <tr>\n",
       "      <th>19</th>\n",
       "      <td>0</td>\n",
       "      <td>-10038.818549</td>\n",
       "      <td>48</td>\n",
       "      <td>СРЕДНЕЕ</td>\n",
       "      <td>1</td>\n",
       "      <td>в разводе</td>\n",
       "      <td>3</td>\n",
       "      <td>F</td>\n",
       "      <td>сотрудник</td>\n",
       "      <td>0</td>\n",
       "      <td>242831.107982</td>\n",
       "      <td>на покупку своего автомобиля</td>\n",
       "    </tr>\n",
       "  </tbody>\n",
       "</table>\n",
       "</div>"
      ],
      "text/plain": [
       "    children  days_employed  dob_years            education  education_id  \\\n",
       "0          1   -8437.673028         42               высшее             0   \n",
       "1          1   -4024.803754         36              среднее             1   \n",
       "2          0   -5623.422610         33              Среднее             1   \n",
       "3          3   -4124.747207         32              среднее             1   \n",
       "4          0  340266.072047         53              среднее             1   \n",
       "5          0    -926.185831         27               высшее             0   \n",
       "6          0   -2879.202052         43               высшее             0   \n",
       "7          0    -152.779569         50              СРЕДНЕЕ             1   \n",
       "8          2   -6929.865299         35               ВЫСШЕЕ             0   \n",
       "9          0   -2188.756445         41              среднее             1   \n",
       "10         2   -4171.483647         36               высшее             0   \n",
       "11         0    -792.701887         40              среднее             1   \n",
       "12         0            NaN         65              среднее             1   \n",
       "13         0   -1846.641941         54  неоконченное высшее             2   \n",
       "14         0   -1844.956182         56               высшее             0   \n",
       "15         1    -972.364419         26              среднее             1   \n",
       "16         0   -1719.934226         35              среднее             1   \n",
       "17         0   -2369.999720         33               высшее             0   \n",
       "18         0  400281.136913         53              среднее             1   \n",
       "19         0  -10038.818549         48              СРЕДНЕЕ             1   \n",
       "\n",
       "       family_status  family_status_id gender income_type  debt  \\\n",
       "0    женат / замужем                 0      F   сотрудник     0   \n",
       "1    женат / замужем                 0      F   сотрудник     0   \n",
       "2    женат / замужем                 0      M   сотрудник     0   \n",
       "3    женат / замужем                 0      M   сотрудник     0   \n",
       "4   гражданский брак                 1      F   пенсионер     0   \n",
       "5   гражданский брак                 1      M   компаньон     0   \n",
       "6    женат / замужем                 0      F   компаньон     0   \n",
       "7    женат / замужем                 0      M   сотрудник     0   \n",
       "8   гражданский брак                 1      F   сотрудник     0   \n",
       "9    женат / замужем                 0      M   сотрудник     0   \n",
       "10   женат / замужем                 0      M   компаньон     0   \n",
       "11   женат / замужем                 0      F   сотрудник     0   \n",
       "12  гражданский брак                 1      M   пенсионер     0   \n",
       "13   женат / замужем                 0      F   сотрудник     0   \n",
       "14  гражданский брак                 1      F   компаньон     1   \n",
       "15   женат / замужем                 0      F   сотрудник     0   \n",
       "16   женат / замужем                 0      F   сотрудник     0   \n",
       "17  гражданский брак                 1      M   сотрудник     0   \n",
       "18    вдовец / вдова                 2      F   пенсионер     0   \n",
       "19         в разводе                 3      F   сотрудник     0   \n",
       "\n",
       "     total_income                                 purpose  \n",
       "0   253875.639453                           покупка жилья  \n",
       "1   112080.014102                 приобретение автомобиля  \n",
       "2   145885.952297                           покупка жилья  \n",
       "3   267628.550329              дополнительное образование  \n",
       "4   158616.077870                         сыграть свадьбу  \n",
       "5   255763.565419                           покупка жилья  \n",
       "6   240525.971920                       операции с жильем  \n",
       "7   135823.934197                             образование  \n",
       "8    95856.832424                   на проведение свадьбы  \n",
       "9   144425.938277                 покупка жилья для семьи  \n",
       "10  113943.491460                    покупка недвижимости  \n",
       "11   77069.234271       покупка коммерческой недвижимости  \n",
       "12            NaN                         сыграть свадьбу  \n",
       "13  130458.228857                 приобретение автомобиля  \n",
       "14  165127.911772              покупка жилой недвижимости  \n",
       "15  116820.904450  строительство собственной недвижимости  \n",
       "16  289202.704229                            недвижимость  \n",
       "17   90410.586745              строительство недвижимости  \n",
       "18   56823.777243      на покупку подержанного автомобиля  \n",
       "19  242831.107982            на покупку своего автомобиля  "
      ]
     },
     "execution_count": 3,
     "metadata": {},
     "output_type": "execute_result"
    }
   ],
   "source": [
    "data.head(20)"
   ]
  },
  {
   "cell_type": "code",
   "execution_count": 4,
   "id": "493bacff",
   "metadata": {
    "deletable": false,
    "id": "2b757bca",
    "outputId": "15376089-8dad-46c9-b520-c05248d43158"
   },
   "outputs": [
    {
     "name": "stdout",
     "output_type": "stream",
     "text": [
      "<class 'pandas.core.frame.DataFrame'>\n",
      "RangeIndex: 21525 entries, 0 to 21524\n",
      "Data columns (total 12 columns):\n",
      " #   Column            Non-Null Count  Dtype  \n",
      "---  ------            --------------  -----  \n",
      " 0   children          21525 non-null  int64  \n",
      " 1   days_employed     19351 non-null  float64\n",
      " 2   dob_years         21525 non-null  int64  \n",
      " 3   education         21525 non-null  object \n",
      " 4   education_id      21525 non-null  int64  \n",
      " 5   family_status     21525 non-null  object \n",
      " 6   family_status_id  21525 non-null  int64  \n",
      " 7   gender            21525 non-null  object \n",
      " 8   income_type       21525 non-null  object \n",
      " 9   debt              21525 non-null  int64  \n",
      " 10  total_income      19351 non-null  float64\n",
      " 11  purpose           21525 non-null  object \n",
      "dtypes: float64(2), int64(5), object(5)\n",
      "memory usage: 2.0+ MB\n"
     ]
    }
   ],
   "source": [
    "data.info()"
   ]
  },
  {
   "cell_type": "markdown",
   "id": "4f894975",
   "metadata": {},
   "source": [
    "<div class=\"alert-info\" style=\"border-radius: 10px; box-shadow: 2px 2px 2px; border: 1px solid; padding: 10px\">\n",
    "<b></b>\n",
    "\n",
    "**Промежуточный вывод:** \n",
    "Мы посмотрели таблицу и изучили общую информацию о данных. Видно что встречаются аномальные значения, пропуски и дубликаты, их необходимо будет обработать в следующих разделах.\n",
    "    </div>"
   ]
  },
  {
   "cell_type": "markdown",
   "id": "10ceabf1",
   "metadata": {
    "deletable": false,
    "editable": false,
    "id": "333ec665"
   },
   "source": [
    "## Предобработка данных"
   ]
  },
  {
   "cell_type": "markdown",
   "id": "b112274b",
   "metadata": {
    "deletable": false,
    "editable": false,
    "id": "02d92d53"
   },
   "source": [
    "### Удаление пропусков"
   ]
  },
  {
   "cell_type": "code",
   "execution_count": 5,
   "id": "b3eb1428",
   "metadata": {
    "deletable": false,
    "id": "7f9b2309",
    "outputId": "81f4d817-781c-465c-ed15-91ce4446810d"
   },
   "outputs": [
    {
     "data": {
      "text/plain": [
       "children               0\n",
       "days_employed       2174\n",
       "dob_years              0\n",
       "education              0\n",
       "education_id           0\n",
       "family_status          0\n",
       "family_status_id       0\n",
       "gender                 0\n",
       "income_type            0\n",
       "debt                   0\n",
       "total_income        2174\n",
       "purpose                0\n",
       "dtype: int64"
      ]
     },
     "execution_count": 5,
     "metadata": {},
     "output_type": "execute_result"
    }
   ],
   "source": [
    "data.isna().sum()"
   ]
  },
  {
   "cell_type": "markdown",
   "id": "21dff7d1",
   "metadata": {
    "deletable": false,
    "id": "db86e27b"
   },
   "source": [
    "**В двух столбцах есть пропущенные значения. Один из них — `days_employed`. Пропуски в этом столбце мы обработаем на следующем этапе. Другой столбец с пропущенными значениями — `total_income` — хранит данные о доходах. На сумму дохода сильнее всего влияет тип занятости, поэтому заполнить пропуски в этом столбце нужно медианным значением по каждому типу из столбца `income_type`. Например, у человека с типом занятости `сотрудник` пропуск в столбце `total_income` должен быть заполнен медианным доходом среди всех записей с тем же типом.**"
   ]
  },
  {
   "cell_type": "code",
   "execution_count": 6,
   "id": "08914609",
   "metadata": {
    "deletable": false,
    "id": "42006a93"
   },
   "outputs": [],
   "source": [
    "for t in data['income_type'].unique():\n",
    "    data.loc[(data['income_type'] == t) & (data['total_income'].isna()), 'total_income'] = \\\n",
    "    data.loc[(data['income_type'] == t), 'total_income'].median()"
   ]
  },
  {
   "cell_type": "markdown",
   "id": "093d5314",
   "metadata": {
    "deletable": false,
    "editable": false,
    "id": "89da5ece"
   },
   "source": [
    "### Обработка аномальных значений"
   ]
  },
  {
   "cell_type": "markdown",
   "id": "d02a6e00",
   "metadata": {
    "deletable": false,
    "id": "57964554"
   },
   "source": [
    "**В данных могут встречаться артефакты (аномалии) — значения, которые не отражают действительность и появились по какой-то ошибке. таким артефактом будет отрицательное количество дней трудового стажа в столбце `days_employed`. Для реальных данных это нормально. Обработаем значения в этом столбце: заменим все отрицательные значения положительными с помощью метода `abs()`.**"
   ]
  },
  {
   "cell_type": "code",
   "execution_count": 7,
   "id": "4ac78800",
   "metadata": {
    "deletable": false,
    "id": "f6f055bf"
   },
   "outputs": [],
   "source": [
    "data['days_employed'] = data['days_employed'].abs()"
   ]
  },
  {
   "cell_type": "markdown",
   "id": "7ebfae2e",
   "metadata": {
    "deletable": false,
    "id": "6107dd2f"
   },
   "source": [
    "**Для каждого типа занятости выведем медианное значение трудового стажа `days_employed` в днях.**"
   ]
  },
  {
   "cell_type": "code",
   "execution_count": 8,
   "id": "f496329b",
   "metadata": {
    "deletable": false,
    "id": "85a5faf6",
    "outputId": "801ef80e-522b-4668-f34e-565af7432bcf"
   },
   "outputs": [
    {
     "data": {
      "text/plain": [
       "income_type\n",
       "безработный        366413.652744\n",
       "в декрете            3296.759962\n",
       "госслужащий          2689.368353\n",
       "компаньон            1547.382223\n",
       "пенсионер          365213.306266\n",
       "предприниматель       520.848083\n",
       "сотрудник            1574.202821\n",
       "студент               578.751554\n",
       "Name: days_employed, dtype: float64"
      ]
     },
     "execution_count": 8,
     "metadata": {},
     "output_type": "execute_result"
    }
   ],
   "source": [
    "data.groupby('income_type')['days_employed'].agg('median')"
   ]
  },
  {
   "cell_type": "markdown",
   "id": "d90fdf8c",
   "metadata": {
    "deletable": false,
    "id": "38d1a030"
   },
   "source": [
    "У двух типов (безработные и пенсионеры) получатся аномально большие значения. Исправить такие значения сложно, поэтому оставим их как есть. Тем более этот столбец не понадобится нам для исследования."
   ]
  },
  {
   "cell_type": "markdown",
   "id": "df45467c",
   "metadata": {
    "deletable": false,
    "id": "d8a9f147"
   },
   "source": [
    "**Выведем перечень уникальных значений столбца `children`.**"
   ]
  },
  {
   "cell_type": "code",
   "execution_count": 9,
   "id": "6ad52c7b",
   "metadata": {
    "deletable": false,
    "id": "ef5056eb",
    "outputId": "6975b15c-7f95-4697-d16d-a0c79b657b03"
   },
   "outputs": [
    {
     "data": {
      "text/plain": [
       "array([ 1,  0,  3,  2, -1,  4, 20,  5], dtype=int64)"
      ]
     },
     "execution_count": 9,
     "metadata": {},
     "output_type": "execute_result"
    }
   ],
   "source": [
    "data['children'].unique()"
   ]
  },
  {
   "cell_type": "markdown",
   "id": "a390a58a",
   "metadata": {
    "deletable": false,
    "id": "40b9ebf2"
   },
   "source": [
    "**В столбце `children` есть два аномальных значения. Удалим строки, в которых встречаются такие аномальные значения из датафрейма `data`.**"
   ]
  },
  {
   "cell_type": "code",
   "execution_count": 10,
   "id": "abba8180",
   "metadata": {
    "deletable": false,
    "id": "3ff9801d"
   },
   "outputs": [],
   "source": [
    "data = data[(data['children'] != -1) & (data['children'] != 20)]"
   ]
  },
  {
   "cell_type": "markdown",
   "id": "cf8faf92",
   "metadata": {
    "deletable": false,
    "id": "bbc4d0ce"
   },
   "source": [
    "**Ещё раз выведем перечень уникальных значений столбца `children`, чтобы убедиться, что артефакты удалены.**"
   ]
  },
  {
   "cell_type": "code",
   "execution_count": 11,
   "id": "c4f43dae",
   "metadata": {
    "deletable": false,
    "id": "ad4fa8b7",
    "outputId": "b2097101-d49d-44d9-901b-32a65c9463d1"
   },
   "outputs": [
    {
     "data": {
      "text/plain": [
       "array([1, 0, 3, 2, 4, 5], dtype=int64)"
      ]
     },
     "execution_count": 11,
     "metadata": {},
     "output_type": "execute_result"
    }
   ],
   "source": [
    "data['children'].unique()"
   ]
  },
  {
   "cell_type": "markdown",
   "id": "e906c020",
   "metadata": {
    "deletable": false,
    "editable": false,
    "id": "75440b63"
   },
   "source": [
    "### Удаление пропусков (продолжение)"
   ]
  },
  {
   "cell_type": "markdown",
   "id": "37ab307f",
   "metadata": {
    "deletable": false,
    "id": "f4ea573f"
   },
   "source": [
    "**Заполним пропуски в столбце `days_employed` медианными значениями по каждого типа занятости `income_type`.**"
   ]
  },
  {
   "cell_type": "code",
   "execution_count": 12,
   "id": "47f67990",
   "metadata": {
    "deletable": false,
    "id": "af6b1a7e"
   },
   "outputs": [],
   "source": [
    "for t in data['income_type'].unique():\n",
    "    data.loc[(data['income_type'] == t) & (data['days_employed'].isna()), 'days_employed'] = \\\n",
    "    data.loc[(data['income_type'] == t), 'days_employed'].median()"
   ]
  },
  {
   "cell_type": "markdown",
   "id": "ab031cbd",
   "metadata": {
    "deletable": false,
    "id": "2753f40d"
   },
   "source": [
    "**Убедимся, что все пропуски заполнены. Проверим себя и ещё раз выведем количество пропущенных значений для каждого столбца.**"
   ]
  },
  {
   "cell_type": "code",
   "execution_count": 13,
   "id": "c46e3da3",
   "metadata": {
    "deletable": false,
    "id": "55f78bc2",
    "outputId": "8da1e4e1-358e-4e87-98c9-f261bce0a7b2"
   },
   "outputs": [
    {
     "data": {
      "text/plain": [
       "children            0\n",
       "days_employed       0\n",
       "dob_years           0\n",
       "education           0\n",
       "education_id        0\n",
       "family_status       0\n",
       "family_status_id    0\n",
       "gender              0\n",
       "income_type         0\n",
       "debt                0\n",
       "total_income        0\n",
       "purpose             0\n",
       "dtype: int64"
      ]
     },
     "execution_count": 13,
     "metadata": {},
     "output_type": "execute_result"
    }
   ],
   "source": [
    "data.isna().sum()"
   ]
  },
  {
   "cell_type": "markdown",
   "id": "ab8810b2",
   "metadata": {
    "deletable": false,
    "editable": false,
    "id": "ddc81e43"
   },
   "source": [
    "### Изменение типов данных"
   ]
  },
  {
   "cell_type": "markdown",
   "id": "1c14d839",
   "metadata": {
    "deletable": false,
    "id": "42d19d24"
   },
   "source": [
    "**Заменим вещественный тип данных в столбце `total_income` на целочисленный с помощью метода `astype()`.**"
   ]
  },
  {
   "cell_type": "code",
   "execution_count": 14,
   "id": "190a6d12",
   "metadata": {
    "deletable": false,
    "id": "920b65ad"
   },
   "outputs": [],
   "source": [
    "data['total_income'] = data['total_income'].astype(int)"
   ]
  },
  {
   "cell_type": "markdown",
   "id": "21c6796a",
   "metadata": {
    "deletable": false,
    "editable": false,
    "id": "80c420ba"
   },
   "source": [
    "### Обработка дубликатов"
   ]
  },
  {
   "cell_type": "markdown",
   "id": "2c4f8f70",
   "metadata": {
    "deletable": false
   },
   "source": [
    "**Обработаем неявные дубликаты в столбце `education`. В этом столбце есть одни и те же значения, но записанные по-разному: с использованием заглавных и строчных букв. Приведем их к нижнему регистру.**"
   ]
  },
  {
   "cell_type": "code",
   "execution_count": 15,
   "id": "42c5231f",
   "metadata": {
    "deletable": false
   },
   "outputs": [],
   "source": [
    "data['education'] = data['education'].str.lower()"
   ]
  },
  {
   "cell_type": "markdown",
   "id": "ac99f211",
   "metadata": {
    "deletable": false,
    "id": "dc587695"
   },
   "source": [
    "**Выведем на экран количество строк-дубликатов в данных. Если такие строки присутствуют, удалим их.**"
   ]
  },
  {
   "cell_type": "code",
   "execution_count": 16,
   "id": "6e86c77f",
   "metadata": {
    "deletable": false,
    "id": "3ee445e4",
    "outputId": "9684deba-1934-42d1-99e1-cda61740f822"
   },
   "outputs": [
    {
     "data": {
      "text/plain": [
       "71"
      ]
     },
     "execution_count": 16,
     "metadata": {},
     "output_type": "execute_result"
    }
   ],
   "source": [
    "data.duplicated().sum()"
   ]
  },
  {
   "cell_type": "code",
   "execution_count": 17,
   "id": "fb93f812",
   "metadata": {
    "deletable": false,
    "id": "8575fe05"
   },
   "outputs": [],
   "source": [
    "data = data.drop_duplicates()"
   ]
  },
  {
   "cell_type": "markdown",
   "id": "67bc6a00",
   "metadata": {},
   "source": [
    "<div class=\"alert-info\" style=\"border-radius: 10px; box-shadow: 2px 2px 2px; border: 1px solid; padding: 10px\">\n",
    "<b></b>\n",
    "\n",
    "**Промежуточный вывод:** \n",
    "Мы выявили пропуски в столбцах с данными о стаже и доходе. Пропуски в доходах заполнили медианным значением по типу занятости клиентов. Обработали отрицательные значения по стажу заменив их на положительные и заполнили пропуски медианным значением также по типу занятости. Убедились что пропусков в данных больше нет. Изменили тип данных на количественные в столбце с доходом для дальнейших вычислений. Обработали дубликаты по столбцу образование и удалили их. **Теперь данные готовы для дальнейшего анализа.**\n",
    "    </div>"
   ]
  },
  {
   "cell_type": "markdown",
   "id": "0c72de0c",
   "metadata": {
    "deletable": false,
    "editable": false,
    "id": "9904cf55"
   },
   "source": [
    "### Категоризация данных"
   ]
  },
  {
   "cell_type": "markdown",
   "id": "3ffaf77e",
   "metadata": {
    "deletable": false,
    "id": "72fcc8a2"
   },
   "source": [
    "**На основании диапазонов, указанных ниже, создадим в датафрейме `data` столбец `total_income_category` с категориями:**\n",
    "\n",
    "- 0–30000 — `'E'`;\n",
    "- 30001–50000 — `'D'`;\n",
    "- 50001–200000 — `'C'`;\n",
    "- 200001–1000000 — `'B'`;\n",
    "- 1000001 и выше — `'A'`.\n",
    "\n",
    "\n",
    "**Например, кредитополучателю с доходом 25000 нужно назначить категорию `'E'`, а клиенту, получающему 235000, — `'B'`. Используем собственную функцию с именем `categorize_income()` и метод `apply()`.**"
   ]
  },
  {
   "cell_type": "code",
   "execution_count": 18,
   "id": "48ff765e",
   "metadata": {
    "deletable": false,
    "id": "e1771346"
   },
   "outputs": [],
   "source": [
    "def categorize_income(income):\n",
    "    try:\n",
    "        if 0 <= income <= 30000:\n",
    "            return 'E'\n",
    "        elif 30001 <= income <= 50000:\n",
    "            return 'D'\n",
    "        elif 50001 <= income <= 200000:\n",
    "            return 'C'\n",
    "        elif 200001 <= income <= 1000000:\n",
    "            return 'B'\n",
    "        elif income >= 1000001:\n",
    "            return 'A'\n",
    "    except:\n",
    "        pass"
   ]
  },
  {
   "cell_type": "code",
   "execution_count": 19,
   "id": "0c5ca5ae",
   "metadata": {
    "deletable": false,
    "id": "d5f3586d"
   },
   "outputs": [],
   "source": [
    "data['total_income_category'] = data['total_income'].apply(categorize_income)"
   ]
  },
  {
   "cell_type": "markdown",
   "id": "ff1916fc",
   "metadata": {
    "deletable": false,
    "id": "dde49b5c"
   },
   "source": [
    "**Выведем на экран перечень уникальных целей взятия кредита из столбца `purpose`.**"
   ]
  },
  {
   "cell_type": "code",
   "execution_count": 20,
   "id": "e6179cd1",
   "metadata": {
    "deletable": false,
    "id": "f67ce9b3",
    "outputId": "673c12d9-7d7e-4ae0-9812-c622c89dd244"
   },
   "outputs": [
    {
     "data": {
      "text/plain": [
       "array(['покупка жилья', 'приобретение автомобиля',\n",
       "       'дополнительное образование', 'сыграть свадьбу',\n",
       "       'операции с жильем', 'образование', 'на проведение свадьбы',\n",
       "       'покупка жилья для семьи', 'покупка недвижимости',\n",
       "       'покупка коммерческой недвижимости', 'покупка жилой недвижимости',\n",
       "       'строительство собственной недвижимости', 'недвижимость',\n",
       "       'строительство недвижимости', 'на покупку подержанного автомобиля',\n",
       "       'на покупку своего автомобиля',\n",
       "       'операции с коммерческой недвижимостью',\n",
       "       'строительство жилой недвижимости', 'жилье',\n",
       "       'операции со своей недвижимостью', 'автомобили',\n",
       "       'заняться образованием', 'сделка с подержанным автомобилем',\n",
       "       'получение образования', 'автомобиль', 'свадьба',\n",
       "       'получение дополнительного образования', 'покупка своего жилья',\n",
       "       'операции с недвижимостью', 'получение высшего образования',\n",
       "       'свой автомобиль', 'сделка с автомобилем',\n",
       "       'профильное образование', 'высшее образование',\n",
       "       'покупка жилья для сдачи', 'на покупку автомобиля', 'ремонт жилью',\n",
       "       'заняться высшим образованием'], dtype=object)"
      ]
     },
     "execution_count": 20,
     "metadata": {},
     "output_type": "execute_result"
    }
   ],
   "source": [
    "data['purpose'].unique()"
   ]
  },
  {
   "cell_type": "markdown",
   "id": "33f44a87",
   "metadata": {
    "deletable": false,
    "id": "85d0aef0"
   },
   "source": [
    "**Создадим функцию, которая на основании данных из столбца `purpose` сформирует новый столбец `purpose_category`, в который войдут следующие категории:**\n",
    "\n",
    "- `'операции с автомобилем'`,\n",
    "- `'операции с недвижимостью'`,\n",
    "- `'проведение свадьбы'`,\n",
    "- `'получение образования'`.\n",
    "\n",
    "**Например, если в столбце `purpose` находится подстрока `'на покупку автомобиля'`, то в столбце `purpose_category` должна появиться строка `'операции с автомобилем'`.**\n",
    "\n",
    "**Используем собственную функцию с именем `categorize_purpose()` и метод `apply()`. Изучим данные в столбце `purpose` и определим, какие подстроки помогут нам правильно определить категорию.**"
   ]
  },
  {
   "cell_type": "code",
   "execution_count": 21,
   "id": "5123ff4d",
   "metadata": {
    "deletable": false,
    "id": "e149fab4"
   },
   "outputs": [],
   "source": [
    "def categorize_purpose(row):\n",
    "    try:\n",
    "        if 'автом' in row:\n",
    "            return 'операции с автомобилем'\n",
    "        elif 'жил' in row or 'недвиж' in row:\n",
    "            return 'операции с недвижимостью'\n",
    "        elif 'свад' in row:\n",
    "            return 'проведение свадьбы'\n",
    "        elif 'образов' in row:\n",
    "            return 'получение образования'\n",
    "    except:\n",
    "        return 'нет категории'"
   ]
  },
  {
   "cell_type": "code",
   "execution_count": 22,
   "id": "5b3178c1",
   "metadata": {
    "deletable": false,
    "id": "bf36e69b"
   },
   "outputs": [],
   "source": [
    "data['purpose_category'] = data['purpose'].apply(categorize_purpose)"
   ]
  },
  {
   "cell_type": "markdown",
   "id": "6a00f178",
   "metadata": {},
   "source": [
    "<div class=\"alert-info\" style=\"border-radius: 10px; box-shadow: 2px 2px 2px; border: 1px solid; padding: 10px\">\n",
    "<b></b>\n",
    "\n",
    "**Промежуточный вывод:** \n",
    "Мы создали 2 новых столбца: категории клиентов, сгрупированные по уровню дохода и категории по цели взятия кредита. Эти данные будут необходимы для последующих вычислений.\n",
    "    </div>"
   ]
  },
  {
   "cell_type": "markdown",
   "id": "46bb475f",
   "metadata": {
    "deletable": false,
    "id": "09b242bf"
   },
   "source": [
    "## Исследуем данные и ответим на вопросы"
   ]
  },
  {
   "cell_type": "markdown",
   "id": "192ba5b9",
   "metadata": {
    "deletable": false,
    "id": "c5d66278"
   },
   "source": [
    "#### 1 Есть ли зависимость между количеством детей и возвратом кредита в срок?"
   ]
  },
  {
   "cell_type": "code",
   "execution_count": 23,
   "id": "d54383d7",
   "metadata": {
    "deletable": false,
    "id": "2cacfc4a"
   },
   "outputs": [
    {
     "data": {
      "text/html": [
       "<div>\n",
       "<style scoped>\n",
       "    .dataframe tbody tr th:only-of-type {\n",
       "        vertical-align: middle;\n",
       "    }\n",
       "\n",
       "    .dataframe tbody tr th {\n",
       "        vertical-align: top;\n",
       "    }\n",
       "\n",
       "    .dataframe thead tr th {\n",
       "        text-align: left;\n",
       "    }\n",
       "\n",
       "    .dataframe thead tr:last-of-type th {\n",
       "        text-align: right;\n",
       "    }\n",
       "</style>\n",
       "<table border=\"1\" class=\"dataframe\">\n",
       "  <thead>\n",
       "    <tr>\n",
       "      <th></th>\n",
       "      <th colspan=\"3\" halign=\"left\">debt</th>\n",
       "    </tr>\n",
       "    <tr>\n",
       "      <th></th>\n",
       "      <th>sum</th>\n",
       "      <th>count</th>\n",
       "      <th>mean</th>\n",
       "    </tr>\n",
       "    <tr>\n",
       "      <th>children</th>\n",
       "      <th></th>\n",
       "      <th></th>\n",
       "      <th></th>\n",
       "    </tr>\n",
       "  </thead>\n",
       "  <tbody>\n",
       "    <tr>\n",
       "      <th>0</th>\n",
       "      <td>1063</td>\n",
       "      <td>14091</td>\n",
       "      <td>0.075438</td>\n",
       "    </tr>\n",
       "    <tr>\n",
       "      <th>1</th>\n",
       "      <td>444</td>\n",
       "      <td>4808</td>\n",
       "      <td>0.092346</td>\n",
       "    </tr>\n",
       "    <tr>\n",
       "      <th>2</th>\n",
       "      <td>194</td>\n",
       "      <td>2052</td>\n",
       "      <td>0.094542</td>\n",
       "    </tr>\n",
       "    <tr>\n",
       "      <th>3</th>\n",
       "      <td>27</td>\n",
       "      <td>330</td>\n",
       "      <td>0.081818</td>\n",
       "    </tr>\n",
       "    <tr>\n",
       "      <th>4</th>\n",
       "      <td>4</td>\n",
       "      <td>41</td>\n",
       "      <td>0.097561</td>\n",
       "    </tr>\n",
       "    <tr>\n",
       "      <th>5</th>\n",
       "      <td>0</td>\n",
       "      <td>9</td>\n",
       "      <td>0.000000</td>\n",
       "    </tr>\n",
       "  </tbody>\n",
       "</table>\n",
       "</div>"
      ],
      "text/plain": [
       "          debt                 \n",
       "           sum  count      mean\n",
       "children                       \n",
       "0         1063  14091  0.075438\n",
       "1          444   4808  0.092346\n",
       "2          194   2052  0.094542\n",
       "3           27    330  0.081818\n",
       "4            4     41  0.097561\n",
       "5            0      9  0.000000"
      ]
     },
     "execution_count": 23,
     "metadata": {},
     "output_type": "execute_result"
    }
   ],
   "source": [
    "data_grouped_by_children = data.groupby(['children']).agg({'debt':['sum', 'count', 'mean']})\n",
    "data_grouped_by_children\n",
    "# группируем данные по количеству детей методом groupby(), \n",
    "# методу agg() передаем словарь, где ключ - столбец с данными о долгах, \n",
    "# а значение - агрегирующие функции: сумма, количество, среднее значение\n",
    "# Сумма - показывает сколько человек в группе имеет задолженность, \n",
    "# Количество - сколько человек в группе, \n",
    "# Среднее значение - отношение должников к общему количеству человек в группе"
   ]
  },
  {
   "cell_type": "markdown",
   "id": "d14b8d9a",
   "metadata": {
    "deletable": false,
    "id": "3a6b99ec"
   },
   "source": [
    "**Вывод:** \n",
    "Согласно проведенному анализу не вернули кредит в срок:\n",
    "- 7,5% заемщиков без детей, от их общего количества\n",
    "- 9,2% заемщиков с 1 ребенком,\n",
    "- 9,4% заемщиков с 2 детьми,\n",
    "- 8,1% заемщиков с 3 детьми, \n",
    "- 9,7% заемщиков с 4 детьми,\n",
    "- 0% заемщиков с 5 детьми.\n",
    "\n",
    "Количество заемщиков с 5 детьми всего 9 человек, тогда как общая их численность 21331 человек, поэтому эти данные не показательны. \n",
    "\n",
    "Данные по остальным группам варьируются в пределах от 7,5% до 9,7%, для заемщиков без детей и заемщиков с 4 детьми, соответственно. \n",
    "\n",
    "Сравнивая самые большие, сопоставимые по размеру категории заемщиков мы видим, что с увеличением количества детей увеличивается и риск не возврата кредита в срок.\n",
    "\n",
    "Таким образом, можно сделать вывод, что количество детей влияет платежеспособность клиентов."
   ]
  },
  {
   "cell_type": "markdown",
   "id": "e0385963",
   "metadata": {
    "deletable": false,
    "id": "97be82ca"
   },
   "source": [
    "#### 2 Есть ли зависимость между семейным положением и возвратом кредита в срок?"
   ]
  },
  {
   "cell_type": "code",
   "execution_count": 24,
   "id": "047e1eb4",
   "metadata": {
    "deletable": false,
    "id": "dc3f7ee8"
   },
   "outputs": [
    {
     "data": {
      "text/html": [
       "<div>\n",
       "<style scoped>\n",
       "    .dataframe tbody tr th:only-of-type {\n",
       "        vertical-align: middle;\n",
       "    }\n",
       "\n",
       "    .dataframe tbody tr th {\n",
       "        vertical-align: top;\n",
       "    }\n",
       "\n",
       "    .dataframe thead tr th {\n",
       "        text-align: left;\n",
       "    }\n",
       "\n",
       "    .dataframe thead tr:last-of-type th {\n",
       "        text-align: right;\n",
       "    }\n",
       "</style>\n",
       "<table border=\"1\" class=\"dataframe\">\n",
       "  <thead>\n",
       "    <tr>\n",
       "      <th></th>\n",
       "      <th colspan=\"3\" halign=\"left\">debt</th>\n",
       "    </tr>\n",
       "    <tr>\n",
       "      <th></th>\n",
       "      <th>sum</th>\n",
       "      <th>count</th>\n",
       "      <th>mean</th>\n",
       "    </tr>\n",
       "    <tr>\n",
       "      <th>family_status</th>\n",
       "      <th></th>\n",
       "      <th></th>\n",
       "      <th></th>\n",
       "    </tr>\n",
       "  </thead>\n",
       "  <tbody>\n",
       "    <tr>\n",
       "      <th>Не женат / не замужем</th>\n",
       "      <td>273</td>\n",
       "      <td>2796</td>\n",
       "      <td>0.097639</td>\n",
       "    </tr>\n",
       "    <tr>\n",
       "      <th>в разводе</th>\n",
       "      <td>84</td>\n",
       "      <td>1189</td>\n",
       "      <td>0.070648</td>\n",
       "    </tr>\n",
       "    <tr>\n",
       "      <th>вдовец / вдова</th>\n",
       "      <td>63</td>\n",
       "      <td>951</td>\n",
       "      <td>0.066246</td>\n",
       "    </tr>\n",
       "    <tr>\n",
       "      <th>гражданский брак</th>\n",
       "      <td>385</td>\n",
       "      <td>4134</td>\n",
       "      <td>0.093130</td>\n",
       "    </tr>\n",
       "    <tr>\n",
       "      <th>женат / замужем</th>\n",
       "      <td>927</td>\n",
       "      <td>12261</td>\n",
       "      <td>0.075606</td>\n",
       "    </tr>\n",
       "  </tbody>\n",
       "</table>\n",
       "</div>"
      ],
      "text/plain": [
       "                      debt                 \n",
       "                       sum  count      mean\n",
       "family_status                              \n",
       "Не женат / не замужем  273   2796  0.097639\n",
       "в разводе               84   1189  0.070648\n",
       "вдовец / вдова          63    951  0.066246\n",
       "гражданский брак       385   4134  0.093130\n",
       "женат / замужем        927  12261  0.075606"
      ]
     },
     "execution_count": 24,
     "metadata": {},
     "output_type": "execute_result"
    }
   ],
   "source": [
    "data_grouped_by_family_status = data.groupby(['family_status']).agg({'debt':['sum', 'count', 'mean']})\n",
    "data_grouped_by_family_status # группируем данные по семейному положению методом groupby() \n",
    "#методом agg() считаем должников, общее количество и долю должников в общем количестве заемщиков по соответствующей группе"
   ]
  },
  {
   "cell_type": "markdown",
   "id": "ca22369f",
   "metadata": {
    "deletable": false,
    "id": "1cef7837"
   },
   "source": [
    "**Вывод:** \n",
    "Меньше всего людей не вернувших кредит в срок в категории 'вдовец/вдова' - 6,6% от общего количества по группе, но и сама группа немногочисленна.\n",
    "Далее следует категория людей 'в разводе' - 7% должников, \n",
    "Категория людей 'женат/замужем' - 7,5% и это самая многочисленная группа (более половины всех заемщиков), \n",
    "В 'гражданском браке' риск не возврата составляет уже 9,3% \n",
    "И наибольший показатель в категории 'Не женат/не замужем' - 9,7%.\n",
    "Семейное положение тоже оказывает влияние на платежеспособность потенциальных заемщиков."
   ]
  },
  {
   "cell_type": "markdown",
   "id": "7bef4cb5",
   "metadata": {
    "deletable": false,
    "id": "1e8b2fca"
   },
   "source": [
    "#### 3 Есть ли зависимость между уровнем дохода и возвратом кредита в срок?"
   ]
  },
  {
   "cell_type": "code",
   "execution_count": 25,
   "id": "21c76f43",
   "metadata": {
    "deletable": false,
    "id": "cd7e3720"
   },
   "outputs": [
    {
     "data": {
      "text/html": [
       "<div>\n",
       "<style scoped>\n",
       "    .dataframe tbody tr th:only-of-type {\n",
       "        vertical-align: middle;\n",
       "    }\n",
       "\n",
       "    .dataframe tbody tr th {\n",
       "        vertical-align: top;\n",
       "    }\n",
       "\n",
       "    .dataframe thead tr th {\n",
       "        text-align: left;\n",
       "    }\n",
       "\n",
       "    .dataframe thead tr:last-of-type th {\n",
       "        text-align: right;\n",
       "    }\n",
       "</style>\n",
       "<table border=\"1\" class=\"dataframe\">\n",
       "  <thead>\n",
       "    <tr>\n",
       "      <th></th>\n",
       "      <th colspan=\"3\" halign=\"left\">debt</th>\n",
       "    </tr>\n",
       "    <tr>\n",
       "      <th></th>\n",
       "      <th>sum</th>\n",
       "      <th>count</th>\n",
       "      <th>mean</th>\n",
       "    </tr>\n",
       "    <tr>\n",
       "      <th>total_income_category</th>\n",
       "      <th></th>\n",
       "      <th></th>\n",
       "      <th></th>\n",
       "    </tr>\n",
       "  </thead>\n",
       "  <tbody>\n",
       "    <tr>\n",
       "      <th>A</th>\n",
       "      <td>2</td>\n",
       "      <td>25</td>\n",
       "      <td>0.080000</td>\n",
       "    </tr>\n",
       "    <tr>\n",
       "      <th>B</th>\n",
       "      <td>354</td>\n",
       "      <td>5014</td>\n",
       "      <td>0.070602</td>\n",
       "    </tr>\n",
       "    <tr>\n",
       "      <th>C</th>\n",
       "      <td>1353</td>\n",
       "      <td>15921</td>\n",
       "      <td>0.084982</td>\n",
       "    </tr>\n",
       "    <tr>\n",
       "      <th>D</th>\n",
       "      <td>21</td>\n",
       "      <td>349</td>\n",
       "      <td>0.060172</td>\n",
       "    </tr>\n",
       "    <tr>\n",
       "      <th>E</th>\n",
       "      <td>2</td>\n",
       "      <td>22</td>\n",
       "      <td>0.090909</td>\n",
       "    </tr>\n",
       "  </tbody>\n",
       "</table>\n",
       "</div>"
      ],
      "text/plain": [
       "                       debt                 \n",
       "                        sum  count      mean\n",
       "total_income_category                       \n",
       "A                         2     25  0.080000\n",
       "B                       354   5014  0.070602\n",
       "C                      1353  15921  0.084982\n",
       "D                        21    349  0.060172\n",
       "E                         2     22  0.090909"
      ]
     },
     "execution_count": 25,
     "metadata": {},
     "output_type": "execute_result"
    }
   ],
   "source": [
    "data_grouped_by_total_income = data.groupby(['total_income_category']).agg({'debt':['sum', 'count', 'mean']})\n",
    "data_grouped_by_total_income # группируем данные по категориям дохода."
   ]
  },
  {
   "cell_type": "markdown",
   "id": "0e7d893c",
   "metadata": {
    "deletable": false,
    "id": "e8593def"
   },
   "source": [
    "**Вывод:**  \n",
    "\n",
    "В самых малочисленных категориях А и Е (самый высокий доход -более 1 млн. и самый низкий доход-менее 30 тыс.) процент должников равен 8 и 9 соответственно, но следует обратить внимание на более многочисленные выборки это категории В и С.\n",
    "\n",
    "В категории В (доход от 200 тыс. до 1 млн.) не вернули кредит в срок 7%,\n",
    "\n",
    "В категории С (доход от 50 тыс. до 200 тыс.) не вернули кредит в срок 8,5%.\n",
    "\n",
    "Из чего следует вывод что чем выше уровень дохода у клиентов, тем меньше риск у банка и данные клиенты являются более надежными.\n"
   ]
  },
  {
   "cell_type": "markdown",
   "id": "331baedc",
   "metadata": {
    "deletable": false,
    "id": "99ecbd1f"
   },
   "source": [
    "#### 4 Как разные цели кредита влияют на его возврат в срок?"
   ]
  },
  {
   "cell_type": "code",
   "execution_count": 26,
   "id": "34d64e20",
   "metadata": {
    "deletable": false,
    "id": "2b687290"
   },
   "outputs": [
    {
     "data": {
      "text/html": [
       "<div>\n",
       "<style scoped>\n",
       "    .dataframe tbody tr th:only-of-type {\n",
       "        vertical-align: middle;\n",
       "    }\n",
       "\n",
       "    .dataframe tbody tr th {\n",
       "        vertical-align: top;\n",
       "    }\n",
       "\n",
       "    .dataframe thead tr th {\n",
       "        text-align: left;\n",
       "    }\n",
       "\n",
       "    .dataframe thead tr:last-of-type th {\n",
       "        text-align: right;\n",
       "    }\n",
       "</style>\n",
       "<table border=\"1\" class=\"dataframe\">\n",
       "  <thead>\n",
       "    <tr>\n",
       "      <th></th>\n",
       "      <th colspan=\"3\" halign=\"left\">debt</th>\n",
       "    </tr>\n",
       "    <tr>\n",
       "      <th></th>\n",
       "      <th>sum</th>\n",
       "      <th>count</th>\n",
       "      <th>mean</th>\n",
       "    </tr>\n",
       "    <tr>\n",
       "      <th>purpose_category</th>\n",
       "      <th></th>\n",
       "      <th></th>\n",
       "      <th></th>\n",
       "    </tr>\n",
       "  </thead>\n",
       "  <tbody>\n",
       "    <tr>\n",
       "      <th>операции с автомобилем</th>\n",
       "      <td>400</td>\n",
       "      <td>4279</td>\n",
       "      <td>0.093480</td>\n",
       "    </tr>\n",
       "    <tr>\n",
       "      <th>операции с недвижимостью</th>\n",
       "      <td>780</td>\n",
       "      <td>10751</td>\n",
       "      <td>0.072551</td>\n",
       "    </tr>\n",
       "    <tr>\n",
       "      <th>получение образования</th>\n",
       "      <td>369</td>\n",
       "      <td>3988</td>\n",
       "      <td>0.092528</td>\n",
       "    </tr>\n",
       "    <tr>\n",
       "      <th>проведение свадьбы</th>\n",
       "      <td>183</td>\n",
       "      <td>2313</td>\n",
       "      <td>0.079118</td>\n",
       "    </tr>\n",
       "  </tbody>\n",
       "</table>\n",
       "</div>"
      ],
      "text/plain": [
       "                         debt                 \n",
       "                          sum  count      mean\n",
       "purpose_category                              \n",
       "операции с автомобилем    400   4279  0.093480\n",
       "операции с недвижимостью  780  10751  0.072551\n",
       "получение образования     369   3988  0.092528\n",
       "проведение свадьбы        183   2313  0.079118"
      ]
     },
     "execution_count": 26,
     "metadata": {},
     "output_type": "execute_result"
    }
   ],
   "source": [
    "data_grouped_by_purpose = data.groupby(['purpose_category']).agg({'debt':['sum', 'count', 'mean']})\n",
    "data_grouped_by_purpose # группируем данные по цели кредита."
   ]
  },
  {
   "cell_type": "markdown",
   "id": "bcde5d7e",
   "metadata": {
    "deletable": false,
    "id": "b4bb2ce6"
   },
   "source": [
    "**Вывод:** \n",
    "Самый высокий показатель не возврата кредита в срок на цели операций с автомобилем - 9,3%,\n",
    "С целью получения образования - 9,2%,\n",
    "С целью проведения свадьбы - 7,9%\n",
    "И самый низкий показатель на цели операций с недвижимостью - 7,2%, и данная группа составляет около половины всех кредитов."
   ]
  },
  {
   "cell_type": "markdown",
   "id": "c177b8cc",
   "metadata": {
    "deletable": false,
    "id": "09c3ac4c"
   },
   "source": [
    "#### 5 Приведем возможные причины появления пропусков в исходных данных."
   ]
  },
  {
   "cell_type": "markdown",
   "id": "e8d2d91c",
   "metadata": {
    "deletable": false,
    "id": "9da2ceda"
   },
   "source": [
    "Пропуски в данных были по двум столбцам: стаж работы и уровень дохода, возможными причинами могут быть простая ошибка ввода данных, технические ошибки, которые могут возникать во время копирования, считывания или записи данных, изменения формата файла или же сознательное неуказание информации, люди могут быть официально не трудоустроены и не могут подтвердить свой доход и стаж."
   ]
  },
  {
   "cell_type": "markdown",
   "id": "d856a512",
   "metadata": {
    "deletable": false,
    "id": "7b0487d6"
   },
   "source": [
    "#### 6 Объясним, почему заполнить пропуски медианным значением — лучшее решение для количественных переменных."
   ]
  },
  {
   "cell_type": "markdown",
   "id": "a96741ca",
   "metadata": {
    "deletable": false,
    "id": "7ecf2b8e"
   },
   "source": [
    "Когда в количественных данных есть значительные различия, запонение пропусков средним значением может исказить результаты иследования, лучше использовать медианное значение для отражения более верной картины."
   ]
  },
  {
   "cell_type": "markdown",
   "id": "4f4ca49c",
   "metadata": {
    "deletable": false,
    "id": "6db5255a"
   },
   "source": [
    "### Общий вывод."
   ]
  },
  {
   "cell_type": "markdown",
   "id": "b4e5359f",
   "metadata": {
    "deletable": false,
    "id": "bad65432"
   },
   "source": [
    "**Мы проанализировали входные данные от банка - информацию о платежеспособности клиентов.** \n",
    "\n",
    "На этапе предобработки были выявлены несколько отклонений, которые необходимо было устранить для корректного отображения результатов иследования, а именно:\n",
    "\n",
    "- пропуски;\n",
    "- аномальные значения;\n",
    "- дубликаты;\n",
    "- некоррректный тип данных.\n",
    "\n",
    "**Далее были выявлены следующие зависимости:**\n",
    "1) Чем больше у клиентов детей, тем выше риск не возврата кредита в срок;\n",
    "\n",
    "2) Состоящие или состоявшие в браке заемщики реже допускают просрочки;\n",
    "\n",
    "3) Чем выше уровень дохода у клиентов, тем меньше риск у банка и данные клиенты являются более надежными;\n",
    "\n",
    "4) По цели кредита самыми проблемными выглядят автокредиты и кредиты на образование.\n",
    "\n",
    "**На основании вышеизложенного мы предлагаем следующие рекомендации:**\n",
    "\n",
    "Чтобы улучшить качество сбора данных необходимо обращать внимание на обязательное и корректное заполнение информации о доходах клиентов и стаже работы, использовать нужный тип данных и стандартную форму заполнения для избежания дубликатов.\n",
    "\n",
    "При построении модели кредитного скоринга необходимо учитывать выявленные зависимости для оценки платежеспособности клиентов.\n"
   ]
  }
 ],
 "metadata": {
  "ExecuteTimeLog": [
   {
    "duration": 48,
    "start_time": "2023-01-09T14:27:32.741Z"
   },
   {
    "duration": 7,
    "start_time": "2023-01-09T14:28:08.414Z"
   },
   {
    "duration": 551,
    "start_time": "2023-01-09T14:28:54.948Z"
   },
   {
    "duration": 26,
    "start_time": "2023-01-09T14:28:55.501Z"
   },
   {
    "duration": 15,
    "start_time": "2023-01-09T14:28:55.529Z"
   },
   {
    "duration": 15,
    "start_time": "2023-01-09T14:28:55.545Z"
   },
   {
    "duration": 42,
    "start_time": "2023-01-09T14:28:55.562Z"
   },
   {
    "duration": 3,
    "start_time": "2023-01-09T14:28:55.606Z"
   },
   {
    "duration": 15,
    "start_time": "2023-01-09T14:28:55.611Z"
   },
   {
    "duration": 4,
    "start_time": "2023-01-09T14:28:55.628Z"
   },
   {
    "duration": 10,
    "start_time": "2023-01-09T14:28:55.633Z"
   },
   {
    "duration": 4,
    "start_time": "2023-01-09T14:28:55.646Z"
   },
   {
    "duration": 68,
    "start_time": "2023-01-09T14:28:55.651Z"
   },
   {
    "duration": 11,
    "start_time": "2023-01-09T14:28:55.720Z"
   },
   {
    "duration": 4,
    "start_time": "2023-01-09T14:28:55.733Z"
   },
   {
    "duration": 14,
    "start_time": "2023-01-09T14:28:55.738Z"
   },
   {
    "duration": 40,
    "start_time": "2023-01-09T14:28:55.753Z"
   },
   {
    "duration": 15,
    "start_time": "2023-01-09T14:28:55.795Z"
   },
   {
    "duration": 4,
    "start_time": "2023-01-09T14:28:55.811Z"
   },
   {
    "duration": 12,
    "start_time": "2023-01-09T14:28:55.816Z"
   },
   {
    "duration": 5,
    "start_time": "2023-01-09T14:28:55.830Z"
   },
   {
    "duration": 5,
    "start_time": "2023-01-09T14:28:55.836Z"
   },
   {
    "duration": 36,
    "start_time": "2023-01-09T14:28:55.843Z"
   },
   {
    "duration": 37,
    "start_time": "2023-01-09T14:29:14.998Z"
   },
   {
    "duration": 45,
    "start_time": "2023-01-09T14:37:30.525Z"
   },
   {
    "duration": 17,
    "start_time": "2023-01-09T14:41:16.863Z"
   },
   {
    "duration": 23,
    "start_time": "2023-01-09T14:42:24.455Z"
   },
   {
    "duration": 42,
    "start_time": "2023-01-09T14:53:16.149Z"
   },
   {
    "duration": 44,
    "start_time": "2023-01-09T14:53:28.740Z"
   },
   {
    "duration": 14,
    "start_time": "2023-01-09T14:54:58.345Z"
   },
   {
    "duration": 9,
    "start_time": "2023-01-09T14:55:29.812Z"
   },
   {
    "duration": 9,
    "start_time": "2023-01-09T14:56:12.710Z"
   },
   {
    "duration": 17,
    "start_time": "2023-01-09T14:59:59.798Z"
   },
   {
    "duration": 18,
    "start_time": "2023-01-09T15:02:01.728Z"
   },
   {
    "duration": 13,
    "start_time": "2023-01-09T15:02:51.852Z"
   },
   {
    "duration": 9,
    "start_time": "2023-01-09T15:02:59.899Z"
   },
   {
    "duration": 13,
    "start_time": "2023-01-09T15:03:07.819Z"
   },
   {
    "duration": 9,
    "start_time": "2023-01-09T15:08:39.761Z"
   },
   {
    "duration": 12,
    "start_time": "2023-01-09T15:08:49.268Z"
   },
   {
    "duration": 35,
    "start_time": "2023-01-09T15:22:00.457Z"
   },
   {
    "duration": 20,
    "start_time": "2023-01-09T15:23:39.067Z"
   },
   {
    "duration": 11,
    "start_time": "2023-01-09T15:23:54.478Z"
   },
   {
    "duration": 10,
    "start_time": "2023-01-09T15:27:22.779Z"
   },
   {
    "duration": 10,
    "start_time": "2023-01-09T15:27:50.649Z"
   },
   {
    "duration": 12,
    "start_time": "2023-01-09T15:28:12.926Z"
   },
   {
    "duration": 1066,
    "start_time": "2023-01-09T15:31:21.027Z"
   },
   {
    "duration": 814,
    "start_time": "2023-01-09T15:31:41.252Z"
   },
   {
    "duration": 20,
    "start_time": "2023-01-09T15:33:16.618Z"
   },
   {
    "duration": 14,
    "start_time": "2023-01-09T16:28:39.704Z"
   },
   {
    "duration": 22,
    "start_time": "2023-01-09T16:55:06.659Z"
   },
   {
    "duration": 14,
    "start_time": "2023-01-09T16:57:22.869Z"
   },
   {
    "duration": 45,
    "start_time": "2023-01-09T17:01:37.881Z"
   },
   {
    "duration": 12,
    "start_time": "2023-01-09T17:01:57.397Z"
   },
   {
    "duration": 14,
    "start_time": "2023-01-09T17:26:54.588Z"
   },
   {
    "duration": 55,
    "start_time": "2023-01-10T13:12:10.248Z"
   },
   {
    "duration": 748,
    "start_time": "2023-01-10T13:12:21.977Z"
   },
   {
    "duration": 25,
    "start_time": "2023-01-10T13:12:22.728Z"
   },
   {
    "duration": 16,
    "start_time": "2023-01-10T13:12:22.755Z"
   },
   {
    "duration": 11,
    "start_time": "2023-01-10T13:12:22.773Z"
   },
   {
    "duration": 52,
    "start_time": "2023-01-10T13:12:22.786Z"
   },
   {
    "duration": 4,
    "start_time": "2023-01-10T13:12:22.841Z"
   },
   {
    "duration": 17,
    "start_time": "2023-01-10T13:12:22.847Z"
   },
   {
    "duration": 11,
    "start_time": "2023-01-10T13:12:22.866Z"
   },
   {
    "duration": 10,
    "start_time": "2023-01-10T13:12:22.879Z"
   },
   {
    "duration": 5,
    "start_time": "2023-01-10T13:12:22.912Z"
   },
   {
    "duration": 74,
    "start_time": "2023-01-10T13:12:22.919Z"
   },
   {
    "duration": 15,
    "start_time": "2023-01-10T13:12:22.995Z"
   },
   {
    "duration": 5,
    "start_time": "2023-01-10T13:12:23.013Z"
   },
   {
    "duration": 21,
    "start_time": "2023-01-10T13:12:23.020Z"
   },
   {
    "duration": 29,
    "start_time": "2023-01-10T13:12:23.043Z"
   },
   {
    "duration": 37,
    "start_time": "2023-01-10T13:12:23.074Z"
   },
   {
    "duration": 5,
    "start_time": "2023-01-10T13:12:23.113Z"
   },
   {
    "duration": 23,
    "start_time": "2023-01-10T13:12:23.120Z"
   },
   {
    "duration": 15,
    "start_time": "2023-01-10T13:12:23.146Z"
   },
   {
    "duration": 8,
    "start_time": "2023-01-10T13:12:23.163Z"
   },
   {
    "duration": 18,
    "start_time": "2023-01-10T13:12:23.174Z"
   },
   {
    "duration": 34,
    "start_time": "2023-01-10T13:12:23.194Z"
   },
   {
    "duration": 22,
    "start_time": "2023-01-10T13:12:23.230Z"
   },
   {
    "duration": 21,
    "start_time": "2023-01-10T13:12:23.254Z"
   },
   {
    "duration": 55,
    "start_time": "2023-01-10T13:12:23.278Z"
   },
   {
    "duration": 27,
    "start_time": "2023-01-10T13:12:30.962Z"
   },
   {
    "duration": 21,
    "start_time": "2023-01-10T13:14:40.041Z"
   },
   {
    "duration": 31,
    "start_time": "2023-01-10T13:20:57.794Z"
   },
   {
    "duration": 23,
    "start_time": "2023-01-10T13:24:24.996Z"
   },
   {
    "duration": 28,
    "start_time": "2023-01-10T13:28:31.563Z"
   },
   {
    "duration": 51,
    "start_time": "2023-01-10T13:29:46.140Z"
   },
   {
    "duration": 34,
    "start_time": "2023-01-10T13:36:46.817Z"
   },
   {
    "duration": 35,
    "start_time": "2023-01-10T13:53:29.591Z"
   },
   {
    "duration": 31,
    "start_time": "2023-01-10T13:54:27.998Z"
   },
   {
    "duration": 23,
    "start_time": "2023-01-10T13:54:48.788Z"
   },
   {
    "duration": 44,
    "start_time": "2023-01-10T14:06:02.371Z"
   },
   {
    "duration": 18,
    "start_time": "2023-01-10T14:06:30.475Z"
   },
   {
    "duration": 28,
    "start_time": "2023-01-10T14:06:49.708Z"
   },
   {
    "duration": 33,
    "start_time": "2023-01-10T14:08:08.219Z"
   },
   {
    "duration": 23,
    "start_time": "2023-01-10T14:08:26.808Z"
   },
   {
    "duration": 64,
    "start_time": "2023-01-10T14:09:31.125Z"
   },
   {
    "duration": 482,
    "start_time": "2023-01-10T17:08:50.886Z"
   },
   {
    "duration": 22,
    "start_time": "2023-01-10T17:08:51.370Z"
   },
   {
    "duration": 14,
    "start_time": "2023-01-10T17:08:51.393Z"
   },
   {
    "duration": 11,
    "start_time": "2023-01-10T17:08:51.412Z"
   },
   {
    "duration": 32,
    "start_time": "2023-01-10T17:08:51.425Z"
   },
   {
    "duration": 4,
    "start_time": "2023-01-10T17:08:51.458Z"
   },
   {
    "duration": 17,
    "start_time": "2023-01-10T17:08:51.464Z"
   },
   {
    "duration": 6,
    "start_time": "2023-01-10T17:08:51.482Z"
   },
   {
    "duration": 23,
    "start_time": "2023-01-10T17:08:51.490Z"
   },
   {
    "duration": 6,
    "start_time": "2023-01-10T17:08:51.515Z"
   },
   {
    "duration": 35,
    "start_time": "2023-01-10T17:08:51.522Z"
   },
   {
    "duration": 9,
    "start_time": "2023-01-10T17:08:51.558Z"
   },
   {
    "duration": 9,
    "start_time": "2023-01-10T17:08:51.568Z"
   },
   {
    "duration": 20,
    "start_time": "2023-01-10T17:08:51.578Z"
   },
   {
    "duration": 25,
    "start_time": "2023-01-10T17:08:51.600Z"
   },
   {
    "duration": 16,
    "start_time": "2023-01-10T17:08:51.626Z"
   },
   {
    "duration": 3,
    "start_time": "2023-01-10T17:08:51.644Z"
   },
   {
    "duration": 12,
    "start_time": "2023-01-10T17:08:51.648Z"
   },
   {
    "duration": 10,
    "start_time": "2023-01-10T17:08:51.662Z"
   },
   {
    "duration": 19,
    "start_time": "2023-01-10T17:08:51.673Z"
   },
   {
    "duration": 19,
    "start_time": "2023-01-10T17:08:51.694Z"
   },
   {
    "duration": 14,
    "start_time": "2023-01-10T17:08:51.714Z"
   },
   {
    "duration": 13,
    "start_time": "2023-01-10T17:08:51.729Z"
   },
   {
    "duration": 12,
    "start_time": "2023-01-10T17:08:51.744Z"
   },
   {
    "duration": 13,
    "start_time": "2023-01-10T17:08:51.757Z"
   },
   {
    "duration": 78,
    "start_time": "2023-01-10T17:08:51.771Z"
   },
   {
    "duration": 381,
    "start_time": "2023-01-11T14:14:58.566Z"
   },
   {
    "duration": 132,
    "start_time": "2023-01-11T14:14:59.220Z"
   },
   {
    "duration": 418,
    "start_time": "2023-01-12T07:16:42.817Z"
   },
   {
    "duration": 77,
    "start_time": "2023-01-12T07:16:43.237Z"
   },
   {
    "duration": 22,
    "start_time": "2023-01-12T07:16:43.319Z"
   },
   {
    "duration": 25,
    "start_time": "2023-01-12T07:16:43.344Z"
   },
   {
    "duration": 31,
    "start_time": "2023-01-12T07:16:43.371Z"
   },
   {
    "duration": 62,
    "start_time": "2023-01-12T07:16:43.404Z"
   },
   {
    "duration": 9,
    "start_time": "2023-01-12T07:16:43.468Z"
   },
   {
    "duration": 62,
    "start_time": "2023-01-12T07:16:43.478Z"
   },
   {
    "duration": 23,
    "start_time": "2023-01-12T07:16:43.542Z"
   },
   {
    "duration": 74,
    "start_time": "2023-01-12T07:16:43.566Z"
   },
   {
    "duration": 59,
    "start_time": "2023-01-12T07:16:43.642Z"
   },
   {
    "duration": 75,
    "start_time": "2023-01-12T07:16:43.703Z"
   },
   {
    "duration": 22,
    "start_time": "2023-01-12T07:16:43.779Z"
   },
   {
    "duration": 35,
    "start_time": "2023-01-12T07:16:43.805Z"
   },
   {
    "duration": 48,
    "start_time": "2023-01-12T07:16:43.842Z"
   },
   {
    "duration": 54,
    "start_time": "2023-01-12T07:16:43.891Z"
   },
   {
    "duration": 28,
    "start_time": "2023-01-12T07:16:43.947Z"
   },
   {
    "duration": 15,
    "start_time": "2023-01-12T07:16:43.978Z"
   },
   {
    "duration": 39,
    "start_time": "2023-01-12T07:16:43.994Z"
   },
   {
    "duration": 61,
    "start_time": "2023-01-12T07:16:44.035Z"
   },
   {
    "duration": 22,
    "start_time": "2023-01-12T07:16:44.098Z"
   },
   {
    "duration": 41,
    "start_time": "2023-01-12T07:16:44.121Z"
   },
   {
    "duration": 24,
    "start_time": "2023-01-12T07:16:44.163Z"
   },
   {
    "duration": 12,
    "start_time": "2023-01-12T07:16:44.188Z"
   },
   {
    "duration": 21,
    "start_time": "2023-01-12T07:16:44.202Z"
   },
   {
    "duration": 17,
    "start_time": "2023-01-12T07:16:44.224Z"
   },
   {
    "duration": 47,
    "start_time": "2023-01-12T07:16:44.242Z"
   },
   {
    "duration": 398,
    "start_time": "2023-01-12T07:28:00.869Z"
   },
   {
    "duration": 78,
    "start_time": "2023-01-12T07:28:01.269Z"
   },
   {
    "duration": 21,
    "start_time": "2023-01-12T07:28:01.349Z"
   },
   {
    "duration": 43,
    "start_time": "2023-01-12T07:28:01.373Z"
   },
   {
    "duration": 43,
    "start_time": "2023-01-12T07:28:01.418Z"
   },
   {
    "duration": 65,
    "start_time": "2023-01-12T07:28:01.463Z"
   },
   {
    "duration": 48,
    "start_time": "2023-01-12T07:28:01.530Z"
   },
   {
    "duration": 84,
    "start_time": "2023-01-12T07:28:01.580Z"
   },
   {
    "duration": 55,
    "start_time": "2023-01-12T07:28:01.665Z"
   },
   {
    "duration": 21,
    "start_time": "2023-01-12T07:28:01.723Z"
   },
   {
    "duration": 19,
    "start_time": "2023-01-12T07:28:01.745Z"
   },
   {
    "duration": 82,
    "start_time": "2023-01-12T07:28:01.765Z"
   },
   {
    "duration": 28,
    "start_time": "2023-01-12T07:28:01.848Z"
   },
   {
    "duration": 22,
    "start_time": "2023-01-12T07:28:01.877Z"
   },
   {
    "duration": 33,
    "start_time": "2023-01-12T07:28:01.900Z"
   },
   {
    "duration": 38,
    "start_time": "2023-01-12T07:28:01.935Z"
   },
   {
    "duration": 41,
    "start_time": "2023-01-12T07:28:01.975Z"
   },
   {
    "duration": 18,
    "start_time": "2023-01-12T07:28:02.018Z"
   },
   {
    "duration": 59,
    "start_time": "2023-01-12T07:28:02.038Z"
   },
   {
    "duration": 48,
    "start_time": "2023-01-12T07:28:02.098Z"
   },
   {
    "duration": 36,
    "start_time": "2023-01-12T07:28:02.148Z"
   },
   {
    "duration": 48,
    "start_time": "2023-01-12T07:28:02.186Z"
   },
   {
    "duration": 37,
    "start_time": "2023-01-12T07:28:02.236Z"
   },
   {
    "duration": 43,
    "start_time": "2023-01-12T07:28:02.274Z"
   },
   {
    "duration": 24,
    "start_time": "2023-01-12T07:28:02.321Z"
   },
   {
    "duration": 25,
    "start_time": "2023-01-12T07:28:02.347Z"
   },
   {
    "duration": 54,
    "start_time": "2023-01-12T07:28:02.373Z"
   }
  ],
  "celltoolbar": "Необработанный формат ячейки",
  "colab": {
   "name": "dpp_template_part2.ipynb",
   "provenance": []
  },
  "kernelspec": {
   "display_name": "Python 3 (ipykernel)",
   "language": "python",
   "name": "python3"
  },
  "language_info": {
   "codemirror_mode": {
    "name": "ipython",
    "version": 3
   },
   "file_extension": ".py",
   "mimetype": "text/x-python",
   "name": "python",
   "nbconvert_exporter": "python",
   "pygments_lexer": "ipython3",
   "version": "3.9.13"
  },
  "toc": {
   "base_numbering": 1,
   "nav_menu": {
    "height": "332px",
    "width": "484px"
   },
   "number_sections": true,
   "sideBar": true,
   "skip_h1_title": true,
   "title_cell": "Table of Contents",
   "title_sidebar": "Contents",
   "toc_cell": false,
   "toc_position": {},
   "toc_section_display": true,
   "toc_window_display": false
  }
 },
 "nbformat": 4,
 "nbformat_minor": 5
}
