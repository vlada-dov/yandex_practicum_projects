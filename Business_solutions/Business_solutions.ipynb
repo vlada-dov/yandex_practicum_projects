{
 "cells": [
  {
   "cell_type": "markdown",
   "metadata": {},
   "source": [
    "# Принятие решений в бизнесе\n",
    "\n",
    "Для крупного интернет-магазина аналитиком вместе с отделом маркетинга подготовлен список гипотез для увеличения выручки.\n",
    "\n",
    "**Наши задачи:**  \n",
    "- приоритизировать гипотезы, \n",
    "- запустить A/B-тест,\n",
    "- принять решение по результатам теста. \n",
    "\n",
    "**Описание данных**\n",
    "\n",
    "Данные для первой части:\n",
    "\n",
    "*Файл /datasets/hypothesis.csv.* \n",
    "\n",
    "- Hypothesis — краткое описание гипотезы;\n",
    "- Reach — охват пользователей по 10-балльной шкале;\n",
    "- Impact — влияние на пользователей по 10-балльной шкале;\n",
    "- Confidence — уверенность в гипотезе по 10-балльной шкале;\n",
    "- Efforts — затраты ресурсов на проверку гипотезы по 10-балльной шкале. Чем больше значение Efforts, тем дороже проверка гипотезы.\n",
    "\n",
    "Данные для второй части:\n",
    "\n",
    "*Файл /datasets/orders.csv.*\n",
    "\n",
    "- transactionId — идентификатор заказа;\n",
    "- visitorId — идентификатор пользователя, совершившего заказ;\n",
    "- date — дата, когда был совершён заказ;\n",
    "- revenue — выручка заказа;\n",
    "- group — группа A/B-теста, в которую попал заказ.\n",
    "\n",
    "*Файл /datasets/visitors.csv.*\n",
    "- date — дата;\n",
    "- group — группа A/B-теста;\n",
    "- visitors — количество пользователей в указанную дату в указанной группе A/B-теста\n",
    "\n",
    "**План работы**\n",
    "\n",
    "*Часть 1. Приоритизация гипотез.*\n",
    "\n",
    "- Применим фреймворки ICE и RICE для приоритизации гипотез. \n",
    "- Посмотрим как изменилась приоритизация гипотез, проанализируем результаты.\n",
    "\n",
    "*Часть 2. Анализ A/B-теста*\n",
    "\n",
    "- Построим графики кумулятивной выручки, кумулятивного среднего чека и кумулятивного среднего количества заказов на посетителя по группам. \n",
    "- Посмотрим на графики относительного изменения кумулятивного среднего чека группы B к группе A и относительного изменения кумулятивного среднего количества заказов на посетителя, сделаем выводы и предположения.\n",
    "- Построим точечный график количества заказов по пользователям и точечный график стоимостей заказов, посчитаем 95-й и 99-й перцентили и выберем границу для определения аномальных пользователей и среза.\n",
    "- Посчитаем статистическую значимость различий в среднем количестве заказов на посетителя и в среднем чеке заказа между группами по «сырым» данным. \n",
    "- Посчитаем статистическую значимость различий по тем же показателям между группами по «очищенным» данным. \n",
    "- Сделаем выводы и предположения.\n",
    "- Примем решение по результатам теста."
   ]
  },
  {
   "cell_type": "markdown",
   "metadata": {},
   "source": [
    "### Загрузка данных и подготовка их к анализу"
   ]
  },
  {
   "cell_type": "code",
   "execution_count": 1,
   "metadata": {},
   "outputs": [],
   "source": [
    "import pandas as pd\n",
    "import numpy as np\n",
    "from datetime import datetime, timedelta\n",
    "from matplotlib import pyplot as plt"
   ]
  },
  {
   "cell_type": "code",
   "execution_count": 2,
   "metadata": {},
   "outputs": [],
   "source": [
    "try:\n",
    "    hypothesis = pd.read_csv('/datasets/hypothesis.csv')\n",
    "    visitors = pd.read_csv('/datasets/visitors.csv')\n",
    "    orders = pd.read_csv('/datasets/orders.csv')\n",
    "except:\n",
    "    hypothesis = pd.read_csv('https://code.s3.yandex.net/datasets/hypothesis.csv')\n",
    "    visitors = pd.read_csv('https://code.s3.yandex.net/datasets/visitors.csv')\n",
    "    orders = pd.read_csv('https://code.s3.yandex.net/datasets/orders.csv')"
   ]
  },
  {
   "cell_type": "code",
   "execution_count": 3,
   "metadata": {},
   "outputs": [],
   "source": [
    "#отобразим все сожержимое строк\n",
    "\n",
    "pd.set_option('display.max_colwidth', None)"
   ]
  },
  {
   "cell_type": "code",
   "execution_count": 4,
   "metadata": {},
   "outputs": [
    {
     "data": {
      "text/html": [
       "<div>\n",
       "<style scoped>\n",
       "    .dataframe tbody tr th:only-of-type {\n",
       "        vertical-align: middle;\n",
       "    }\n",
       "\n",
       "    .dataframe tbody tr th {\n",
       "        vertical-align: top;\n",
       "    }\n",
       "\n",
       "    .dataframe thead th {\n",
       "        text-align: right;\n",
       "    }\n",
       "</style>\n",
       "<table border=\"1\" class=\"dataframe\">\n",
       "  <thead>\n",
       "    <tr style=\"text-align: right;\">\n",
       "      <th></th>\n",
       "      <th>Hypothesis</th>\n",
       "      <th>Reach</th>\n",
       "      <th>Impact</th>\n",
       "      <th>Confidence</th>\n",
       "      <th>Efforts</th>\n",
       "    </tr>\n",
       "  </thead>\n",
       "  <tbody>\n",
       "    <tr>\n",
       "      <th>0</th>\n",
       "      <td>Добавить два новых канала привлечения трафика, что позволит привлекать на 30% больше пользователей</td>\n",
       "      <td>3</td>\n",
       "      <td>10</td>\n",
       "      <td>8</td>\n",
       "      <td>6</td>\n",
       "    </tr>\n",
       "    <tr>\n",
       "      <th>1</th>\n",
       "      <td>Запустить собственную службу доставки, что сократит срок доставки заказов</td>\n",
       "      <td>2</td>\n",
       "      <td>5</td>\n",
       "      <td>4</td>\n",
       "      <td>10</td>\n",
       "    </tr>\n",
       "    <tr>\n",
       "      <th>2</th>\n",
       "      <td>Добавить блоки рекомендаций товаров на сайт интернет магазина, чтобы повысить конверсию и средний чек заказа</td>\n",
       "      <td>8</td>\n",
       "      <td>3</td>\n",
       "      <td>7</td>\n",
       "      <td>3</td>\n",
       "    </tr>\n",
       "    <tr>\n",
       "      <th>3</th>\n",
       "      <td>Изменить структура категорий, что увеличит конверсию, т.к. пользователи быстрее найдут нужный товар</td>\n",
       "      <td>8</td>\n",
       "      <td>3</td>\n",
       "      <td>3</td>\n",
       "      <td>8</td>\n",
       "    </tr>\n",
       "    <tr>\n",
       "      <th>4</th>\n",
       "      <td>Изменить цвет фона главной страницы, чтобы увеличить вовлеченность пользователей</td>\n",
       "      <td>3</td>\n",
       "      <td>1</td>\n",
       "      <td>1</td>\n",
       "      <td>1</td>\n",
       "    </tr>\n",
       "  </tbody>\n",
       "</table>\n",
       "</div>"
      ],
      "text/plain": [
       "                                                                                                     Hypothesis  \\\n",
       "0            Добавить два новых канала привлечения трафика, что позволит привлекать на 30% больше пользователей   \n",
       "1                                     Запустить собственную службу доставки, что сократит срок доставки заказов   \n",
       "2  Добавить блоки рекомендаций товаров на сайт интернет магазина, чтобы повысить конверсию и средний чек заказа   \n",
       "3           Изменить структура категорий, что увеличит конверсию, т.к. пользователи быстрее найдут нужный товар   \n",
       "4                              Изменить цвет фона главной страницы, чтобы увеличить вовлеченность пользователей   \n",
       "\n",
       "   Reach  Impact  Confidence  Efforts  \n",
       "0      3      10           8        6  \n",
       "1      2       5           4       10  \n",
       "2      8       3           7        3  \n",
       "3      8       3           3        8  \n",
       "4      3       1           1        1  "
      ]
     },
     "metadata": {},
     "output_type": "display_data"
    },
    {
     "name": "stdout",
     "output_type": "stream",
     "text": [
      "Hypothesis    0\n",
      "Reach         0\n",
      "Impact        0\n",
      "Confidence    0\n",
      "Efforts       0\n",
      "dtype: int64\n",
      "0\n",
      "<class 'pandas.core.frame.DataFrame'>\n",
      "RangeIndex: 9 entries, 0 to 8\n",
      "Data columns (total 5 columns):\n",
      " #   Column      Non-Null Count  Dtype \n",
      "---  ------      --------------  ----- \n",
      " 0   Hypothesis  9 non-null      object\n",
      " 1   Reach       9 non-null      int64 \n",
      " 2   Impact      9 non-null      int64 \n",
      " 3   Confidence  9 non-null      int64 \n",
      " 4   Efforts     9 non-null      int64 \n",
      "dtypes: int64(4), object(1)\n",
      "memory usage: 488.0+ bytes\n",
      "None\n",
      "           Reach     Impact  Confidence    Efforts\n",
      "count   9.000000   9.000000    9.000000   9.000000\n",
      "mean    4.777778   4.777778    5.555556   4.888889\n",
      "std     3.153481   3.192874    3.045944   2.803767\n",
      "min     1.000000   1.000000    1.000000   1.000000\n",
      "25%     3.000000   3.000000    3.000000   3.000000\n",
      "50%     3.000000   3.000000    7.000000   5.000000\n",
      "75%     8.000000   7.000000    8.000000   6.000000\n",
      "max    10.000000  10.000000    9.000000  10.000000\n"
     ]
    },
    {
     "data": {
      "text/html": [
       "<div>\n",
       "<style scoped>\n",
       "    .dataframe tbody tr th:only-of-type {\n",
       "        vertical-align: middle;\n",
       "    }\n",
       "\n",
       "    .dataframe tbody tr th {\n",
       "        vertical-align: top;\n",
       "    }\n",
       "\n",
       "    .dataframe thead th {\n",
       "        text-align: right;\n",
       "    }\n",
       "</style>\n",
       "<table border=\"1\" class=\"dataframe\">\n",
       "  <thead>\n",
       "    <tr style=\"text-align: right;\">\n",
       "      <th></th>\n",
       "      <th>date</th>\n",
       "      <th>group</th>\n",
       "      <th>visitors</th>\n",
       "    </tr>\n",
       "  </thead>\n",
       "  <tbody>\n",
       "    <tr>\n",
       "      <th>0</th>\n",
       "      <td>2019-08-01</td>\n",
       "      <td>A</td>\n",
       "      <td>719</td>\n",
       "    </tr>\n",
       "    <tr>\n",
       "      <th>1</th>\n",
       "      <td>2019-08-02</td>\n",
       "      <td>A</td>\n",
       "      <td>619</td>\n",
       "    </tr>\n",
       "    <tr>\n",
       "      <th>2</th>\n",
       "      <td>2019-08-03</td>\n",
       "      <td>A</td>\n",
       "      <td>507</td>\n",
       "    </tr>\n",
       "    <tr>\n",
       "      <th>3</th>\n",
       "      <td>2019-08-04</td>\n",
       "      <td>A</td>\n",
       "      <td>717</td>\n",
       "    </tr>\n",
       "    <tr>\n",
       "      <th>4</th>\n",
       "      <td>2019-08-05</td>\n",
       "      <td>A</td>\n",
       "      <td>756</td>\n",
       "    </tr>\n",
       "  </tbody>\n",
       "</table>\n",
       "</div>"
      ],
      "text/plain": [
       "         date group  visitors\n",
       "0  2019-08-01     A       719\n",
       "1  2019-08-02     A       619\n",
       "2  2019-08-03     A       507\n",
       "3  2019-08-04     A       717\n",
       "4  2019-08-05     A       756"
      ]
     },
     "metadata": {},
     "output_type": "display_data"
    },
    {
     "name": "stdout",
     "output_type": "stream",
     "text": [
      "date        0\n",
      "group       0\n",
      "visitors    0\n",
      "dtype: int64\n",
      "0\n",
      "<class 'pandas.core.frame.DataFrame'>\n",
      "RangeIndex: 62 entries, 0 to 61\n",
      "Data columns (total 3 columns):\n",
      " #   Column    Non-Null Count  Dtype \n",
      "---  ------    --------------  ----- \n",
      " 0   date      62 non-null     object\n",
      " 1   group     62 non-null     object\n",
      " 2   visitors  62 non-null     int64 \n",
      "dtypes: int64(1), object(2)\n",
      "memory usage: 1.6+ KB\n",
      "None\n",
      "         visitors\n",
      "count   62.000000\n",
      "mean   607.290323\n",
      "std    114.400560\n",
      "min    361.000000\n",
      "25%    534.000000\n",
      "50%    624.500000\n",
      "75%    710.500000\n",
      "max    770.000000\n"
     ]
    },
    {
     "data": {
      "text/html": [
       "<div>\n",
       "<style scoped>\n",
       "    .dataframe tbody tr th:only-of-type {\n",
       "        vertical-align: middle;\n",
       "    }\n",
       "\n",
       "    .dataframe tbody tr th {\n",
       "        vertical-align: top;\n",
       "    }\n",
       "\n",
       "    .dataframe thead th {\n",
       "        text-align: right;\n",
       "    }\n",
       "</style>\n",
       "<table border=\"1\" class=\"dataframe\">\n",
       "  <thead>\n",
       "    <tr style=\"text-align: right;\">\n",
       "      <th></th>\n",
       "      <th>transactionId</th>\n",
       "      <th>visitorId</th>\n",
       "      <th>date</th>\n",
       "      <th>revenue</th>\n",
       "      <th>group</th>\n",
       "    </tr>\n",
       "  </thead>\n",
       "  <tbody>\n",
       "    <tr>\n",
       "      <th>0</th>\n",
       "      <td>3667963787</td>\n",
       "      <td>3312258926</td>\n",
       "      <td>2019-08-15</td>\n",
       "      <td>1650</td>\n",
       "      <td>B</td>\n",
       "    </tr>\n",
       "    <tr>\n",
       "      <th>1</th>\n",
       "      <td>2804400009</td>\n",
       "      <td>3642806036</td>\n",
       "      <td>2019-08-15</td>\n",
       "      <td>730</td>\n",
       "      <td>B</td>\n",
       "    </tr>\n",
       "    <tr>\n",
       "      <th>2</th>\n",
       "      <td>2961555356</td>\n",
       "      <td>4069496402</td>\n",
       "      <td>2019-08-15</td>\n",
       "      <td>400</td>\n",
       "      <td>A</td>\n",
       "    </tr>\n",
       "    <tr>\n",
       "      <th>3</th>\n",
       "      <td>3797467345</td>\n",
       "      <td>1196621759</td>\n",
       "      <td>2019-08-15</td>\n",
       "      <td>9759</td>\n",
       "      <td>B</td>\n",
       "    </tr>\n",
       "    <tr>\n",
       "      <th>4</th>\n",
       "      <td>2282983706</td>\n",
       "      <td>2322279887</td>\n",
       "      <td>2019-08-15</td>\n",
       "      <td>2308</td>\n",
       "      <td>B</td>\n",
       "    </tr>\n",
       "  </tbody>\n",
       "</table>\n",
       "</div>"
      ],
      "text/plain": [
       "   transactionId   visitorId        date  revenue group\n",
       "0     3667963787  3312258926  2019-08-15     1650     B\n",
       "1     2804400009  3642806036  2019-08-15      730     B\n",
       "2     2961555356  4069496402  2019-08-15      400     A\n",
       "3     3797467345  1196621759  2019-08-15     9759     B\n",
       "4     2282983706  2322279887  2019-08-15     2308     B"
      ]
     },
     "metadata": {},
     "output_type": "display_data"
    },
    {
     "name": "stdout",
     "output_type": "stream",
     "text": [
      "transactionId    0\n",
      "visitorId        0\n",
      "date             0\n",
      "revenue          0\n",
      "group            0\n",
      "dtype: int64\n",
      "0\n",
      "<class 'pandas.core.frame.DataFrame'>\n",
      "RangeIndex: 1197 entries, 0 to 1196\n",
      "Data columns (total 5 columns):\n",
      " #   Column         Non-Null Count  Dtype \n",
      "---  ------         --------------  ----- \n",
      " 0   transactionId  1197 non-null   int64 \n",
      " 1   visitorId      1197 non-null   int64 \n",
      " 2   date           1197 non-null   object\n",
      " 3   revenue        1197 non-null   int64 \n",
      " 4   group          1197 non-null   object\n",
      "dtypes: int64(3), object(2)\n",
      "memory usage: 46.9+ KB\n",
      "None\n",
      "       transactionId     visitorId       revenue\n",
      "count   1.197000e+03  1.197000e+03  1.197000e+03\n",
      "mean    2.155621e+09  2.165960e+09  8.348006e+03\n",
      "std     1.229085e+09  1.236014e+09  3.919113e+04\n",
      "min     1.062393e+06  5.114589e+06  5.000000e+01\n",
      "25%     1.166776e+09  1.111826e+09  1.220000e+03\n",
      "50%     2.145194e+09  2.217985e+09  2.978000e+03\n",
      "75%     3.237740e+09  3.177606e+09  8.290000e+03\n",
      "max     4.293856e+09  4.283872e+09  1.294500e+06\n"
     ]
    }
   ],
   "source": [
    "#напишем функцию для первоначального анализа и ознакомимся с данными датафреймов\n",
    "\n",
    "def info(df):\n",
    "    display(df.head())\n",
    "    print(df.isna().sum())\n",
    "    print(df.duplicated().sum())\n",
    "    print(df.info())\n",
    "    print(df.describe())\n",
    "    \n",
    "dfs = [hypothesis, visitors, orders]\n",
    "\n",
    "for df in dfs:\n",
    "    info(df)"
   ]
  },
  {
   "cell_type": "code",
   "execution_count": 5,
   "metadata": {},
   "outputs": [
    {
     "data": {
      "text/plain": [
       "array(['A', 'B'], dtype=object)"
      ]
     },
     "execution_count": 5,
     "metadata": {},
     "output_type": "execute_result"
    }
   ],
   "source": [
    "#посмотрим сколько групп в АВ-тесте\n",
    "\n",
    "visitors['group'].unique()"
   ]
  },
  {
   "cell_type": "markdown",
   "metadata": {},
   "source": [
    "Тест парный"
   ]
  },
  {
   "cell_type": "code",
   "execution_count": 6,
   "metadata": {},
   "outputs": [
    {
     "name": "stdout",
     "output_type": "stream",
     "text": [
      "2019-08-01\n",
      "2019-08-31\n"
     ]
    }
   ],
   "source": [
    "#узнаем даты начала и окончания теста\n",
    "\n",
    "print(visitors['date'].min())\n",
    "print(visitors['date'].max())"
   ]
  },
  {
   "cell_type": "markdown",
   "metadata": {},
   "source": [
    "Тест проводится в течение месяца"
   ]
  },
  {
   "cell_type": "code",
   "execution_count": 7,
   "metadata": {},
   "outputs": [
    {
     "name": "stdout",
     "output_type": "stream",
     "text": [
      "       visitorId\n",
      "group           \n",
      "A            503\n",
      "B            586\n",
      "14.16%\n"
     ]
    }
   ],
   "source": [
    "#рассмортрим количество пользователей в каждой группе\n",
    "\n",
    "quality = orders.groupby('group').agg({'visitorId': 'nunique'})\n",
    "print(quality)\n",
    "print(\"{:.2%}\".format((quality['visitorId'][1]-quality['visitorId'][0])/quality['visitorId'][1]))"
   ]
  },
  {
   "cell_type": "markdown",
   "metadata": {},
   "source": [
    "Пользователи распределены по группам не равномерно, разница в 14%"
   ]
  },
  {
   "cell_type": "code",
   "execution_count": 8,
   "metadata": {},
   "outputs": [
    {
     "data": {
      "image/png": "[encoded data removed]",
      "text/plain": [
       "<Figure size 1000x700 with 1 Axes>"
      ]
     },
     "metadata": {},
     "output_type": "display_data"
    }
   ],
   "source": [
    "#посмотрим динамику посетителей по дням по группам\n",
    "\n",
    "visitors_pivot_table = visitors.pivot_table(index='date', columns='group', values='visitors', aggfunc=['sum'])\n",
    "visitors_pivot_table.plot(figsize=(10,7))\n",
    "plt.title(\"Динамика посетителей по дням по группам\")\n",
    "plt.xlabel(\"Дата\")\n",
    "plt.ylabel(\"Количество пользователей\")\n",
    "plt.show()"
   ]
  },
  {
   "cell_type": "markdown",
   "metadata": {},
   "source": [
    "Количество посетителей колебалось в течение месяца в диапозоне около 750 до 350 человек"
   ]
  },
  {
   "cell_type": "code",
   "execution_count": 9,
   "metadata": {},
   "outputs": [],
   "source": [
    "#преобразуем тип данных о времени\n",
    "\n",
    "visitors['date'] = pd.to_datetime(visitors['date'], format='%Y-%m-%d')\n",
    "orders['date'] = pd.to_datetime(orders['date'], format='%Y-%m-%d')\n",
    "\n",
    "#поменяем регистр столбцов\n",
    "\n",
    "hypothesis.columns = hypothesis.columns.str.lower()"
   ]
  },
  {
   "cell_type": "markdown",
   "metadata": {},
   "source": [
    "Данные готовы к анализу"
   ]
  },
  {
   "cell_type": "markdown",
   "metadata": {},
   "source": [
    "### Приоритезация гипотез"
   ]
  },
  {
   "cell_type": "markdown",
   "metadata": {},
   "source": [
    "#### Фреймворк ICE для приоритизации гипотез"
   ]
  },
  {
   "cell_type": "code",
   "execution_count": 10,
   "metadata": {},
   "outputs": [
    {
     "data": {
      "text/html": [
       "<div>\n",
       "<style scoped>\n",
       "    .dataframe tbody tr th:only-of-type {\n",
       "        vertical-align: middle;\n",
       "    }\n",
       "\n",
       "    .dataframe tbody tr th {\n",
       "        vertical-align: top;\n",
       "    }\n",
       "\n",
       "    .dataframe thead th {\n",
       "        text-align: right;\n",
       "    }\n",
       "</style>\n",
       "<table border=\"1\" class=\"dataframe\">\n",
       "  <thead>\n",
       "    <tr style=\"text-align: right;\">\n",
       "      <th></th>\n",
       "      <th>hypothesis</th>\n",
       "      <th>reach</th>\n",
       "      <th>impact</th>\n",
       "      <th>confidence</th>\n",
       "      <th>efforts</th>\n",
       "      <th>ICE</th>\n",
       "    </tr>\n",
       "  </thead>\n",
       "  <tbody>\n",
       "    <tr>\n",
       "      <th>8</th>\n",
       "      <td>Запустить акцию, дающую скидку на товар в день рождения</td>\n",
       "      <td>1</td>\n",
       "      <td>9</td>\n",
       "      <td>9</td>\n",
       "      <td>5</td>\n",
       "      <td>16.20</td>\n",
       "    </tr>\n",
       "    <tr>\n",
       "      <th>0</th>\n",
       "      <td>Добавить два новых канала привлечения трафика, что позволит привлекать на 30% больше пользователей</td>\n",
       "      <td>3</td>\n",
       "      <td>10</td>\n",
       "      <td>8</td>\n",
       "      <td>6</td>\n",
       "      <td>13.33</td>\n",
       "    </tr>\n",
       "    <tr>\n",
       "      <th>7</th>\n",
       "      <td>Добавить форму подписки на все основные страницы, чтобы собрать базу клиентов для email-рассылок</td>\n",
       "      <td>10</td>\n",
       "      <td>7</td>\n",
       "      <td>8</td>\n",
       "      <td>5</td>\n",
       "      <td>11.20</td>\n",
       "    </tr>\n",
       "    <tr>\n",
       "      <th>6</th>\n",
       "      <td>Показать на главной странице баннеры с актуальными акциями и распродажами, чтобы увеличить конверсию</td>\n",
       "      <td>5</td>\n",
       "      <td>3</td>\n",
       "      <td>8</td>\n",
       "      <td>3</td>\n",
       "      <td>8.00</td>\n",
       "    </tr>\n",
       "    <tr>\n",
       "      <th>2</th>\n",
       "      <td>Добавить блоки рекомендаций товаров на сайт интернет магазина, чтобы повысить конверсию и средний чек заказа</td>\n",
       "      <td>8</td>\n",
       "      <td>3</td>\n",
       "      <td>7</td>\n",
       "      <td>3</td>\n",
       "      <td>7.00</td>\n",
       "    </tr>\n",
       "    <tr>\n",
       "      <th>1</th>\n",
       "      <td>Запустить собственную службу доставки, что сократит срок доставки заказов</td>\n",
       "      <td>2</td>\n",
       "      <td>5</td>\n",
       "      <td>4</td>\n",
       "      <td>10</td>\n",
       "      <td>2.00</td>\n",
       "    </tr>\n",
       "    <tr>\n",
       "      <th>5</th>\n",
       "      <td>Добавить страницу отзывов клиентов о магазине, что позволит увеличить количество заказов</td>\n",
       "      <td>3</td>\n",
       "      <td>2</td>\n",
       "      <td>2</td>\n",
       "      <td>3</td>\n",
       "      <td>1.33</td>\n",
       "    </tr>\n",
       "    <tr>\n",
       "      <th>3</th>\n",
       "      <td>Изменить структура категорий, что увеличит конверсию, т.к. пользователи быстрее найдут нужный товар</td>\n",
       "      <td>8</td>\n",
       "      <td>3</td>\n",
       "      <td>3</td>\n",
       "      <td>8</td>\n",
       "      <td>1.12</td>\n",
       "    </tr>\n",
       "    <tr>\n",
       "      <th>4</th>\n",
       "      <td>Изменить цвет фона главной страницы, чтобы увеличить вовлеченность пользователей</td>\n",
       "      <td>3</td>\n",
       "      <td>1</td>\n",
       "      <td>1</td>\n",
       "      <td>1</td>\n",
       "      <td>1.00</td>\n",
       "    </tr>\n",
       "  </tbody>\n",
       "</table>\n",
       "</div>"
      ],
      "text/plain": [
       "                                                                                                     hypothesis  \\\n",
       "8                                                       Запустить акцию, дающую скидку на товар в день рождения   \n",
       "0            Добавить два новых канала привлечения трафика, что позволит привлекать на 30% больше пользователей   \n",
       "7              Добавить форму подписки на все основные страницы, чтобы собрать базу клиентов для email-рассылок   \n",
       "6          Показать на главной странице баннеры с актуальными акциями и распродажами, чтобы увеличить конверсию   \n",
       "2  Добавить блоки рекомендаций товаров на сайт интернет магазина, чтобы повысить конверсию и средний чек заказа   \n",
       "1                                     Запустить собственную службу доставки, что сократит срок доставки заказов   \n",
       "5                      Добавить страницу отзывов клиентов о магазине, что позволит увеличить количество заказов   \n",
       "3           Изменить структура категорий, что увеличит конверсию, т.к. пользователи быстрее найдут нужный товар   \n",
       "4                              Изменить цвет фона главной страницы, чтобы увеличить вовлеченность пользователей   \n",
       "\n",
       "   reach  impact  confidence  efforts    ICE  \n",
       "8      1       9           9        5  16.20  \n",
       "0      3      10           8        6  13.33  \n",
       "7     10       7           8        5  11.20  \n",
       "6      5       3           8        3   8.00  \n",
       "2      8       3           7        3   7.00  \n",
       "1      2       5           4       10   2.00  \n",
       "5      3       2           2        3   1.33  \n",
       "3      8       3           3        8   1.12  \n",
       "4      3       1           1        1   1.00  "
      ]
     },
     "execution_count": 10,
     "metadata": {},
     "output_type": "execute_result"
    }
   ],
   "source": [
    "hypothesis['ICE'] = round((hypothesis['impact'] * hypothesis['confidence'])/hypothesis['efforts'], 2)\n",
    "hypothesis.sort_values(by=['ICE'], ascending=False)"
   ]
  },
  {
   "cell_type": "markdown",
   "metadata": {},
   "source": [
    "По ICE приоритет у гипотез:\n",
    "1) Запустить акцию, дающую скидку на товар в день рождения, \n",
    "\n",
    "2) Добавить два новых канала привлечения трафика, что позволит привлекать на 30% больше пользователей,\n",
    "\n",
    "3) Добавить форму подписки на все основные страницы, чтобы собрать базу клиентов для email-рассылок,\n",
    "\n",
    "4) Показать на главной странице баннеры с актуальными акциями и распродажами, чтобы увеличить конверсию\t"
   ]
  },
  {
   "cell_type": "markdown",
   "metadata": {},
   "source": [
    "#### Фреймворк RICE для приоритизации гипотез"
   ]
  },
  {
   "cell_type": "code",
   "execution_count": 11,
   "metadata": {},
   "outputs": [
    {
     "data": {
      "text/html": [
       "<div>\n",
       "<style scoped>\n",
       "    .dataframe tbody tr th:only-of-type {\n",
       "        vertical-align: middle;\n",
       "    }\n",
       "\n",
       "    .dataframe tbody tr th {\n",
       "        vertical-align: top;\n",
       "    }\n",
       "\n",
       "    .dataframe thead th {\n",
       "        text-align: right;\n",
       "    }\n",
       "</style>\n",
       "<table border=\"1\" class=\"dataframe\">\n",
       "  <thead>\n",
       "    <tr style=\"text-align: right;\">\n",
       "      <th></th>\n",
       "      <th>hypothesis</th>\n",
       "      <th>reach</th>\n",
       "      <th>impact</th>\n",
       "      <th>confidence</th>\n",
       "      <th>efforts</th>\n",
       "      <th>ICE</th>\n",
       "      <th>RICE</th>\n",
       "    </tr>\n",
       "  </thead>\n",
       "  <tbody>\n",
       "    <tr>\n",
       "      <th>7</th>\n",
       "      <td>Добавить форму подписки на все основные страницы, чтобы собрать базу клиентов для email-рассылок</td>\n",
       "      <td>10</td>\n",
       "      <td>7</td>\n",
       "      <td>8</td>\n",
       "      <td>5</td>\n",
       "      <td>11.20</td>\n",
       "      <td>112.0</td>\n",
       "    </tr>\n",
       "    <tr>\n",
       "      <th>2</th>\n",
       "      <td>Добавить блоки рекомендаций товаров на сайт интернет магазина, чтобы повысить конверсию и средний чек заказа</td>\n",
       "      <td>8</td>\n",
       "      <td>3</td>\n",
       "      <td>7</td>\n",
       "      <td>3</td>\n",
       "      <td>7.00</td>\n",
       "      <td>56.0</td>\n",
       "    </tr>\n",
       "    <tr>\n",
       "      <th>0</th>\n",
       "      <td>Добавить два новых канала привлечения трафика, что позволит привлекать на 30% больше пользователей</td>\n",
       "      <td>3</td>\n",
       "      <td>10</td>\n",
       "      <td>8</td>\n",
       "      <td>6</td>\n",
       "      <td>13.33</td>\n",
       "      <td>40.0</td>\n",
       "    </tr>\n",
       "    <tr>\n",
       "      <th>6</th>\n",
       "      <td>Показать на главной странице баннеры с актуальными акциями и распродажами, чтобы увеличить конверсию</td>\n",
       "      <td>5</td>\n",
       "      <td>3</td>\n",
       "      <td>8</td>\n",
       "      <td>3</td>\n",
       "      <td>8.00</td>\n",
       "      <td>40.0</td>\n",
       "    </tr>\n",
       "    <tr>\n",
       "      <th>8</th>\n",
       "      <td>Запустить акцию, дающую скидку на товар в день рождения</td>\n",
       "      <td>1</td>\n",
       "      <td>9</td>\n",
       "      <td>9</td>\n",
       "      <td>5</td>\n",
       "      <td>16.20</td>\n",
       "      <td>16.2</td>\n",
       "    </tr>\n",
       "    <tr>\n",
       "      <th>3</th>\n",
       "      <td>Изменить структура категорий, что увеличит конверсию, т.к. пользователи быстрее найдут нужный товар</td>\n",
       "      <td>8</td>\n",
       "      <td>3</td>\n",
       "      <td>3</td>\n",
       "      <td>8</td>\n",
       "      <td>1.12</td>\n",
       "      <td>9.0</td>\n",
       "    </tr>\n",
       "    <tr>\n",
       "      <th>1</th>\n",
       "      <td>Запустить собственную службу доставки, что сократит срок доставки заказов</td>\n",
       "      <td>2</td>\n",
       "      <td>5</td>\n",
       "      <td>4</td>\n",
       "      <td>10</td>\n",
       "      <td>2.00</td>\n",
       "      <td>4.0</td>\n",
       "    </tr>\n",
       "    <tr>\n",
       "      <th>5</th>\n",
       "      <td>Добавить страницу отзывов клиентов о магазине, что позволит увеличить количество заказов</td>\n",
       "      <td>3</td>\n",
       "      <td>2</td>\n",
       "      <td>2</td>\n",
       "      <td>3</td>\n",
       "      <td>1.33</td>\n",
       "      <td>4.0</td>\n",
       "    </tr>\n",
       "    <tr>\n",
       "      <th>4</th>\n",
       "      <td>Изменить цвет фона главной страницы, чтобы увеличить вовлеченность пользователей</td>\n",
       "      <td>3</td>\n",
       "      <td>1</td>\n",
       "      <td>1</td>\n",
       "      <td>1</td>\n",
       "      <td>1.00</td>\n",
       "      <td>3.0</td>\n",
       "    </tr>\n",
       "  </tbody>\n",
       "</table>\n",
       "</div>"
      ],
      "text/plain": [
       "                                                                                                     hypothesis  \\\n",
       "7              Добавить форму подписки на все основные страницы, чтобы собрать базу клиентов для email-рассылок   \n",
       "2  Добавить блоки рекомендаций товаров на сайт интернет магазина, чтобы повысить конверсию и средний чек заказа   \n",
       "0            Добавить два новых канала привлечения трафика, что позволит привлекать на 30% больше пользователей   \n",
       "6          Показать на главной странице баннеры с актуальными акциями и распродажами, чтобы увеличить конверсию   \n",
       "8                                                       Запустить акцию, дающую скидку на товар в день рождения   \n",
       "3           Изменить структура категорий, что увеличит конверсию, т.к. пользователи быстрее найдут нужный товар   \n",
       "1                                     Запустить собственную службу доставки, что сократит срок доставки заказов   \n",
       "5                      Добавить страницу отзывов клиентов о магазине, что позволит увеличить количество заказов   \n",
       "4                              Изменить цвет фона главной страницы, чтобы увеличить вовлеченность пользователей   \n",
       "\n",
       "   reach  impact  confidence  efforts    ICE   RICE  \n",
       "7     10       7           8        5  11.20  112.0  \n",
       "2      8       3           7        3   7.00   56.0  \n",
       "0      3      10           8        6  13.33   40.0  \n",
       "6      5       3           8        3   8.00   40.0  \n",
       "8      1       9           9        5  16.20   16.2  \n",
       "3      8       3           3        8   1.12    9.0  \n",
       "1      2       5           4       10   2.00    4.0  \n",
       "5      3       2           2        3   1.33    4.0  \n",
       "4      3       1           1        1   1.00    3.0  "
      ]
     },
     "execution_count": 11,
     "metadata": {},
     "output_type": "execute_result"
    }
   ],
   "source": [
    "hypothesis['RICE'] = (hypothesis['reach'] * hypothesis['impact'] * hypothesis['confidence'])/hypothesis['efforts'] \n",
    "hypothesis.sort_values(by=['RICE'], ascending=False)"
   ]
  },
  {
   "cell_type": "markdown",
   "metadata": {},
   "source": [
    "По RICE гипотезы распредились следующим образом:\n",
    "1) Добавить форму подписки на все основные страницы, чтобы собрать базу клиентов для email-рассылок,\n",
    "\n",
    "2) Добавить блоки рекомендаций товаров на сайт интернет магазина, чтобы повысить конверсию и средний чек заказа,\n",
    "\n",
    "3) Добавить два новых канала привлечения трафика, что позволит привлекать на 30% больше пользователей,\n",
    "\n",
    "4) Показать на главной странице баннеры с актуальными акциями и распродажами, чтобы увеличить конверсию\n",
    "\n",
    "Таким образом, гипотеза \"Запустить акцию, дающую скидку на товар в день рождения\" спустилась вниз из-за ее низкого параметра охвата (всего 1), а гипотеза \"Добавить форму подписки на все основные страницы, чтобы собрать базу клиентов для email-рассылок\" вырвалась на первое место (параметр охвата 10), она повлияет на большее количество пользователей."
   ]
  },
  {
   "cell_type": "markdown",
   "metadata": {},
   "source": [
    "###  Анализ A/B-теста"
   ]
  },
  {
   "cell_type": "code",
   "execution_count": 12,
   "metadata": {},
   "outputs": [
    {
     "name": "stdout",
     "output_type": "stream",
     "text": [
      "Количество пользователей в двух группах: 58\n",
      "Всего пользователей в тесте: 1031\n"
     ]
    }
   ],
   "source": [
    "# проверим группы на совпадения пользователей\n",
    "\n",
    "g_a = orders[orders['group'] == 'A']['visitorId']\n",
    "\n",
    "g_b = orders[orders['group'] == 'B']['visitorId']\n",
    "\n",
    "orders_ab = orders.query('visitorId in @g_a and visitorId in @g_b')\n",
    "\n",
    "print('Количество пользователей в двух группах:', orders_ab['visitorId'].nunique())\n",
    "\n",
    "print('Всего пользователей в тесте:', orders['visitorId'].nunique())"
   ]
  },
  {
   "cell_type": "markdown",
   "metadata": {},
   "source": [
    "Очистим датафрейм от пользователей, попавших в обе группы"
   ]
  },
  {
   "cell_type": "code",
   "execution_count": 13,
   "metadata": {},
   "outputs": [
    {
     "data": {
      "text/plain": [
       "973"
      ]
     },
     "execution_count": 13,
     "metadata": {},
     "output_type": "execute_result"
    }
   ],
   "source": [
    "dublicates = orders_ab['visitorId'].unique()\n",
    "orders = orders.query('visitorId not in @dublicates')\n",
    "orders['visitorId'].nunique()"
   ]
  },
  {
   "cell_type": "markdown",
   "metadata": {},
   "source": [
    "#### График кумулятивной выручки по группам"
   ]
  },
  {
   "cell_type": "code",
   "execution_count": 14,
   "metadata": {},
   "outputs": [
    {
     "data": {
      "text/html": [
       "<div>\n",
       "<style scoped>\n",
       "    .dataframe tbody tr th:only-of-type {\n",
       "        vertical-align: middle;\n",
       "    }\n",
       "\n",
       "    .dataframe tbody tr th {\n",
       "        vertical-align: top;\n",
       "    }\n",
       "\n",
       "    .dataframe thead th {\n",
       "        text-align: right;\n",
       "    }\n",
       "</style>\n",
       "<table border=\"1\" class=\"dataframe\">\n",
       "  <thead>\n",
       "    <tr style=\"text-align: right;\">\n",
       "      <th></th>\n",
       "      <th>date</th>\n",
       "      <th>group</th>\n",
       "      <th>orders</th>\n",
       "      <th>buyers</th>\n",
       "      <th>revenue</th>\n",
       "      <th>visitors</th>\n",
       "    </tr>\n",
       "  </thead>\n",
       "  <tbody>\n",
       "    <tr>\n",
       "      <th>0</th>\n",
       "      <td>2019-08-01</td>\n",
       "      <td>A</td>\n",
       "      <td>23</td>\n",
       "      <td>19</td>\n",
       "      <td>142779</td>\n",
       "      <td>719</td>\n",
       "    </tr>\n",
       "    <tr>\n",
       "      <th>1</th>\n",
       "      <td>2019-08-01</td>\n",
       "      <td>B</td>\n",
       "      <td>17</td>\n",
       "      <td>17</td>\n",
       "      <td>59758</td>\n",
       "      <td>713</td>\n",
       "    </tr>\n",
       "    <tr>\n",
       "      <th>2</th>\n",
       "      <td>2019-08-02</td>\n",
       "      <td>A</td>\n",
       "      <td>42</td>\n",
       "      <td>36</td>\n",
       "      <td>234381</td>\n",
       "      <td>1338</td>\n",
       "    </tr>\n",
       "    <tr>\n",
       "      <th>3</th>\n",
       "      <td>2019-08-02</td>\n",
       "      <td>B</td>\n",
       "      <td>40</td>\n",
       "      <td>39</td>\n",
       "      <td>221801</td>\n",
       "      <td>1294</td>\n",
       "    </tr>\n",
       "    <tr>\n",
       "      <th>4</th>\n",
       "      <td>2019-08-03</td>\n",
       "      <td>A</td>\n",
       "      <td>66</td>\n",
       "      <td>60</td>\n",
       "      <td>346854</td>\n",
       "      <td>1845</td>\n",
       "    </tr>\n",
       "  </tbody>\n",
       "</table>\n",
       "</div>"
      ],
      "text/plain": [
       "        date group  orders  buyers  revenue  visitors\n",
       "0 2019-08-01     A      23      19   142779       719\n",
       "1 2019-08-01     B      17      17    59758       713\n",
       "2 2019-08-02     A      42      36   234381      1338\n",
       "3 2019-08-02     B      40      39   221801      1294\n",
       "4 2019-08-03     A      66      60   346854      1845"
      ]
     },
     "execution_count": 14,
     "metadata": {},
     "output_type": "execute_result"
    }
   ],
   "source": [
    "# создаем массив уникальных пар значений дат и групп теста\n",
    "\n",
    "datesGroups = orders[['date','group']].drop_duplicates()\n",
    "\n",
    "# получаем агрегированные кумулятивные по дням данные о заказах \n",
    "\n",
    "ordersAggregated = datesGroups.apply(lambda x: orders[np.logical_and(orders['date'] <= x['date'], orders['group'] == x['group'])].agg({'date' : 'max', 'group' : 'max', 'transactionId' : 'nunique', 'visitorId' : 'nunique', 'revenue' : 'sum'}), axis=1).sort_values(by=['date','group'])\n",
    "\n",
    "# получаем агрегированные кумулятивные по дням данные о посетителях интернет-магазина \n",
    "\n",
    "visitorsAggregated = datesGroups.apply(lambda x: visitors[np.logical_and(visitors['date'] <= x['date'], visitors['group'] == x['group'])].agg({'date' : 'max', 'group' : 'max', 'visitors' : 'sum'}), axis=1).sort_values(by=['date','group'])\n",
    "\n",
    "# объединяем кумулятивные данные в одной таблице и присваиваем ее столбцам понятные названия\n",
    "\n",
    "cumulativeData = ordersAggregated.merge(visitorsAggregated, left_on=['date', 'group'], right_on=['date', 'group'])\n",
    "cumulativeData.columns = ['date', 'group', 'orders', 'buyers', 'revenue', 'visitors']\n",
    "\n",
    "cumulativeData.head(5)"
   ]
  },
  {
   "cell_type": "code",
   "execution_count": 15,
   "metadata": {},
   "outputs": [
    {
     "name": "stdout",
     "output_type": "stream",
     "text": [
      "2019-08-01 00:00:00\n",
      "2019-08-31 00:00:00\n"
     ]
    }
   ],
   "source": [
    "# проверим, корректно ли был создан датафрейм cummulativeData. Например, совпадают ли минимальная и максимальная даты в этом датафрейме с минимальной и максимальной датой в исходных данных\n",
    "\n",
    "print(cumulativeData['date'].min())\n",
    "print(cumulativeData['date'].max())"
   ]
  },
  {
   "cell_type": "code",
   "execution_count": 16,
   "metadata": {},
   "outputs": [
    {
     "data": {
      "image/png": "[encoded data removed]",
      "text/plain": [
       "<Figure size 640x480 with 1 Axes>"
      ]
     },
     "metadata": {},
     "output_type": "display_data"
    }
   ],
   "source": [
    "# датафрейм с кумулятивным количеством заказов и кумулятивной выручкой по дням в группе А\n",
    "\n",
    "cumulativeRevenueA = cumulativeData[cumulativeData['group']=='A'][['date','revenue', 'orders']]\n",
    "\n",
    "# датафрейм с кумулятивным количеством заказов и кумулятивной выручкой по дням в группе B\n",
    "\n",
    "cumulativeRevenueB = cumulativeData[cumulativeData['group']=='B'][['date','revenue', 'orders']]\n",
    "\n",
    "# Строим график выручки группы А\n",
    "\n",
    "plt.plot(cumulativeRevenueA['date'], cumulativeRevenueA['revenue'], label='A')\n",
    "\n",
    "# Строим график выручки группы B\n",
    "\n",
    "plt.plot(cumulativeRevenueB['date'], cumulativeRevenueB['revenue'], label='B')\n",
    "\n",
    "plt.xticks(rotation=45)\n",
    "plt.title('График кумулятивной выручки по группам')\n",
    "plt.xlabel('Дата')\n",
    "plt.ylabel('Выручка')\n",
    "plt.grid()\n",
    "plt.legend()\n",
    "plt.show()"
   ]
  },
  {
   "cell_type": "markdown",
   "metadata": {},
   "source": [
    "В группе А выручка почти равномерно увеличивается в течение всего теста. \n",
    "А вот в группе В после 19.08.2019 выручка резко выросла. Это может сигнализировать о всплесках числа заказов, либо о появлении очень дорогих заказов в выборке. "
   ]
  },
  {
   "cell_type": "markdown",
   "metadata": {},
   "source": [
    "#### График кумулятивного среднего чека по группам"
   ]
  },
  {
   "cell_type": "code",
   "execution_count": 17,
   "metadata": {},
   "outputs": [
    {
     "data": {
      "image/png": "[encoded data removed]",
      "text/plain": [
       "<Figure size 640x480 with 1 Axes>"
      ]
     },
     "metadata": {},
     "output_type": "display_data"
    }
   ],
   "source": [
    "plt.plot(cumulativeRevenueA['date'], cumulativeRevenueA['revenue']/cumulativeRevenueA['orders'], label='A')\n",
    "plt.plot(cumulativeRevenueB['date'], cumulativeRevenueB['revenue']/cumulativeRevenueB['orders'], label='B')\n",
    "plt.xticks(rotation=45)\n",
    "plt.title('График кумулятивного среднего чека по группам')\n",
    "plt.xlabel('Дата')\n",
    "plt.ylabel('Средний чек')\n",
    "plt.grid()\n",
    "plt.legend()\n",
    "plt.show()"
   ]
  },
  {
   "cell_type": "markdown",
   "metadata": {},
   "source": [
    "Средний чек становится равномерным к середине теста (после 15.08.2019) для группы A. Для группы B так же видим резкий всплеск 19.08.2019 и далее снижение чека. Возможно, в группу B в это время попали крупные заказы. Тогда ей нужно больше данных, чтобы прийти к реальному среднему чеку и установиться на его уровне."
   ]
  },
  {
   "cell_type": "markdown",
   "metadata": {},
   "source": [
    "#### График относительного изменения кумулятивного среднего чека группы B к группе A"
   ]
  },
  {
   "cell_type": "code",
   "execution_count": 18,
   "metadata": {},
   "outputs": [
    {
     "data": {
      "image/png": "[encoded data removed]",
      "text/plain": [
       "<Figure size 640x480 with 1 Axes>"
      ]
     },
     "metadata": {},
     "output_type": "display_data"
    }
   ],
   "source": [
    "# собираем данные в одном датафрейме\n",
    "\n",
    "mergedCumulativeRevenue = cumulativeRevenueA.merge(cumulativeRevenueB, left_on='date', right_on='date', how='left', suffixes=['A', 'B'])\n",
    "\n",
    "# cтроим отношение средних чеков\n",
    "\n",
    "plt.plot(mergedCumulativeRevenue['date'], (mergedCumulativeRevenue['revenueB']/mergedCumulativeRevenue['ordersB'])/(mergedCumulativeRevenue['revenueA']/mergedCumulativeRevenue['ordersA'])-1)\n",
    "\n",
    "# добавляем ось X\n",
    "\n",
    "plt.axhline(y=0, color='black', linestyle='--')\n",
    "\n",
    "plt.xticks(rotation=45)\n",
    "plt.title('График относительного изменения кумулятивного среднего чека группы B к группе A')\n",
    "plt.xlabel('Дата')\n",
    "plt.ylabel('Изменение среденего чека')\n",
    "plt.grid()\n",
    "plt.show()"
   ]
  },
  {
   "cell_type": "markdown",
   "metadata": {},
   "source": [
    "В нескольких точках график различия между сегментами резко «скачет». Есть крупные заказы и выбросы."
   ]
  },
  {
   "cell_type": "markdown",
   "metadata": {},
   "source": [
    "#### График кумулятивного среднего количества заказов на посетителя по группам"
   ]
  },
  {
   "cell_type": "code",
   "execution_count": 19,
   "metadata": {},
   "outputs": [
    {
     "data": {
      "image/png": "[encoded data removed]",
      "text/plain": [
       "<Figure size 640x480 with 1 Axes>"
      ]
     },
     "metadata": {},
     "output_type": "display_data"
    }
   ],
   "source": [
    "# считаем кумулятивное среднее количество заказов на посетителя\n",
    "\n",
    "cumulativeData['avg_orders_visitior'] = cumulativeData['orders']/cumulativeData['visitors']\n",
    "\n",
    "# отделяем данные по группе A\n",
    "\n",
    "cumulativeDataA = cumulativeData[cumulativeData['group']=='A']\n",
    "\n",
    "# отделяем данные по группе B\n",
    "\n",
    "cumulativeDataB = cumulativeData[cumulativeData['group']=='B']\n",
    "\n",
    "# строим графики\n",
    "\n",
    "plt.plot(cumulativeDataA['date'], cumulativeDataA['avg_orders_visitior'], label='A')\n",
    "plt.plot(cumulativeDataB['date'], cumulativeDataB['avg_orders_visitior'], label='B')\n",
    "\n",
    "plt.xticks(rotation=45)\n",
    "plt.title('График кумулятивного среднего количества заказов на посетителя по группам')\n",
    "plt.xlabel('Дата')\n",
    "plt.ylabel('Среднее количество заказов')\n",
    "plt.grid()\n",
    "plt.legend()\n",
    "plt.show()"
   ]
  },
  {
   "cell_type": "markdown",
   "metadata": {},
   "source": [
    "Сначала группы колебались, но затем среднее количество заказов группы В вырвалось вперёд и зафиксировалось, а среднее количество заказов группы А просело и также зафиксировалось."
   ]
  },
  {
   "cell_type": "markdown",
   "metadata": {},
   "source": [
    "#### График относительного изменения кумулятивного среднего количества заказов на посетителя группы B к группе A"
   ]
  },
  {
   "cell_type": "code",
   "execution_count": 20,
   "metadata": {},
   "outputs": [
    {
     "data": {
      "image/png": "[encoded data removed]",
      "text/plain": [
       "<Figure size 640x480 with 1 Axes>"
      ]
     },
     "metadata": {},
     "output_type": "display_data"
    }
   ],
   "source": [
    "mergedCumulativeAvgorders = cumulativeDataA[['date','avg_orders_visitior']].merge(cumulativeDataB[['date','avg_orders_visitior']], left_on='date', right_on='date', how='left', suffixes=['A', 'B'])\n",
    "\n",
    "plt.plot(mergedCumulativeAvgorders['date'], mergedCumulativeAvgorders['avg_orders_visitiorB']/mergedCumulativeAvgorders['avg_orders_visitiorA']-1)\n",
    "\n",
    "plt.axhline(y=0, color='black', linestyle='--')\n",
    "plt.axhline(y=-0.1, color='grey', linestyle='--')\n",
    "plt.xticks(rotation=45)\n",
    "plt.title('График относительного изменения кумулятивного среднего количества заказов на посетителя группы B к группе A')\n",
    "plt.xlabel('Дата')\n",
    "plt.ylabel('Изменение среденего количества заказов')\n",
    "plt.grid()\n",
    "plt.show()"
   ]
  },
  {
   "cell_type": "markdown",
   "metadata": {},
   "source": [
    "В начале теста группа B значительно проигрывала группе A, затем вырвалась вперёд. Потом среднее количество заказов на пользователя падало, но теперь постепенно растёт.\n",
    "В целом сейчас делать какие-либо выводы по тесту нельзя, стоит проанализировать аномалии, возможно, они изменят картину."
   ]
  },
  {
   "cell_type": "markdown",
   "metadata": {},
   "source": [
    "#### Точечный график количества заказов по пользователям"
   ]
  },
  {
   "cell_type": "code",
   "execution_count": 21,
   "metadata": {},
   "outputs": [
    {
     "name": "stdout",
     "output_type": "stream",
     "text": [
      "      visitorId  orders\n",
      "908  3967698036       3\n",
      "55    249864742       3\n",
      "478  2108163459       3\n",
      "687  2988190573       3\n",
      "890  3908431265       3\n",
      "138   611059232       3\n",
      "632  2742574263       3\n",
      "157   678354126       2\n",
      "323  1404560065       2\n",
      "452  1985475298       2\n"
     ]
    },
    {
     "data": {
      "image/png": "[encoded data removed]",
      "text/plain": [
       "<Figure size 640x480 with 1 Axes>"
      ]
     },
     "metadata": {},
     "output_type": "display_data"
    }
   ],
   "source": [
    "ordersByUsers = (\n",
    "    orders.groupby('visitorId', as_index=False)\n",
    "    .agg({'transactionId': 'nunique'})\n",
    ")\n",
    "ordersByUsers.columns = ['visitorId', 'orders']\n",
    "\n",
    "print(ordersByUsers.sort_values(by='orders', ascending=False).head(10))\n",
    "\n",
    "# серия из чисел от 0 до количества наблюдений в ordersByUsers\n",
    "x_values = pd.Series(range(0, len(ordersByUsers)))\n",
    "\n",
    "plt.scatter(x_values, ordersByUsers['orders'])\n",
    "plt.title('Точечный график количества заказов по пользователям')\n",
    "plt.show()"
   ]
  },
  {
   "cell_type": "markdown",
   "metadata": {},
   "source": [
    "Большинство покупателей заказывали только один раз. Покупателей совершивших 2 заказа значительно меньше, а 3 - единицы."
   ]
  },
  {
   "cell_type": "code",
   "execution_count": 22,
   "metadata": {},
   "outputs": [
    {
     "data": {
      "text/plain": [
       "array([1., 2.])"
      ]
     },
     "execution_count": 22,
     "metadata": {},
     "output_type": "execute_result"
    }
   ],
   "source": [
    "np.percentile(ordersByUsers['orders'], [95, 99])"
   ]
  },
  {
   "cell_type": "markdown",
   "metadata": {},
   "source": [
    "Не более 5% пользователей оформляли больше чем 1 заказ. И лишь 1% оформляли более 2 заказов. \n",
    "Разумно выбрать 2 заказа на одного пользователя за верхнюю границу числа заказов, и отсеять аномальных пользователей по ней."
   ]
  },
  {
   "cell_type": "markdown",
   "metadata": {},
   "source": [
    "#### Точечный график стоимостей заказов"
   ]
  },
  {
   "cell_type": "code",
   "execution_count": 23,
   "metadata": {},
   "outputs": [
    {
     "data": {
      "image/png": "[encoded data removed]",
      "text/plain": [
       "<Figure size 640x480 with 1 Axes>"
      ]
     },
     "metadata": {},
     "output_type": "display_data"
    }
   ],
   "source": [
    "x_values = pd.Series(range(0,len(orders['revenue'])))\n",
    "plt.scatter(x_values, orders['revenue']) \n",
    "plt.title('Точечный график стоимостей заказов')\n",
    "plt.show()"
   ]
  },
  {
   "cell_type": "markdown",
   "metadata": {},
   "source": [
    "Есть выброс в районе 1,2 млн. Заказ на такую сумму в интернет-магазине выглядит аномально."
   ]
  },
  {
   "cell_type": "code",
   "execution_count": 24,
   "metadata": {},
   "outputs": [
    {
     "data": {
      "text/plain": [
       "array([26785., 53904.])"
      ]
     },
     "execution_count": 24,
     "metadata": {},
     "output_type": "execute_result"
    }
   ],
   "source": [
    "np.percentile(orders['revenue'], [95, 99])"
   ]
  },
  {
   "cell_type": "markdown",
   "metadata": {},
   "source": [
    "Не более 5% заказов дороже 26 785 рублей и не более 1% дороже 53 904 рублей. Выберем верхнюю границу для стоимости заказа в 53 904 руб."
   ]
  },
  {
   "cell_type": "markdown",
   "metadata": {},
   "source": [
    "#### Статистическая значимость различий в среднем числе заказов на пользователя и среднем чеке между группами по «сырым» данным"
   ]
  },
  {
   "cell_type": "markdown",
   "metadata": {},
   "source": [
    "Посчитаем статистическую значимость различий в среднем числе заказов на пользователя между группами по «сырым» данным — без удаления аномальных пользователей.\n",
    "Сформулируем гипотезы. \n",
    "\n",
    "Нулевая: различий в среднем количестве заказов между группами нет. \n",
    "\n",
    "Альтернативная: различия в среднем между группами есть. \n",
    "\n",
    "Критический уровень статистической значимости - 0.05\n",
    "\n",
    "Метод, который будем применять для A/B-тестирования критерий Манна-Уитни, потому как он даёт возможность делать вывод о различии или его отсутствии для любого заданного уровня значимости и подходит когда работа с самими значениями невозможна из-за выбросов, сильно сдвигающих параметрические результаты.\n",
    "\n",
    "Начнём с подготовки данных."
   ]
  },
  {
   "cell_type": "code",
   "execution_count": 25,
   "metadata": {},
   "outputs": [
    {
     "name": "stdout",
     "output_type": "stream",
     "text": [
      "        date  ordersPerDateA  revenuePerDateA  ordersPerDateB  \\\n",
      "0 2019-08-01              23           142779              17   \n",
      "1 2019-08-02              19            91602              23   \n",
      "2 2019-08-03              24           112473              14   \n",
      "3 2019-08-04              11            41176              14   \n",
      "4 2019-08-05              22            86383              21   \n",
      "\n",
      "   revenuePerDateB  ordersCummulativeA  revenueCummulativeA  \\\n",
      "0            59758                  23               142779   \n",
      "1           162043                  42               234381   \n",
      "2            67049                  66               346854   \n",
      "3            96890                  77               388030   \n",
      "4            89908                  99               474413   \n",
      "\n",
      "   ordersCummulativeB  revenueCummulativeB  visitorsPerDateA  \\\n",
      "0                  17                59758               719   \n",
      "1                  40               221801               619   \n",
      "2                  54               288850               507   \n",
      "3                  68               385740               717   \n",
      "4                  89               475648               756   \n",
      "\n",
      "   visitorsPerDateB  visitorsCummulativeA  visitorsCummulativeB  \n",
      "0               713                   719                   713  \n",
      "1               581                  1338                  1294  \n",
      "2               509                  1845                  1803  \n",
      "3               770                  2562                  2573  \n",
      "4               707                  3318                  3280  \n"
     ]
    }
   ],
   "source": [
    "import scipy.stats as stats\n",
    "\n",
    "visitorsADaily = visitors[visitors['group'] == 'A'][['date', 'visitors']]\n",
    "visitorsADaily.columns = ['date', 'visitorsPerDateA']\n",
    "\n",
    "visitorsACummulative = visitorsADaily.apply(\n",
    "    lambda x: visitorsADaily[visitorsADaily['date'] <= x['date']].agg(\n",
    "        {'date': 'max', 'visitorsPerDateA': 'sum'}\n",
    "    ),\n",
    "    axis=1,\n",
    ")\n",
    "visitorsACummulative.columns = ['date', 'visitorsCummulativeA']\n",
    "\n",
    "visitorsBDaily = visitors[visitors['group'] == 'B'][['date', 'visitors']]\n",
    "visitorsBDaily.columns = ['date', 'visitorsPerDateB']\n",
    "\n",
    "visitorsBCummulative = visitorsBDaily.apply(\n",
    "    lambda x: visitorsBDaily[visitorsBDaily['date'] <= x['date']].agg(\n",
    "        {'date': 'max', 'visitorsPerDateB': 'sum'}\n",
    "    ),\n",
    "    axis=1,\n",
    ")\n",
    "visitorsBCummulative.columns = ['date', 'visitorsCummulativeB']\n",
    "\n",
    "ordersADaily = (\n",
    "    orders[orders['group'] == 'A'][['date', 'transactionId', 'visitorId', 'revenue']]\n",
    "    .groupby('date', as_index=False)\n",
    "    .agg({'transactionId': pd.Series.nunique, 'revenue': 'sum'})\n",
    ")\n",
    "ordersADaily.columns = ['date', 'ordersPerDateA', 'revenuePerDateA']\n",
    "\n",
    "ordersACummulative = ordersADaily.apply(\n",
    "    lambda x: ordersADaily[ordersADaily['date'] <= x['date']].agg(\n",
    "        {'date': 'max', 'ordersPerDateA': 'sum', 'revenuePerDateA': 'sum'}\n",
    "    ),\n",
    "    axis=1,\n",
    ").sort_values(by=['date'])\n",
    "ordersACummulative.columns = [\n",
    "    'date',\n",
    "    'ordersCummulativeA',\n",
    "    'revenueCummulativeA',\n",
    "]\n",
    "\n",
    "ordersBDaily = (\n",
    "    orders[orders['group'] == 'B'][['date', 'transactionId', 'visitorId', 'revenue']]\n",
    "    .groupby('date', as_index=False)\n",
    "    .agg({'transactionId': pd.Series.nunique, 'revenue': 'sum'})\n",
    ")\n",
    "ordersBDaily.columns = ['date', 'ordersPerDateB', 'revenuePerDateB']\n",
    "\n",
    "ordersBCummulative = ordersBDaily.apply(\n",
    "    lambda x: ordersBDaily[ordersBDaily['date'] <= x['date']].agg(\n",
    "        {'date': 'max', 'ordersPerDateB': 'sum', 'revenuePerDateB': 'sum'}\n",
    "    ),\n",
    "    axis=1,\n",
    ").sort_values(by=['date'])\n",
    "ordersBCummulative.columns = [\n",
    "    'date',\n",
    "    'ordersCummulativeB',\n",
    "    'revenueCummulativeB',\n",
    "]\n",
    "\n",
    "data = (\n",
    "    ordersADaily.merge(\n",
    "        ordersBDaily, left_on='date', right_on='date', how='left'\n",
    "    )\n",
    "    .merge(ordersACummulative, left_on='date', right_on='date', how='left')\n",
    "    .merge(ordersBCummulative, left_on='date', right_on='date', how='left')\n",
    "    .merge(visitorsADaily, left_on='date', right_on='date', how='left')\n",
    "    .merge(visitorsBDaily, left_on='date', right_on='date', how='left')\n",
    "    .merge(visitorsACummulative, left_on='date', right_on='date', how='left')\n",
    "    .merge(visitorsBCummulative, left_on='date', right_on='date', how='left')\n",
    ")\n",
    "\n",
    "print(data.head(5))"
   ]
  },
  {
   "cell_type": "code",
   "execution_count": 26,
   "metadata": {},
   "outputs": [
    {
     "name": "stdout",
     "output_type": "stream",
     "text": [
      "p_value: 0.011\n",
      "Различие в среднем числе заказов на пользователя между группами: 0.160\n"
     ]
    }
   ],
   "source": [
    "ordersByUsersA = (\n",
    "    orders[orders['group'] == 'A']\n",
    "    .groupby('visitorId', as_index=False)\n",
    "    .agg({'transactionId': pd.Series.nunique})\n",
    ")\n",
    "ordersByUsersA.columns = ['visitorId', 'orders']\n",
    "\n",
    "ordersByUsersB = (\n",
    "    orders[orders['group'] == 'B']\n",
    "    .groupby('visitorId', as_index=False)\n",
    "    .agg({'transactionId': pd.Series.nunique})\n",
    ")\n",
    "ordersByUsersB.columns = ['visitorId', 'orders']\n",
    "\n",
    "sampleA = pd.concat(\n",
    "    [\n",
    "        ordersByUsersA['orders'],\n",
    "        pd.Series(\n",
    "            0,\n",
    "            index=np.arange(\n",
    "                data['visitorsPerDateA'].sum() - len(ordersByUsersA['orders'])\n",
    "            ),\n",
    "            name='orders',\n",
    "        ),\n",
    "    ],\n",
    "    axis=0,\n",
    ")\n",
    "\n",
    "sampleB = pd.concat(\n",
    "    [\n",
    "        ordersByUsersB['orders'],\n",
    "        pd.Series(\n",
    "            0,\n",
    "            index=np.arange(\n",
    "                data['visitorsPerDateB'].sum() - len(ordersByUsersB['orders'])\n",
    "            ),\n",
    "            name='orders',\n",
    "        ),\n",
    "    ],\n",
    "    axis=0,\n",
    ")\n",
    "\n",
    "print(\"p_value: {0:.3f}\".format(stats.mannwhitneyu(sampleA, sampleB)[1]))\n",
    "\n",
    "print(\"Различие в среднем числе заказов на пользователя между группами: {0:.3f}\".format(sampleB.mean() / sampleA.mean() - 1))\n"
   ]
  },
  {
   "cell_type": "markdown",
   "metadata": {},
   "source": [
    "Вывод: По «сырым» данным различия в среднем числе заказов группы A и B есть. \n",
    "Первое число — p-value = 0.011 меньше 0.05. Значит, нулевую гипотезу о том, что статистически значимых различий в среднем числе заказов между группами нет, отвергаем. Относительный выигрыш группы B равен 16%."
   ]
  },
  {
   "cell_type": "markdown",
   "metadata": {},
   "source": [
    "Теперь проверим статистическую значимость различий в среднем чеке между сегментами. Нулевая гипотеза: различий в среднем чеке между группами нет. Альтернативная гипотеза: различия в среднем чеке между группами есть. "
   ]
  },
  {
   "cell_type": "code",
   "execution_count": 27,
   "metadata": {},
   "outputs": [
    {
     "name": "stdout",
     "output_type": "stream",
     "text": [
      "p_value: 0.829\n",
      "Различие в среднем чеке между группами 0.287\n"
     ]
    }
   ],
   "source": [
    "print('p_value: {0:.3f}'.format(stats.mannwhitneyu(orders[orders['group']=='A']['revenue'], orders[orders['group']=='B']['revenue'])[1]))\n",
    "print('Различие в среднем чеке между группами {0:.3f}'.format(orders[orders['group']=='B']['revenue'].mean()/orders[orders['group']=='A']['revenue'].mean()-1))"
   ]
  },
  {
   "cell_type": "markdown",
   "metadata": {},
   "source": [
    "P-value значительно больше 0.05. Значит, причин отвергать нулевую гипотезу и считать, что в среднем чеке есть различия, нет. При этом средний чек группы B значительно выше среднего чека группы A (почти на 29%) "
   ]
  },
  {
   "cell_type": "markdown",
   "metadata": {},
   "source": [
    "#### Статистическая значимость различий в среднем числе заказов на пользователя и среднем чеке между группами по «очищенным» данным"
   ]
  },
  {
   "cell_type": "markdown",
   "metadata": {},
   "source": [
    "Сделаем срезы пользователей с числом заказов больше 2 — usersWithManyOrders и пользователей, совершивших заказы дороже 53 904 — usersWithExpensiveOrders. Объединим их в таблице abnormalUsers. \n",
    "Узнаем, сколько всего аномальных пользователей"
   ]
  },
  {
   "cell_type": "code",
   "execution_count": 28,
   "metadata": {},
   "outputs": [
    {
     "name": "stdout",
     "output_type": "stream",
     "text": [
      "1099    148427295\n",
      "33      249864742\n",
      "58      611059232\n",
      "949     887908475\n",
      "744     888512513\n",
      "Name: visitorId, dtype: int64\n",
      "16\n",
      "1.64%\n"
     ]
    }
   ],
   "source": [
    "usersWithManyOrders = pd.concat(\n",
    "    [\n",
    "        ordersByUsersA[ordersByUsersA['orders'] > 2]['visitorId'],\n",
    "        ordersByUsersB[ordersByUsersB['orders'] > 2]['visitorId'],\n",
    "    ],\n",
    "    axis=0,\n",
    ")\n",
    "usersWithExpensiveOrders = orders[orders['revenue'] > 53904]['visitorId']\n",
    "abnormalUsers = (\n",
    "    pd.concat([usersWithManyOrders, usersWithExpensiveOrders], axis=0)\n",
    "    .drop_duplicates()\n",
    "    .sort_values()\n",
    ")\n",
    "print(abnormalUsers.head(5))\n",
    "print(abnormalUsers.shape[0])\n",
    "print(\"{:.2%}\".format(abnormalUsers.shape[0]/orders['visitorId'].nunique()))"
   ]
  },
  {
   "cell_type": "markdown",
   "metadata": {},
   "source": [
    "Аномальных пользователей не так много, всего 16, это около 1,6 % от общего количества пользователей участвующих в тесте, но они могут повлиять на его результаты."
   ]
  },
  {
   "cell_type": "markdown",
   "metadata": {},
   "source": [
    "Посчитаем статистическую значимость различий в среднем количестве заказов между группами теста по очищенным данным. Сначала подготовим выборки количества заказов по пользователям по группам теста."
   ]
  },
  {
   "cell_type": "code",
   "execution_count": 29,
   "metadata": {},
   "outputs": [],
   "source": [
    "sampleAFiltered = pd.concat(\n",
    "    [\n",
    "        ordersByUsersA[\n",
    "            np.logical_not(ordersByUsersA['visitorId'].isin(abnormalUsers))\n",
    "        ]['orders'],\n",
    "        pd.Series(\n",
    "            0,\n",
    "            index=np.arange(\n",
    "                data['visitorsPerDateA'].sum() - len(ordersByUsersA['orders'])\n",
    "            ),\n",
    "            name='orders',\n",
    "        ),\n",
    "    ],\n",
    "    axis=0,\n",
    ")\n",
    "\n",
    "sampleBFiltered = pd.concat(\n",
    "    [\n",
    "        ordersByUsersB[\n",
    "            np.logical_not(ordersByUsersB['visitorId'].isin(abnormalUsers))\n",
    "        ]['orders'],\n",
    "        pd.Series(\n",
    "            0,\n",
    "            index=np.arange(\n",
    "                data['visitorsPerDateB'].sum() - len(ordersByUsersB['orders'])\n",
    "            ),\n",
    "            name='orders',\n",
    "        ),\n",
    "    ],\n",
    "    axis=0,\n",
    ")"
   ]
  },
  {
   "cell_type": "code",
   "execution_count": 30,
   "metadata": {},
   "outputs": [
    {
     "name": "stdout",
     "output_type": "stream",
     "text": [
      "p_value: 0.007\n",
      "Различие в среднем числе заказов на пользователя между группами: 0.189\n"
     ]
    }
   ],
   "source": [
    "#применим статистический критерий Манна-Уитни к полученным выборкам\n",
    "\n",
    "print('p_value: {0:.3f}'.format(stats.mannwhitneyu(sampleAFiltered, sampleBFiltered)[1]))\n",
    "print('Различие в среднем числе заказов на пользователя между группами: {0:.3f}'.format(sampleBFiltered.mean()/sampleAFiltered.mean()-1))"
   ]
  },
  {
   "cell_type": "markdown",
   "metadata": {},
   "source": [
    "Результаты по среднему количеству заказов не изменились. "
   ]
  },
  {
   "cell_type": "code",
   "execution_count": 31,
   "metadata": {},
   "outputs": [
    {
     "name": "stdout",
     "output_type": "stream",
     "text": [
      "p_value: 0.788\n",
      "Различие в среднем чеке между группами: -0.032\n"
     ]
    }
   ],
   "source": [
    "#посчитаем статистическую значимость различий в среднем чеке заказа между группами по «очищенным» данным\n",
    "\n",
    "print(\n",
    "    'p_value: {0:.3f}'.format(\n",
    "        stats.mannwhitneyu(\n",
    "            orders[\n",
    "                np.logical_and(\n",
    "                    orders['group'] == 'A',\n",
    "                    np.logical_not(orders['visitorId'].isin(abnormalUsers)),\n",
    "                )\n",
    "            ]['revenue'],\n",
    "            orders[\n",
    "                np.logical_and(\n",
    "                    orders['group'] == 'B',\n",
    "                    np.logical_not(orders['visitorId'].isin(abnormalUsers)),\n",
    "                )\n",
    "            ]['revenue'],\n",
    "        )[1]\n",
    "    )\n",
    ")\n",
    "\n",
    "print(\n",
    "    \"Различие в среднем чеке между группами: {0:.3f}\".format(\n",
    "        orders[\n",
    "            np.logical_and(\n",
    "                orders['group'] == 'B',\n",
    "                np.logical_not(orders['visitorId'].isin(abnormalUsers)),\n",
    "            )\n",
    "        ]['revenue'].mean()\n",
    "        / orders[\n",
    "            np.logical_and(\n",
    "                orders['group'] == 'A',\n",
    "                np.logical_not(orders['visitorId'].isin(abnormalUsers)),\n",
    "            )\n",
    "        ]['revenue'].mean()\n",
    "        - 1\n",
    "    )\n",
    ")"
   ]
  },
  {
   "cell_type": "markdown",
   "metadata": {},
   "source": [
    "Общие выводы по результатам теста не изменились - нет причин отвергать нулевую гипотезу и считать, что в среднем чеке есть различия, но разница между сегментами сократилась с примерно 29% до 3%."
   ]
  },
  {
   "cell_type": "markdown",
   "metadata": {},
   "source": [
    "### Выводы и принятие решения"
   ]
  },
  {
   "cell_type": "markdown",
   "metadata": {},
   "source": [
    "Имеющиеся факты:\n",
    "\n",
    "Есть статистически значимое различие по среднему количеству заказов между группами и по «сырым», и по данным после фильтрации аномалий;\n",
    "\n",
    "Нет статистически значимого различия по среднему чеку между группами ни по «сырым», ни по данным после фильтрации аномалий;\n",
    "\n",
    "График различия среднего количества заказов между группами сообщает, что результаты группы B лучше группы A, имеют тенденцию к росту;\n",
    "\n",
    "График различия среднего чека колеблется: он-то и позволил нам найти аномалии. Сделать из этого графика определённые выводы нельзя.\n",
    "\n",
    "Таким образом, принимаем решение остановить тест, признать его успешным, зафиксировать победу группы B по среднему количеству заказов и перейти к проверке следующей гипотезы."
   ]
  }
 ],
 "metadata": {
  "ExecuteTimeLog": [
   {
    "duration": 885,
    "start_time": "2023-04-29T09:31:43.117Z"
   },
   {
    "duration": 209,
    "start_time": "2023-04-29T09:34:45.173Z"
   },
   {
    "duration": 3,
    "start_time": "2023-04-29T09:47:44.826Z"
   },
   {
    "duration": 2,
    "start_time": "2023-04-29T09:48:41.624Z"
   },
   {
    "duration": 73,
    "start_time": "2023-04-29T09:49:16.979Z"
   },
   {
    "duration": 14,
    "start_time": "2023-04-29T09:49:42.729Z"
   },
   {
    "duration": 3,
    "start_time": "2023-04-29T09:50:35.798Z"
   },
   {
    "duration": 21,
    "start_time": "2023-04-29T09:50:37.206Z"
   },
   {
    "duration": 3,
    "start_time": "2023-04-29T09:56:05.963Z"
   },
   {
    "duration": 20,
    "start_time": "2023-04-29T09:56:08.100Z"
   },
   {
    "duration": 3,
    "start_time": "2023-04-29T09:56:59.668Z"
   },
   {
    "duration": 3,
    "start_time": "2023-04-29T09:57:06.268Z"
   },
   {
    "duration": 25,
    "start_time": "2023-04-29T09:57:07.922Z"
   },
   {
    "duration": 92,
    "start_time": "2023-04-29T10:02:22.661Z"
   },
   {
    "duration": 4,
    "start_time": "2023-04-29T10:02:49.319Z"
   },
   {
    "duration": 72,
    "start_time": "2023-04-29T10:19:53.379Z"
   },
   {
    "duration": 638,
    "start_time": "2023-04-29T10:35:04.948Z"
   },
   {
    "duration": 75,
    "start_time": "2023-04-29T10:35:05.588Z"
   },
   {
    "duration": 76,
    "start_time": "2023-04-29T10:35:05.665Z"
   },
   {
    "duration": 6,
    "start_time": "2023-04-29T10:38:02.889Z"
   },
   {
    "duration": 18,
    "start_time": "2023-04-29T10:38:39.575Z"
   },
   {
    "duration": 8,
    "start_time": "2023-04-29T10:39:50.319Z"
   },
   {
    "duration": 678,
    "start_time": "2023-04-29T11:08:15.784Z"
   },
   {
    "duration": 74,
    "start_time": "2023-04-29T11:08:16.464Z"
   },
   {
    "duration": 80,
    "start_time": "2023-04-29T11:08:16.540Z"
   },
   {
    "duration": 5,
    "start_time": "2023-04-29T11:08:16.622Z"
   },
   {
    "duration": 1206,
    "start_time": "2023-04-29T13:52:19.748Z"
   },
   {
    "duration": 378,
    "start_time": "2023-04-29T13:52:20.956Z"
   },
   {
    "duration": 139,
    "start_time": "2023-04-29T13:52:21.337Z"
   },
   {
    "duration": 27,
    "start_time": "2023-04-29T13:52:21.478Z"
   },
   {
    "duration": 80,
    "start_time": "2023-04-29T13:52:21.511Z"
   },
   {
    "duration": 19,
    "start_time": "2023-04-29T13:55:13.422Z"
   },
   {
    "duration": 663,
    "start_time": "2023-04-29T13:56:46.913Z"
   },
   {
    "duration": 106,
    "start_time": "2023-04-29T13:56:47.579Z"
   },
   {
    "duration": 6,
    "start_time": "2023-04-29T13:56:47.692Z"
   },
   {
    "duration": 122,
    "start_time": "2023-04-29T13:56:47.709Z"
   },
   {
    "duration": 8,
    "start_time": "2023-04-29T13:56:47.834Z"
   },
   {
    "duration": 20,
    "start_time": "2023-04-29T13:56:47.844Z"
   },
   {
    "duration": 32,
    "start_time": "2023-04-29T13:56:47.866Z"
   },
   {
    "duration": 931,
    "start_time": "2023-04-29T13:57:26.142Z"
   },
   {
    "duration": 95,
    "start_time": "2023-04-29T13:57:27.076Z"
   },
   {
    "duration": 3,
    "start_time": "2023-04-29T13:57:27.174Z"
   },
   {
    "duration": 154,
    "start_time": "2023-04-29T13:57:27.179Z"
   },
   {
    "duration": 10,
    "start_time": "2023-04-29T13:57:27.339Z"
   },
   {
    "duration": 60,
    "start_time": "2023-04-29T13:57:27.355Z"
   },
   {
    "duration": 28,
    "start_time": "2023-04-29T13:57:27.420Z"
   },
   {
    "duration": 685,
    "start_time": "2023-04-29T14:00:50.406Z"
   },
   {
    "duration": 83,
    "start_time": "2023-04-29T14:00:51.093Z"
   },
   {
    "duration": 2,
    "start_time": "2023-04-29T14:00:51.178Z"
   },
   {
    "duration": 132,
    "start_time": "2023-04-29T14:00:51.182Z"
   },
   {
    "duration": 8,
    "start_time": "2023-04-29T14:00:51.316Z"
   },
   {
    "duration": 17,
    "start_time": "2023-04-29T14:00:51.326Z"
   },
   {
    "duration": 11,
    "start_time": "2023-04-29T14:00:51.345Z"
   },
   {
    "duration": 17,
    "start_time": "2023-04-29T14:01:06.305Z"
   },
   {
    "duration": 17,
    "start_time": "2023-04-29T14:01:10.549Z"
   },
   {
    "duration": 26,
    "start_time": "2023-04-29T14:03:00.711Z"
   },
   {
    "duration": 26,
    "start_time": "2023-04-29T14:03:11.541Z"
   },
   {
    "duration": 808,
    "start_time": "2023-04-29T14:03:25.450Z"
   },
   {
    "duration": 108,
    "start_time": "2023-04-29T14:03:26.260Z"
   },
   {
    "duration": 5,
    "start_time": "2023-04-29T14:03:26.369Z"
   },
   {
    "duration": 149,
    "start_time": "2023-04-29T14:03:26.376Z"
   },
   {
    "duration": 9,
    "start_time": "2023-04-29T14:03:26.528Z"
   },
   {
    "duration": 34,
    "start_time": "2023-04-29T14:03:26.540Z"
   },
   {
    "duration": 18,
    "start_time": "2023-04-29T14:03:26.576Z"
   },
   {
    "duration": 156,
    "start_time": "2023-04-29T14:23:14.071Z"
   },
   {
    "duration": 287,
    "start_time": "2023-04-29T14:27:50.264Z"
   },
   {
    "duration": 348,
    "start_time": "2023-04-29T14:39:30.429Z"
   },
   {
    "duration": 276,
    "start_time": "2023-04-29T14:41:28.536Z"
   },
   {
    "duration": 232,
    "start_time": "2023-04-29T14:43:27.304Z"
   },
   {
    "duration": 370,
    "start_time": "2023-04-29T14:44:12.849Z"
   },
   {
    "duration": 257,
    "start_time": "2023-04-29T14:44:33.822Z"
   },
   {
    "duration": 262,
    "start_time": "2023-04-29T15:08:28.612Z"
   },
   {
    "duration": 356,
    "start_time": "2023-04-29T15:17:13.361Z"
   },
   {
    "duration": 379,
    "start_time": "2023-04-29T15:20:05.370Z"
   },
   {
    "duration": 291,
    "start_time": "2023-04-29T15:20:54.033Z"
   },
   {
    "duration": 654,
    "start_time": "2023-04-29T15:22:35.418Z"
   },
   {
    "duration": 103,
    "start_time": "2023-04-29T15:22:36.074Z"
   },
   {
    "duration": 3,
    "start_time": "2023-04-29T15:22:36.179Z"
   },
   {
    "duration": 127,
    "start_time": "2023-04-29T15:22:36.188Z"
   },
   {
    "duration": 8,
    "start_time": "2023-04-29T15:22:36.317Z"
   },
   {
    "duration": 17,
    "start_time": "2023-04-29T15:22:36.330Z"
   },
   {
    "duration": 23,
    "start_time": "2023-04-29T15:22:36.349Z"
   },
   {
    "duration": 350,
    "start_time": "2023-04-29T15:22:36.374Z"
   },
   {
    "duration": 319,
    "start_time": "2023-04-29T15:22:36.726Z"
   },
   {
    "duration": 205,
    "start_time": "2023-04-29T15:22:37.047Z"
   },
   {
    "duration": 369,
    "start_time": "2023-04-29T15:22:37.253Z"
   },
   {
    "duration": 272,
    "start_time": "2023-04-29T15:37:29.331Z"
   },
   {
    "duration": 653,
    "start_time": "2023-04-29T15:38:34.527Z"
   },
   {
    "duration": 75,
    "start_time": "2023-04-29T15:38:35.184Z"
   },
   {
    "duration": 3,
    "start_time": "2023-04-29T15:38:35.261Z"
   },
   {
    "duration": 109,
    "start_time": "2023-04-29T15:38:35.266Z"
   },
   {
    "duration": 9,
    "start_time": "2023-04-29T15:38:35.377Z"
   },
   {
    "duration": 34,
    "start_time": "2023-04-29T15:38:35.388Z"
   },
   {
    "duration": 28,
    "start_time": "2023-04-29T15:38:35.423Z"
   },
   {
    "duration": 358,
    "start_time": "2023-04-29T15:38:35.453Z"
   },
   {
    "duration": 314,
    "start_time": "2023-04-29T15:38:35.813Z"
   },
   {
    "duration": 208,
    "start_time": "2023-04-29T15:38:36.129Z"
   },
   {
    "duration": 378,
    "start_time": "2023-04-29T15:38:36.339Z"
   },
   {
    "duration": 280,
    "start_time": "2023-04-29T15:38:36.719Z"
   },
   {
    "duration": 214,
    "start_time": "2023-04-29T15:45:59.439Z"
   },
   {
    "duration": 253,
    "start_time": "2023-04-29T15:49:34.874Z"
   },
   {
    "duration": 236,
    "start_time": "2023-04-29T15:49:56.572Z"
   },
   {
    "duration": 295,
    "start_time": "2023-04-29T15:55:17.631Z"
   },
   {
    "duration": 342,
    "start_time": "2023-04-29T15:58:53.383Z"
   },
   {
    "duration": 352,
    "start_time": "2023-04-29T15:59:41.176Z"
   },
   {
    "duration": 338,
    "start_time": "2023-04-29T16:01:16.741Z"
   },
   {
    "duration": 363,
    "start_time": "2023-04-29T16:01:32.271Z"
   },
   {
    "duration": 44,
    "start_time": "2023-04-30T14:49:01.146Z"
   },
   {
    "duration": 10,
    "start_time": "2023-04-30T14:49:48.534Z"
   },
   {
    "duration": 812,
    "start_time": "2023-04-30T14:49:59.827Z"
   },
   {
    "duration": 214,
    "start_time": "2023-04-30T14:50:00.642Z"
   },
   {
    "duration": 2,
    "start_time": "2023-04-30T14:50:00.858Z"
   },
   {
    "duration": 109,
    "start_time": "2023-04-30T14:50:00.862Z"
   },
   {
    "duration": 5,
    "start_time": "2023-04-30T14:50:00.973Z"
   },
   {
    "duration": 50,
    "start_time": "2023-04-30T14:50:00.980Z"
   },
   {
    "duration": 49,
    "start_time": "2023-04-30T14:50:01.032Z"
   },
   {
    "duration": 289,
    "start_time": "2023-04-30T14:50:01.083Z"
   },
   {
    "duration": 250,
    "start_time": "2023-04-30T14:50:01.373Z"
   },
   {
    "duration": 184,
    "start_time": "2023-04-30T14:50:01.624Z"
   },
   {
    "duration": 367,
    "start_time": "2023-04-30T14:50:01.809Z"
   },
   {
    "duration": 246,
    "start_time": "2023-04-30T14:50:02.178Z"
   },
   {
    "duration": 302,
    "start_time": "2023-04-30T14:50:02.425Z"
   },
   {
    "duration": 114,
    "start_time": "2023-04-30T14:50:02.740Z"
   },
   {
    "duration": 128,
    "start_time": "2023-04-30T15:00:21.729Z"
   },
   {
    "duration": 5,
    "start_time": "2023-04-30T15:07:21.381Z"
   },
   {
    "duration": 6,
    "start_time": "2023-04-30T15:10:05.948Z"
   },
   {
    "duration": 4,
    "start_time": "2023-04-30T15:11:58.392Z"
   },
   {
    "duration": 115,
    "start_time": "2023-04-30T15:14:39.246Z"
   },
   {
    "duration": 122,
    "start_time": "2023-04-30T15:15:42.848Z"
   },
   {
    "duration": 4,
    "start_time": "2023-04-30T15:22:33.080Z"
   },
   {
    "duration": 5,
    "start_time": "2023-04-30T15:22:38.446Z"
   },
   {
    "duration": 5,
    "start_time": "2023-04-30T15:24:15.270Z"
   },
   {
    "duration": 673,
    "start_time": "2023-04-30T16:16:36.719Z"
   },
   {
    "duration": 208,
    "start_time": "2023-04-30T16:18:57.342Z"
   },
   {
    "duration": 149,
    "start_time": "2023-04-30T16:19:28.433Z"
   },
   {
    "duration": 14,
    "start_time": "2023-04-30T16:31:36.625Z"
   },
   {
    "duration": 9,
    "start_time": "2023-04-30T16:35:35.487Z"
   },
   {
    "duration": 7,
    "start_time": "2023-04-30T16:45:03.510Z"
   },
   {
    "duration": 21,
    "start_time": "2023-04-30T16:45:52.677Z"
   },
   {
    "duration": 13,
    "start_time": "2023-04-30T16:49:05.922Z"
   },
   {
    "duration": 48,
    "start_time": "2023-05-01T05:12:00.857Z"
   },
   {
    "duration": 801,
    "start_time": "2023-05-01T05:12:09.435Z"
   },
   {
    "duration": 195,
    "start_time": "2023-05-01T05:12:10.238Z"
   },
   {
    "duration": 4,
    "start_time": "2023-05-01T05:12:10.435Z"
   },
   {
    "duration": 86,
    "start_time": "2023-05-01T05:12:10.441Z"
   },
   {
    "duration": 11,
    "start_time": "2023-05-01T05:12:10.529Z"
   },
   {
    "duration": 30,
    "start_time": "2023-05-01T05:12:10.542Z"
   },
   {
    "duration": 12,
    "start_time": "2023-05-01T05:12:10.573Z"
   },
   {
    "duration": 891,
    "start_time": "2023-05-01T05:12:10.586Z"
   },
   {
    "duration": 0,
    "start_time": "2023-05-01T05:12:11.478Z"
   },
   {
    "duration": 0,
    "start_time": "2023-05-01T05:12:11.480Z"
   },
   {
    "duration": 0,
    "start_time": "2023-05-01T05:12:11.480Z"
   },
   {
    "duration": 0,
    "start_time": "2023-05-01T05:12:11.482Z"
   },
   {
    "duration": 0,
    "start_time": "2023-05-01T05:12:11.483Z"
   },
   {
    "duration": 0,
    "start_time": "2023-05-01T05:12:11.484Z"
   },
   {
    "duration": 0,
    "start_time": "2023-05-01T05:12:11.485Z"
   },
   {
    "duration": 0,
    "start_time": "2023-05-01T05:12:11.485Z"
   },
   {
    "duration": 0,
    "start_time": "2023-05-01T05:12:11.487Z"
   },
   {
    "duration": 0,
    "start_time": "2023-05-01T05:12:11.488Z"
   },
   {
    "duration": 0,
    "start_time": "2023-05-01T05:12:11.489Z"
   },
   {
    "duration": 0,
    "start_time": "2023-05-01T05:12:11.490Z"
   },
   {
    "duration": 0,
    "start_time": "2023-05-01T05:12:11.491Z"
   },
   {
    "duration": 0,
    "start_time": "2023-05-01T05:12:11.492Z"
   },
   {
    "duration": 0,
    "start_time": "2023-05-01T05:12:11.493Z"
   },
   {
    "duration": 0,
    "start_time": "2023-05-01T05:12:11.494Z"
   },
   {
    "duration": 0,
    "start_time": "2023-05-01T05:12:11.495Z"
   },
   {
    "duration": 10,
    "start_time": "2023-05-01T05:12:56.503Z"
   },
   {
    "duration": 18,
    "start_time": "2023-05-01T05:38:21.379Z"
   },
   {
    "duration": 10,
    "start_time": "2023-05-01T05:39:12.601Z"
   },
   {
    "duration": 9,
    "start_time": "2023-05-01T05:40:04.463Z"
   },
   {
    "duration": 17,
    "start_time": "2023-05-01T05:45:00.867Z"
   },
   {
    "duration": 4,
    "start_time": "2023-05-01T05:45:44.022Z"
   },
   {
    "duration": 8,
    "start_time": "2023-05-01T05:46:05.326Z"
   },
   {
    "duration": 5,
    "start_time": "2023-05-01T05:46:28.853Z"
   },
   {
    "duration": 4,
    "start_time": "2023-05-01T05:47:01.023Z"
   },
   {
    "duration": 660,
    "start_time": "2023-05-01T05:47:51.142Z"
   },
   {
    "duration": 77,
    "start_time": "2023-05-01T05:47:51.804Z"
   },
   {
    "duration": 3,
    "start_time": "2023-05-01T05:47:51.883Z"
   },
   {
    "duration": 100,
    "start_time": "2023-05-01T05:47:51.889Z"
   },
   {
    "duration": 6,
    "start_time": "2023-05-01T05:47:51.991Z"
   },
   {
    "duration": 18,
    "start_time": "2023-05-01T05:47:51.998Z"
   },
   {
    "duration": 26,
    "start_time": "2023-05-01T05:47:52.017Z"
   },
   {
    "duration": 13,
    "start_time": "2023-05-01T05:47:52.045Z"
   },
   {
    "duration": 7,
    "start_time": "2023-05-01T05:47:52.060Z"
   },
   {
    "duration": 11,
    "start_time": "2023-05-01T05:47:52.070Z"
   },
   {
    "duration": 12,
    "start_time": "2023-05-01T05:47:52.083Z"
   },
   {
    "duration": 282,
    "start_time": "2023-05-01T05:47:52.096Z"
   },
   {
    "duration": 272,
    "start_time": "2023-05-01T05:47:52.380Z"
   },
   {
    "duration": 175,
    "start_time": "2023-05-01T05:47:52.655Z"
   },
   {
    "duration": 304,
    "start_time": "2023-05-01T05:47:52.835Z"
   },
   {
    "duration": 249,
    "start_time": "2023-05-01T05:47:53.141Z"
   },
   {
    "duration": 284,
    "start_time": "2023-05-01T05:47:53.392Z"
   },
   {
    "duration": 124,
    "start_time": "2023-05-01T05:47:53.677Z"
   },
   {
    "duration": 5,
    "start_time": "2023-05-01T05:47:53.802Z"
   },
   {
    "duration": 132,
    "start_time": "2023-05-01T05:47:53.808Z"
   },
   {
    "duration": 7,
    "start_time": "2023-05-01T05:47:53.941Z"
   },
   {
    "duration": 644,
    "start_time": "2023-05-01T05:47:53.950Z"
   },
   {
    "duration": 201,
    "start_time": "2023-05-01T05:47:54.596Z"
   },
   {
    "duration": 9,
    "start_time": "2023-05-01T05:47:54.799Z"
   },
   {
    "duration": 26,
    "start_time": "2023-05-01T05:47:54.810Z"
   },
   {
    "duration": 9,
    "start_time": "2023-05-01T05:47:54.838Z"
   },
   {
    "duration": 27,
    "start_time": "2023-05-01T05:47:54.848Z"
   },
   {
    "duration": 13,
    "start_time": "2023-05-01T05:47:54.877Z"
   },
   {
    "duration": 5,
    "start_time": "2023-05-01T05:48:46.298Z"
   },
   {
    "duration": 9,
    "start_time": "2023-05-01T05:50:28.746Z"
   },
   {
    "duration": 643,
    "start_time": "2023-05-01T05:50:47.403Z"
   },
   {
    "duration": 80,
    "start_time": "2023-05-01T05:50:48.050Z"
   },
   {
    "duration": 3,
    "start_time": "2023-05-01T05:50:48.131Z"
   },
   {
    "duration": 75,
    "start_time": "2023-05-01T05:50:48.136Z"
   },
   {
    "duration": 21,
    "start_time": "2023-05-01T05:50:48.213Z"
   },
   {
    "duration": 20,
    "start_time": "2023-05-01T05:50:48.236Z"
   },
   {
    "duration": 12,
    "start_time": "2023-05-01T05:50:48.257Z"
   },
   {
    "duration": 22,
    "start_time": "2023-05-01T05:50:48.270Z"
   },
   {
    "duration": 19,
    "start_time": "2023-05-01T05:50:48.294Z"
   },
   {
    "duration": 282,
    "start_time": "2023-05-01T05:50:48.316Z"
   },
   {
    "duration": 245,
    "start_time": "2023-05-01T05:50:48.600Z"
   },
   {
    "duration": 172,
    "start_time": "2023-05-01T05:50:48.847Z"
   },
   {
    "duration": 329,
    "start_time": "2023-05-01T05:50:49.021Z"
   },
   {
    "duration": 248,
    "start_time": "2023-05-01T05:50:49.353Z"
   },
   {
    "duration": 334,
    "start_time": "2023-05-01T05:50:49.603Z"
   },
   {
    "duration": 139,
    "start_time": "2023-05-01T05:50:49.939Z"
   },
   {
    "duration": 4,
    "start_time": "2023-05-01T05:50:50.080Z"
   },
   {
    "duration": 138,
    "start_time": "2023-05-01T05:50:50.086Z"
   },
   {
    "duration": 8,
    "start_time": "2023-05-01T05:50:50.226Z"
   },
   {
    "duration": 589,
    "start_time": "2023-05-01T05:50:50.237Z"
   },
   {
    "duration": 166,
    "start_time": "2023-05-01T05:50:50.828Z"
   },
   {
    "duration": 10,
    "start_time": "2023-05-01T05:50:50.995Z"
   },
   {
    "duration": 8,
    "start_time": "2023-05-01T05:50:51.007Z"
   },
   {
    "duration": 34,
    "start_time": "2023-05-01T05:50:51.017Z"
   },
   {
    "duration": 28,
    "start_time": "2023-05-01T05:50:51.053Z"
   },
   {
    "duration": 13,
    "start_time": "2023-05-01T05:50:51.083Z"
   },
   {
    "duration": 8,
    "start_time": "2023-05-01T05:51:25.254Z"
   },
   {
    "duration": 4,
    "start_time": "2023-05-01T05:56:57.141Z"
   },
   {
    "duration": 5,
    "start_time": "2023-05-01T05:57:11.701Z"
   },
   {
    "duration": 4,
    "start_time": "2023-05-01T05:57:58.508Z"
   },
   {
    "duration": 10,
    "start_time": "2023-05-01T05:58:27.279Z"
   },
   {
    "duration": 4,
    "start_time": "2023-05-01T05:59:22.836Z"
   },
   {
    "duration": 11,
    "start_time": "2023-05-01T06:00:33.537Z"
   },
   {
    "duration": 647,
    "start_time": "2023-05-01T06:00:55.024Z"
   },
   {
    "duration": 83,
    "start_time": "2023-05-01T06:00:55.672Z"
   },
   {
    "duration": 2,
    "start_time": "2023-05-01T06:00:55.757Z"
   },
   {
    "duration": 73,
    "start_time": "2023-05-01T06:00:55.761Z"
   },
   {
    "duration": 9,
    "start_time": "2023-05-01T06:00:55.835Z"
   },
   {
    "duration": 13,
    "start_time": "2023-05-01T06:00:55.845Z"
   },
   {
    "duration": 11,
    "start_time": "2023-05-01T06:00:55.859Z"
   },
   {
    "duration": 14,
    "start_time": "2023-05-01T06:00:55.871Z"
   },
   {
    "duration": 6,
    "start_time": "2023-05-01T06:00:55.887Z"
   },
   {
    "duration": 304,
    "start_time": "2023-05-01T06:00:55.895Z"
   },
   {
    "duration": 261,
    "start_time": "2023-05-01T06:00:56.200Z"
   },
   {
    "duration": 186,
    "start_time": "2023-05-01T06:00:56.463Z"
   },
   {
    "duration": 297,
    "start_time": "2023-05-01T06:00:56.651Z"
   },
   {
    "duration": 235,
    "start_time": "2023-05-01T06:00:56.950Z"
   },
   {
    "duration": 263,
    "start_time": "2023-05-01T06:00:57.187Z"
   },
   {
    "duration": 140,
    "start_time": "2023-05-01T06:00:57.452Z"
   },
   {
    "duration": 4,
    "start_time": "2023-05-01T06:00:57.594Z"
   },
   {
    "duration": 132,
    "start_time": "2023-05-01T06:00:57.600Z"
   },
   {
    "duration": 7,
    "start_time": "2023-05-01T06:00:57.734Z"
   },
   {
    "duration": 601,
    "start_time": "2023-05-01T06:00:57.744Z"
   },
   {
    "duration": 164,
    "start_time": "2023-05-01T06:00:58.347Z"
   },
   {
    "duration": 9,
    "start_time": "2023-05-01T06:00:58.513Z"
   },
   {
    "duration": 11,
    "start_time": "2023-05-01T06:00:58.534Z"
   },
   {
    "duration": 18,
    "start_time": "2023-05-01T06:00:58.547Z"
   },
   {
    "duration": 20,
    "start_time": "2023-05-01T06:00:58.567Z"
   },
   {
    "duration": 11,
    "start_time": "2023-05-01T06:00:58.589Z"
   },
   {
    "duration": 183,
    "start_time": "2023-05-01T06:09:33.598Z"
   },
   {
    "duration": 274,
    "start_time": "2023-05-01T06:10:03.158Z"
   },
   {
    "duration": 201,
    "start_time": "2023-05-01T06:12:24.115Z"
   },
   {
    "duration": 313,
    "start_time": "2023-05-01T06:29:58.693Z"
   },
   {
    "duration": 281,
    "start_time": "2023-05-01T06:30:23.374Z"
   },
   {
    "duration": 204,
    "start_time": "2023-05-01T06:35:41.879Z"
   },
   {
    "duration": 358,
    "start_time": "2023-05-01T06:45:15.818Z"
   },
   {
    "duration": 10,
    "start_time": "2023-05-01T08:26:55.078Z"
   },
   {
    "duration": 569,
    "start_time": "2023-05-01T08:27:07.056Z"
   },
   {
    "duration": 76,
    "start_time": "2023-05-01T08:27:07.627Z"
   },
   {
    "duration": 3,
    "start_time": "2023-05-01T08:27:07.704Z"
   },
   {
    "duration": 110,
    "start_time": "2023-05-01T08:27:07.708Z"
   },
   {
    "duration": 6,
    "start_time": "2023-05-01T08:27:07.820Z"
   },
   {
    "duration": 36,
    "start_time": "2023-05-01T08:27:07.828Z"
   },
   {
    "duration": 12,
    "start_time": "2023-05-01T08:27:07.866Z"
   },
   {
    "duration": 11,
    "start_time": "2023-05-01T08:27:07.880Z"
   },
   {
    "duration": 11,
    "start_time": "2023-05-01T08:27:07.893Z"
   },
   {
    "duration": 259,
    "start_time": "2023-05-01T08:27:07.905Z"
   },
   {
    "duration": 254,
    "start_time": "2023-05-01T08:27:08.166Z"
   },
   {
    "duration": 186,
    "start_time": "2023-05-01T08:27:08.421Z"
   },
   {
    "duration": 307,
    "start_time": "2023-05-01T08:27:08.609Z"
   },
   {
    "duration": 237,
    "start_time": "2023-05-01T08:27:08.918Z"
   },
   {
    "duration": 286,
    "start_time": "2023-05-01T08:27:09.157Z"
   },
   {
    "duration": 133,
    "start_time": "2023-05-01T08:27:09.444Z"
   },
   {
    "duration": 5,
    "start_time": "2023-05-01T08:27:09.579Z"
   },
   {
    "duration": 129,
    "start_time": "2023-05-01T08:27:09.585Z"
   },
   {
    "duration": 4,
    "start_time": "2023-05-01T08:27:09.716Z"
   },
   {
    "duration": 582,
    "start_time": "2023-05-01T08:27:09.721Z"
   },
   {
    "duration": 156,
    "start_time": "2023-05-01T08:27:10.305Z"
   },
   {
    "duration": 9,
    "start_time": "2023-05-01T08:27:10.463Z"
   },
   {
    "duration": 22,
    "start_time": "2023-05-01T08:27:10.474Z"
   },
   {
    "duration": 17,
    "start_time": "2023-05-01T08:27:10.498Z"
   },
   {
    "duration": 21,
    "start_time": "2023-05-01T08:27:10.516Z"
   },
   {
    "duration": 17,
    "start_time": "2023-05-01T08:27:10.539Z"
   },
   {
    "duration": 9,
    "start_time": "2023-05-01T09:00:36.110Z"
   },
   {
    "duration": 14,
    "start_time": "2023-05-01T09:01:01.083Z"
   },
   {
    "duration": 106,
    "start_time": "2023-05-01T09:02:11.405Z"
   },
   {
    "duration": 13,
    "start_time": "2023-05-01T09:02:23.346Z"
   },
   {
    "duration": 15,
    "start_time": "2023-05-01T09:02:37.897Z"
   },
   {
    "duration": 15,
    "start_time": "2023-05-01T09:03:07.146Z"
   },
   {
    "duration": 13,
    "start_time": "2023-05-01T09:03:17.751Z"
   },
   {
    "duration": 10,
    "start_time": "2023-05-01T09:03:28.116Z"
   },
   {
    "duration": 11,
    "start_time": "2023-05-01T09:04:50.476Z"
   },
   {
    "duration": 10,
    "start_time": "2023-05-01T09:06:22.681Z"
   },
   {
    "duration": 9,
    "start_time": "2023-05-01T09:08:20.702Z"
   },
   {
    "duration": 9,
    "start_time": "2023-05-01T09:08:40.179Z"
   },
   {
    "duration": 580,
    "start_time": "2023-05-01T09:28:26.847Z"
   },
   {
    "duration": 77,
    "start_time": "2023-05-01T09:28:27.429Z"
   },
   {
    "duration": 2,
    "start_time": "2023-05-01T09:28:27.508Z"
   },
   {
    "duration": 72,
    "start_time": "2023-05-01T09:28:27.512Z"
   },
   {
    "duration": 6,
    "start_time": "2023-05-01T09:28:27.587Z"
   },
   {
    "duration": 18,
    "start_time": "2023-05-01T09:28:27.594Z"
   },
   {
    "duration": 35,
    "start_time": "2023-05-01T09:28:27.614Z"
   },
   {
    "duration": 22,
    "start_time": "2023-05-01T09:28:27.652Z"
   },
   {
    "duration": 7,
    "start_time": "2023-05-01T09:28:27.676Z"
   },
   {
    "duration": 306,
    "start_time": "2023-05-01T09:28:27.684Z"
   },
   {
    "duration": 290,
    "start_time": "2023-05-01T09:28:27.992Z"
   },
   {
    "duration": 212,
    "start_time": "2023-05-01T09:28:28.284Z"
   },
   {
    "duration": 343,
    "start_time": "2023-05-01T09:28:28.498Z"
   },
   {
    "duration": 252,
    "start_time": "2023-05-01T09:28:28.844Z"
   },
   {
    "duration": 370,
    "start_time": "2023-05-01T09:28:29.098Z"
   },
   {
    "duration": 145,
    "start_time": "2023-05-01T09:28:29.470Z"
   },
   {
    "duration": 4,
    "start_time": "2023-05-01T09:28:29.617Z"
   },
   {
    "duration": 131,
    "start_time": "2023-05-01T09:28:29.623Z"
   },
   {
    "duration": 5,
    "start_time": "2023-05-01T09:28:29.756Z"
   },
   {
    "duration": 610,
    "start_time": "2023-05-01T09:28:29.762Z"
   },
   {
    "duration": 145,
    "start_time": "2023-05-01T09:28:30.373Z"
   },
   {
    "duration": 19,
    "start_time": "2023-05-01T09:28:30.519Z"
   },
   {
    "duration": 25,
    "start_time": "2023-05-01T09:28:30.539Z"
   },
   {
    "duration": 39,
    "start_time": "2023-05-01T09:28:30.565Z"
   },
   {
    "duration": 46,
    "start_time": "2023-05-01T09:28:30.606Z"
   },
   {
    "duration": 49,
    "start_time": "2023-05-01T09:28:30.654Z"
   },
   {
    "duration": 572,
    "start_time": "2023-05-01T13:29:57.568Z"
   },
   {
    "duration": 84,
    "start_time": "2023-05-01T13:29:58.142Z"
   },
   {
    "duration": 3,
    "start_time": "2023-05-01T13:29:58.228Z"
   },
   {
    "duration": 75,
    "start_time": "2023-05-01T13:29:58.233Z"
   },
   {
    "duration": 7,
    "start_time": "2023-05-01T13:29:58.309Z"
   },
   {
    "duration": 27,
    "start_time": "2023-05-01T13:29:58.317Z"
   },
   {
    "duration": 10,
    "start_time": "2023-05-01T13:29:58.346Z"
   },
   {
    "duration": 15,
    "start_time": "2023-05-01T13:29:58.357Z"
   },
   {
    "duration": 9,
    "start_time": "2023-05-01T13:29:58.373Z"
   },
   {
    "duration": 271,
    "start_time": "2023-05-01T13:29:58.384Z"
   },
   {
    "duration": 261,
    "start_time": "2023-05-01T13:29:58.656Z"
   },
   {
    "duration": 185,
    "start_time": "2023-05-01T13:29:58.918Z"
   },
   {
    "duration": 312,
    "start_time": "2023-05-01T13:29:59.104Z"
   },
   {
    "duration": 249,
    "start_time": "2023-05-01T13:29:59.417Z"
   },
   {
    "duration": 293,
    "start_time": "2023-05-01T13:29:59.667Z"
   },
   {
    "duration": 137,
    "start_time": "2023-05-01T13:29:59.961Z"
   },
   {
    "duration": 5,
    "start_time": "2023-05-01T13:30:00.099Z"
   },
   {
    "duration": 131,
    "start_time": "2023-05-01T13:30:00.105Z"
   },
   {
    "duration": 5,
    "start_time": "2023-05-01T13:30:00.237Z"
   },
   {
    "duration": 578,
    "start_time": "2023-05-01T13:30:00.244Z"
   },
   {
    "duration": 154,
    "start_time": "2023-05-01T13:30:00.824Z"
   },
   {
    "duration": 12,
    "start_time": "2023-05-01T13:30:00.980Z"
   },
   {
    "duration": 65,
    "start_time": "2023-05-01T13:30:00.993Z"
   },
   {
    "duration": 49,
    "start_time": "2023-05-01T13:30:01.060Z"
   },
   {
    "duration": 54,
    "start_time": "2023-05-01T13:30:01.111Z"
   },
   {
    "duration": 44,
    "start_time": "2023-05-01T13:30:01.167Z"
   },
   {
    "duration": 9,
    "start_time": "2023-05-01T13:40:40.414Z"
   },
   {
    "duration": 71,
    "start_time": "2023-05-02T14:47:18.633Z"
   },
   {
    "duration": 1044,
    "start_time": "2023-05-02T14:47:28.868Z"
   },
   {
    "duration": 229,
    "start_time": "2023-05-02T14:47:29.915Z"
   },
   {
    "duration": 4,
    "start_time": "2023-05-02T14:47:30.147Z"
   },
   {
    "duration": 123,
    "start_time": "2023-05-02T14:47:30.153Z"
   },
   {
    "duration": 10,
    "start_time": "2023-05-02T14:47:30.293Z"
   },
   {
    "duration": 52,
    "start_time": "2023-05-02T14:47:30.305Z"
   },
   {
    "duration": 71,
    "start_time": "2023-05-02T14:47:30.359Z"
   },
   {
    "duration": 42,
    "start_time": "2023-05-02T14:47:30.433Z"
   },
   {
    "duration": 45,
    "start_time": "2023-05-02T14:47:30.477Z"
   },
   {
    "duration": 100,
    "start_time": "2023-05-02T14:47:30.524Z"
   },
   {
    "duration": 397,
    "start_time": "2023-05-02T14:47:30.626Z"
   },
   {
    "duration": 437,
    "start_time": "2023-05-02T14:47:31.026Z"
   },
   {
    "duration": 303,
    "start_time": "2023-05-02T14:47:31.466Z"
   },
   {
    "duration": 402,
    "start_time": "2023-05-02T14:47:31.773Z"
   },
   {
    "duration": 397,
    "start_time": "2023-05-02T14:47:32.177Z"
   },
   {
    "duration": 422,
    "start_time": "2023-05-02T14:47:32.575Z"
   },
   {
    "duration": 199,
    "start_time": "2023-05-02T14:47:32.999Z"
   },
   {
    "duration": 6,
    "start_time": "2023-05-02T14:47:33.200Z"
   },
   {
    "duration": 212,
    "start_time": "2023-05-02T14:47:33.208Z"
   },
   {
    "duration": 9,
    "start_time": "2023-05-02T14:47:33.423Z"
   },
   {
    "duration": 882,
    "start_time": "2023-05-02T14:47:33.434Z"
   },
   {
    "duration": 290,
    "start_time": "2023-05-02T14:47:34.319Z"
   },
   {
    "duration": 15,
    "start_time": "2023-05-02T14:47:34.612Z"
   },
   {
    "duration": 13,
    "start_time": "2023-05-02T14:47:34.630Z"
   },
   {
    "duration": 17,
    "start_time": "2023-05-02T14:47:34.648Z"
   },
   {
    "duration": 60,
    "start_time": "2023-05-02T14:47:34.667Z"
   },
   {
    "duration": 17,
    "start_time": "2023-05-02T14:47:34.729Z"
   },
   {
    "duration": 5,
    "start_time": "2023-05-02T14:48:08.360Z"
   },
   {
    "duration": 4,
    "start_time": "2023-05-02T14:48:28.267Z"
   },
   {
    "duration": 5,
    "start_time": "2023-05-02T14:49:29.215Z"
   },
   {
    "duration": 5,
    "start_time": "2023-05-02T14:53:10.358Z"
   },
   {
    "duration": 7,
    "start_time": "2023-05-02T14:53:54.020Z"
   },
   {
    "duration": 1925,
    "start_time": "2023-05-02T15:00:04.092Z"
   },
   {
    "duration": 255,
    "start_time": "2023-05-02T15:00:59.084Z"
   },
   {
    "duration": 213,
    "start_time": "2023-05-02T15:01:14.490Z"
   },
   {
    "duration": 10,
    "start_time": "2023-05-02T15:01:33.376Z"
   },
   {
    "duration": 621,
    "start_time": "2023-05-02T15:02:28.917Z"
   },
   {
    "duration": 71,
    "start_time": "2023-05-02T15:02:29.540Z"
   },
   {
    "duration": 2,
    "start_time": "2023-05-02T15:02:29.613Z"
   },
   {
    "duration": 77,
    "start_time": "2023-05-02T15:02:29.617Z"
   },
   {
    "duration": 6,
    "start_time": "2023-05-02T15:02:29.696Z"
   },
   {
    "duration": 9,
    "start_time": "2023-05-02T15:02:29.704Z"
   },
   {
    "duration": 14,
    "start_time": "2023-05-02T15:02:29.714Z"
   },
   {
    "duration": 19,
    "start_time": "2023-05-02T15:02:29.729Z"
   },
   {
    "duration": 19,
    "start_time": "2023-05-02T15:02:29.750Z"
   },
   {
    "duration": 26,
    "start_time": "2023-05-02T15:02:29.771Z"
   },
   {
    "duration": 15,
    "start_time": "2023-05-02T15:02:29.798Z"
   },
   {
    "duration": 11,
    "start_time": "2023-05-02T15:02:29.815Z"
   },
   {
    "duration": 301,
    "start_time": "2023-05-02T15:02:29.827Z"
   },
   {
    "duration": 279,
    "start_time": "2023-05-02T15:02:30.130Z"
   },
   {
    "duration": 219,
    "start_time": "2023-05-02T15:02:30.410Z"
   },
   {
    "duration": 313,
    "start_time": "2023-05-02T15:02:30.630Z"
   },
   {
    "duration": 263,
    "start_time": "2023-05-02T15:02:30.946Z"
   },
   {
    "duration": 317,
    "start_time": "2023-05-02T15:02:31.210Z"
   },
   {
    "duration": 147,
    "start_time": "2023-05-02T15:02:31.529Z"
   },
   {
    "duration": 4,
    "start_time": "2023-05-02T15:02:31.678Z"
   },
   {
    "duration": 138,
    "start_time": "2023-05-02T15:02:31.691Z"
   },
   {
    "duration": 5,
    "start_time": "2023-05-02T15:02:31.831Z"
   },
   {
    "duration": 628,
    "start_time": "2023-05-02T15:02:31.837Z"
   },
   {
    "duration": 167,
    "start_time": "2023-05-02T15:02:32.467Z"
   },
   {
    "duration": 12,
    "start_time": "2023-05-02T15:02:32.636Z"
   },
   {
    "duration": 11,
    "start_time": "2023-05-02T15:02:32.649Z"
   },
   {
    "duration": 35,
    "start_time": "2023-05-02T15:02:32.662Z"
   },
   {
    "duration": 23,
    "start_time": "2023-05-02T15:02:32.700Z"
   },
   {
    "duration": 15,
    "start_time": "2023-05-02T15:02:32.724Z"
   },
   {
    "duration": 128,
    "start_time": "2023-05-02T15:06:11.351Z"
   },
   {
    "duration": 8,
    "start_time": "2023-05-02T15:14:53.458Z"
   },
   {
    "duration": 616,
    "start_time": "2023-05-02T15:19:32.378Z"
   },
   {
    "duration": 71,
    "start_time": "2023-05-02T15:19:32.995Z"
   },
   {
    "duration": 2,
    "start_time": "2023-05-02T15:19:33.068Z"
   },
   {
    "duration": 71,
    "start_time": "2023-05-02T15:19:33.072Z"
   },
   {
    "duration": 6,
    "start_time": "2023-05-02T15:19:33.145Z"
   },
   {
    "duration": 10,
    "start_time": "2023-05-02T15:19:33.153Z"
   },
   {
    "duration": 7,
    "start_time": "2023-05-02T15:19:33.165Z"
   },
   {
    "duration": 8,
    "start_time": "2023-05-02T15:19:33.190Z"
   },
   {
    "duration": 13,
    "start_time": "2023-05-02T15:19:33.200Z"
   },
   {
    "duration": 10,
    "start_time": "2023-05-02T15:19:33.214Z"
   },
   {
    "duration": 14,
    "start_time": "2023-05-02T15:19:33.225Z"
   },
   {
    "duration": 7,
    "start_time": "2023-05-02T15:19:33.241Z"
   },
   {
    "duration": 277,
    "start_time": "2023-05-02T15:19:33.249Z"
   },
   {
    "duration": 251,
    "start_time": "2023-05-02T15:19:33.528Z"
   },
   {
    "duration": 189,
    "start_time": "2023-05-02T15:19:33.780Z"
   },
   {
    "duration": 303,
    "start_time": "2023-05-02T15:19:33.970Z"
   },
   {
    "duration": 247,
    "start_time": "2023-05-02T15:19:34.275Z"
   },
   {
    "duration": 277,
    "start_time": "2023-05-02T15:19:34.524Z"
   },
   {
    "duration": 136,
    "start_time": "2023-05-02T15:19:34.803Z"
   },
   {
    "duration": 15,
    "start_time": "2023-05-02T15:19:34.940Z"
   },
   {
    "duration": 126,
    "start_time": "2023-05-02T15:19:34.957Z"
   },
   {
    "duration": 8,
    "start_time": "2023-05-02T15:19:35.084Z"
   },
   {
    "duration": 571,
    "start_time": "2023-05-02T15:19:35.093Z"
   },
   {
    "duration": 141,
    "start_time": "2023-05-02T15:19:35.665Z"
   },
   {
    "duration": 10,
    "start_time": "2023-05-02T15:19:35.807Z"
   },
   {
    "duration": 32,
    "start_time": "2023-05-02T15:19:35.818Z"
   },
   {
    "duration": 22,
    "start_time": "2023-05-02T15:19:35.852Z"
   },
   {
    "duration": 24,
    "start_time": "2023-05-02T15:19:35.876Z"
   },
   {
    "duration": 12,
    "start_time": "2023-05-02T15:19:35.902Z"
   },
   {
    "duration": 6,
    "start_time": "2023-05-02T15:23:04.173Z"
   },
   {
    "duration": 5,
    "start_time": "2023-05-02T15:23:26.130Z"
   },
   {
    "duration": 24,
    "start_time": "2023-05-02T15:34:40.023Z"
   },
   {
    "duration": 16,
    "start_time": "2023-05-02T15:38:47.676Z"
   },
   {
    "duration": 12,
    "start_time": "2023-05-02T15:40:02.713Z"
   },
   {
    "duration": 10,
    "start_time": "2023-05-02T15:40:59.815Z"
   },
   {
    "duration": 1808,
    "start_time": "2023-05-02T15:41:52.919Z"
   },
   {
    "duration": 1191,
    "start_time": "2023-05-02T15:42:08.941Z"
   },
   {
    "duration": 8,
    "start_time": "2023-05-02T15:43:54.323Z"
   },
   {
    "duration": 10,
    "start_time": "2023-05-02T15:44:35.682Z"
   },
   {
    "duration": 605,
    "start_time": "2023-05-02T15:46:11.476Z"
   },
   {
    "duration": 11,
    "start_time": "2023-05-02T15:54:56.418Z"
   },
   {
    "duration": 557,
    "start_time": "2023-05-02T15:56:27.528Z"
   },
   {
    "duration": 71,
    "start_time": "2023-05-02T15:56:28.087Z"
   },
   {
    "duration": 3,
    "start_time": "2023-05-02T15:56:28.160Z"
   },
   {
    "duration": 87,
    "start_time": "2023-05-02T15:56:28.165Z"
   },
   {
    "duration": 5,
    "start_time": "2023-05-02T15:56:28.254Z"
   },
   {
    "duration": 7,
    "start_time": "2023-05-02T15:56:28.260Z"
   },
   {
    "duration": 30,
    "start_time": "2023-05-02T15:56:28.269Z"
   },
   {
    "duration": 387,
    "start_time": "2023-05-02T15:56:28.300Z"
   },
   {
    "duration": 6,
    "start_time": "2023-05-02T15:56:28.691Z"
   },
   {
    "duration": 13,
    "start_time": "2023-05-02T15:56:28.699Z"
   },
   {
    "duration": 14,
    "start_time": "2023-05-02T15:56:28.714Z"
   },
   {
    "duration": 31,
    "start_time": "2023-05-02T15:56:28.729Z"
   },
   {
    "duration": 12,
    "start_time": "2023-05-02T15:56:28.761Z"
   },
   {
    "duration": 292,
    "start_time": "2023-05-02T15:56:28.775Z"
   },
   {
    "duration": 277,
    "start_time": "2023-05-02T15:56:29.069Z"
   },
   {
    "duration": 249,
    "start_time": "2023-05-02T15:56:29.348Z"
   },
   {
    "duration": 295,
    "start_time": "2023-05-02T15:56:29.599Z"
   },
   {
    "duration": 209,
    "start_time": "2023-05-02T15:56:29.895Z"
   },
   {
    "duration": 324,
    "start_time": "2023-05-02T15:56:30.106Z"
   },
   {
    "duration": 154,
    "start_time": "2023-05-02T15:56:30.432Z"
   },
   {
    "duration": 6,
    "start_time": "2023-05-02T15:56:30.591Z"
   },
   {
    "duration": 171,
    "start_time": "2023-05-02T15:56:30.599Z"
   },
   {
    "duration": 7,
    "start_time": "2023-05-02T15:56:30.774Z"
   },
   {
    "duration": 718,
    "start_time": "2023-05-02T15:56:30.791Z"
   },
   {
    "duration": 164,
    "start_time": "2023-05-02T15:56:31.511Z"
   },
   {
    "duration": 21,
    "start_time": "2023-05-02T15:56:31.677Z"
   },
   {
    "duration": 34,
    "start_time": "2023-05-02T15:56:31.699Z"
   },
   {
    "duration": 22,
    "start_time": "2023-05-02T15:56:31.736Z"
   },
   {
    "duration": 23,
    "start_time": "2023-05-02T15:56:31.761Z"
   },
   {
    "duration": 12,
    "start_time": "2023-05-02T15:56:31.786Z"
   },
   {
    "duration": 10,
    "start_time": "2023-05-02T16:01:58.218Z"
   },
   {
    "duration": 7,
    "start_time": "2023-05-02T16:02:29.729Z"
   },
   {
    "duration": 605,
    "start_time": "2023-05-02T16:02:39.233Z"
   },
   {
    "duration": 72,
    "start_time": "2023-05-02T16:02:39.840Z"
   },
   {
    "duration": 4,
    "start_time": "2023-05-02T16:02:39.913Z"
   },
   {
    "duration": 81,
    "start_time": "2023-05-02T16:02:39.919Z"
   },
   {
    "duration": 5,
    "start_time": "2023-05-02T16:02:40.001Z"
   },
   {
    "duration": 15,
    "start_time": "2023-05-02T16:02:40.008Z"
   },
   {
    "duration": 15,
    "start_time": "2023-05-02T16:02:40.025Z"
   },
   {
    "duration": 425,
    "start_time": "2023-05-02T16:02:40.042Z"
   },
   {
    "duration": 9,
    "start_time": "2023-05-02T16:02:40.469Z"
   },
   {
    "duration": 23,
    "start_time": "2023-05-02T16:02:40.481Z"
   },
   {
    "duration": 16,
    "start_time": "2023-05-02T16:02:40.506Z"
   },
   {
    "duration": 19,
    "start_time": "2023-05-02T16:02:40.524Z"
   },
   {
    "duration": 8,
    "start_time": "2023-05-02T16:02:40.545Z"
   },
   {
    "duration": 307,
    "start_time": "2023-05-02T16:02:40.554Z"
   },
   {
    "duration": 272,
    "start_time": "2023-05-02T16:02:40.863Z"
   },
   {
    "duration": 258,
    "start_time": "2023-05-02T16:02:41.136Z"
   },
   {
    "duration": 311,
    "start_time": "2023-05-02T16:02:41.395Z"
   },
   {
    "duration": 228,
    "start_time": "2023-05-02T16:02:41.708Z"
   },
   {
    "duration": 293,
    "start_time": "2023-05-02T16:02:41.938Z"
   },
   {
    "duration": 149,
    "start_time": "2023-05-02T16:02:42.233Z"
   },
   {
    "duration": 8,
    "start_time": "2023-05-02T16:02:42.384Z"
   },
   {
    "duration": 130,
    "start_time": "2023-05-02T16:02:42.394Z"
   },
   {
    "duration": 6,
    "start_time": "2023-05-02T16:02:42.526Z"
   },
   {
    "duration": 795,
    "start_time": "2023-05-02T16:02:42.534Z"
   },
   {
    "duration": 168,
    "start_time": "2023-05-02T16:02:43.331Z"
   },
   {
    "duration": 13,
    "start_time": "2023-05-02T16:02:43.501Z"
   },
   {
    "duration": 26,
    "start_time": "2023-05-02T16:02:43.516Z"
   },
   {
    "duration": 36,
    "start_time": "2023-05-02T16:02:43.546Z"
   },
   {
    "duration": 56,
    "start_time": "2023-05-02T16:02:43.584Z"
   },
   {
    "duration": 14,
    "start_time": "2023-05-02T16:02:43.643Z"
   },
   {
    "duration": 296,
    "start_time": "2023-05-02T16:06:47.536Z"
   },
   {
    "duration": 428,
    "start_time": "2023-05-02T16:07:47.410Z"
   },
   {
    "duration": 262,
    "start_time": "2023-05-02T16:08:00.971Z"
   },
   {
    "duration": 96,
    "start_time": "2023-05-02T16:11:24.918Z"
   },
   {
    "duration": 628,
    "start_time": "2023-05-02T16:12:05.385Z"
   },
   {
    "duration": 71,
    "start_time": "2023-05-02T16:12:06.015Z"
   },
   {
    "duration": 2,
    "start_time": "2023-05-02T16:12:06.088Z"
   },
   {
    "duration": 78,
    "start_time": "2023-05-02T16:12:06.092Z"
   },
   {
    "duration": 22,
    "start_time": "2023-05-02T16:12:06.171Z"
   },
   {
    "duration": 12,
    "start_time": "2023-05-02T16:12:06.195Z"
   },
   {
    "duration": 31,
    "start_time": "2023-05-02T16:12:06.209Z"
   },
   {
    "duration": 255,
    "start_time": "2023-05-02T16:12:06.241Z"
   },
   {
    "duration": 10,
    "start_time": "2023-05-02T16:12:06.498Z"
   },
   {
    "duration": 115,
    "start_time": "2023-05-02T16:12:06.511Z"
   },
   {
    "duration": 0,
    "start_time": "2023-05-02T16:12:06.629Z"
   },
   {
    "duration": 0,
    "start_time": "2023-05-02T16:12:06.630Z"
   },
   {
    "duration": 0,
    "start_time": "2023-05-02T16:12:06.632Z"
   },
   {
    "duration": 0,
    "start_time": "2023-05-02T16:12:06.633Z"
   },
   {
    "duration": 0,
    "start_time": "2023-05-02T16:12:06.635Z"
   },
   {
    "duration": 0,
    "start_time": "2023-05-02T16:12:06.636Z"
   },
   {
    "duration": 0,
    "start_time": "2023-05-02T16:12:06.637Z"
   },
   {
    "duration": 0,
    "start_time": "2023-05-02T16:12:06.638Z"
   },
   {
    "duration": 0,
    "start_time": "2023-05-02T16:12:06.640Z"
   },
   {
    "duration": 0,
    "start_time": "2023-05-02T16:12:06.642Z"
   },
   {
    "duration": 0,
    "start_time": "2023-05-02T16:12:06.643Z"
   },
   {
    "duration": 0,
    "start_time": "2023-05-02T16:12:06.644Z"
   },
   {
    "duration": 0,
    "start_time": "2023-05-02T16:12:06.645Z"
   },
   {
    "duration": 0,
    "start_time": "2023-05-02T16:12:06.647Z"
   },
   {
    "duration": 0,
    "start_time": "2023-05-02T16:12:06.648Z"
   },
   {
    "duration": 0,
    "start_time": "2023-05-02T16:12:06.649Z"
   },
   {
    "duration": 0,
    "start_time": "2023-05-02T16:12:06.651Z"
   },
   {
    "duration": 0,
    "start_time": "2023-05-02T16:12:06.652Z"
   },
   {
    "duration": 0,
    "start_time": "2023-05-02T16:12:06.692Z"
   },
   {
    "duration": 0,
    "start_time": "2023-05-02T16:12:06.693Z"
   },
   {
    "duration": 0,
    "start_time": "2023-05-02T16:12:06.696Z"
   },
   {
    "duration": 11,
    "start_time": "2023-05-02T16:13:11.519Z"
   },
   {
    "duration": 221,
    "start_time": "2023-05-02T16:19:55.356Z"
   },
   {
    "duration": 151,
    "start_time": "2023-05-02T16:21:01.487Z"
   },
   {
    "duration": 94,
    "start_time": "2023-05-02T16:21:26.843Z"
   },
   {
    "duration": 69,
    "start_time": "2023-05-02T16:22:03.716Z"
   },
   {
    "duration": 52,
    "start_time": "2023-05-02T16:23:03.626Z"
   },
   {
    "duration": 60,
    "start_time": "2023-05-02T16:23:56.423Z"
   },
   {
    "duration": 69,
    "start_time": "2023-05-02T16:24:15.261Z"
   },
   {
    "duration": 71,
    "start_time": "2023-05-02T16:24:22.891Z"
   },
   {
    "duration": 0,
    "start_time": "2023-05-02T16:24:22.965Z"
   },
   {
    "duration": 0,
    "start_time": "2023-05-02T16:24:22.966Z"
   },
   {
    "duration": 0,
    "start_time": "2023-05-02T16:24:22.967Z"
   },
   {
    "duration": 1,
    "start_time": "2023-05-02T16:24:22.968Z"
   },
   {
    "duration": 0,
    "start_time": "2023-05-02T16:24:22.970Z"
   },
   {
    "duration": 0,
    "start_time": "2023-05-02T16:24:22.972Z"
   },
   {
    "duration": 0,
    "start_time": "2023-05-02T16:24:22.974Z"
   },
   {
    "duration": 0,
    "start_time": "2023-05-02T16:24:22.975Z"
   },
   {
    "duration": 0,
    "start_time": "2023-05-02T16:24:22.976Z"
   },
   {
    "duration": 0,
    "start_time": "2023-05-02T16:24:22.978Z"
   },
   {
    "duration": 0,
    "start_time": "2023-05-02T16:24:22.979Z"
   },
   {
    "duration": 0,
    "start_time": "2023-05-02T16:24:22.981Z"
   },
   {
    "duration": 0,
    "start_time": "2023-05-02T16:24:22.983Z"
   },
   {
    "duration": 0,
    "start_time": "2023-05-02T16:24:22.984Z"
   },
   {
    "duration": 0,
    "start_time": "2023-05-02T16:24:22.985Z"
   },
   {
    "duration": 0,
    "start_time": "2023-05-02T16:24:22.987Z"
   },
   {
    "duration": 0,
    "start_time": "2023-05-02T16:24:22.988Z"
   },
   {
    "duration": 0,
    "start_time": "2023-05-02T16:24:22.989Z"
   },
   {
    "duration": 0,
    "start_time": "2023-05-02T16:24:22.990Z"
   },
   {
    "duration": 0,
    "start_time": "2023-05-02T16:24:22.992Z"
   },
   {
    "duration": 0,
    "start_time": "2023-05-02T16:24:22.993Z"
   },
   {
    "duration": 0,
    "start_time": "2023-05-02T16:24:22.994Z"
   },
   {
    "duration": 0,
    "start_time": "2023-05-02T16:24:22.995Z"
   },
   {
    "duration": 0,
    "start_time": "2023-05-02T16:24:22.996Z"
   },
   {
    "duration": 0,
    "start_time": "2023-05-02T16:24:22.998Z"
   },
   {
    "duration": 0,
    "start_time": "2023-05-02T16:24:22.999Z"
   },
   {
    "duration": 0,
    "start_time": "2023-05-02T16:24:23.000Z"
   },
   {
    "duration": 0,
    "start_time": "2023-05-02T16:24:23.002Z"
   },
   {
    "duration": 0,
    "start_time": "2023-05-02T16:24:23.003Z"
   },
   {
    "duration": 0,
    "start_time": "2023-05-02T16:24:23.004Z"
   },
   {
    "duration": 620,
    "start_time": "2023-05-02T16:26:19.886Z"
   },
   {
    "duration": 72,
    "start_time": "2023-05-02T16:26:20.508Z"
   },
   {
    "duration": 4,
    "start_time": "2023-05-02T16:26:20.581Z"
   },
   {
    "duration": 83,
    "start_time": "2023-05-02T16:26:20.586Z"
   },
   {
    "duration": 3,
    "start_time": "2023-05-02T16:26:20.671Z"
   },
   {
    "duration": 4,
    "start_time": "2023-05-02T16:26:20.691Z"
   },
   {
    "duration": 15,
    "start_time": "2023-05-02T16:26:20.696Z"
   },
   {
    "duration": 260,
    "start_time": "2023-05-02T16:26:20.712Z"
   },
   {
    "duration": 7,
    "start_time": "2023-05-02T16:26:20.974Z"
   },
   {
    "duration": 32,
    "start_time": "2023-05-02T16:26:20.983Z"
   },
   {
    "duration": 31,
    "start_time": "2023-05-02T16:26:21.016Z"
   },
   {
    "duration": 21,
    "start_time": "2023-05-02T16:26:21.049Z"
   },
   {
    "duration": 32,
    "start_time": "2023-05-02T16:26:21.072Z"
   },
   {
    "duration": 274,
    "start_time": "2023-05-02T16:26:21.105Z"
   },
   {
    "duration": 262,
    "start_time": "2023-05-02T16:26:21.381Z"
   },
   {
    "duration": 187,
    "start_time": "2023-05-02T16:26:21.645Z"
   },
   {
    "duration": 366,
    "start_time": "2023-05-02T16:26:21.834Z"
   },
   {
    "duration": 202,
    "start_time": "2023-05-02T16:26:22.202Z"
   },
   {
    "duration": 293,
    "start_time": "2023-05-02T16:26:22.406Z"
   },
   {
    "duration": 133,
    "start_time": "2023-05-02T16:26:22.701Z"
   },
   {
    "duration": 6,
    "start_time": "2023-05-02T16:26:22.836Z"
   },
   {
    "duration": 140,
    "start_time": "2023-05-02T16:26:22.843Z"
   },
   {
    "duration": 9,
    "start_time": "2023-05-02T16:26:22.985Z"
   },
   {
    "duration": 702,
    "start_time": "2023-05-02T16:26:22.996Z"
   },
   {
    "duration": 156,
    "start_time": "2023-05-02T16:26:23.700Z"
   },
   {
    "duration": 10,
    "start_time": "2023-05-02T16:26:23.858Z"
   },
   {
    "duration": 22,
    "start_time": "2023-05-02T16:26:23.870Z"
   },
   {
    "duration": 20,
    "start_time": "2023-05-02T16:26:23.895Z"
   },
   {
    "duration": 40,
    "start_time": "2023-05-02T16:26:23.916Z"
   },
   {
    "duration": 12,
    "start_time": "2023-05-02T16:26:23.957Z"
   },
   {
    "duration": 15,
    "start_time": "2023-05-02T16:27:25.009Z"
   },
   {
    "duration": 643,
    "start_time": "2023-05-02T16:28:44.518Z"
   },
   {
    "duration": 75,
    "start_time": "2023-05-02T16:28:45.163Z"
   },
   {
    "duration": 3,
    "start_time": "2023-05-02T16:28:45.240Z"
   },
   {
    "duration": 154,
    "start_time": "2023-05-02T16:28:45.246Z"
   },
   {
    "duration": 5,
    "start_time": "2023-05-02T16:28:45.401Z"
   },
   {
    "duration": 21,
    "start_time": "2023-05-02T16:28:45.408Z"
   },
   {
    "duration": 26,
    "start_time": "2023-05-02T16:28:45.430Z"
   },
   {
    "duration": 281,
    "start_time": "2023-05-02T16:28:45.458Z"
   },
   {
    "duration": 7,
    "start_time": "2023-05-02T16:28:45.741Z"
   },
   {
    "duration": 35,
    "start_time": "2023-05-02T16:28:45.751Z"
   },
   {
    "duration": 36,
    "start_time": "2023-05-02T16:28:45.788Z"
   },
   {
    "duration": 25,
    "start_time": "2023-05-02T16:28:45.826Z"
   },
   {
    "duration": 42,
    "start_time": "2023-05-02T16:28:45.853Z"
   },
   {
    "duration": 335,
    "start_time": "2023-05-02T16:28:45.897Z"
   },
   {
    "duration": 365,
    "start_time": "2023-05-02T16:28:46.234Z"
   },
   {
    "duration": 300,
    "start_time": "2023-05-02T16:28:46.601Z"
   },
   {
    "duration": 393,
    "start_time": "2023-05-02T16:28:46.903Z"
   },
   {
    "duration": 217,
    "start_time": "2023-05-02T16:28:47.298Z"
   },
   {
    "duration": 290,
    "start_time": "2023-05-02T16:28:47.516Z"
   },
   {
    "duration": 145,
    "start_time": "2023-05-02T16:28:47.808Z"
   },
   {
    "duration": 5,
    "start_time": "2023-05-02T16:28:47.955Z"
   },
   {
    "duration": 141,
    "start_time": "2023-05-02T16:28:47.962Z"
   },
   {
    "duration": 6,
    "start_time": "2023-05-02T16:28:48.105Z"
   },
   {
    "duration": 733,
    "start_time": "2023-05-02T16:28:48.113Z"
   },
   {
    "duration": 268,
    "start_time": "2023-05-02T16:28:48.849Z"
   },
   {
    "duration": 13,
    "start_time": "2023-05-02T16:28:49.119Z"
   },
   {
    "duration": 16,
    "start_time": "2023-05-02T16:28:49.134Z"
   },
   {
    "duration": 18,
    "start_time": "2023-05-02T16:28:49.154Z"
   },
   {
    "duration": 51,
    "start_time": "2023-05-02T16:28:49.174Z"
   },
   {
    "duration": 17,
    "start_time": "2023-05-02T16:28:49.228Z"
   },
   {
    "duration": 4,
    "start_time": "2023-05-02T16:46:55.976Z"
   },
   {
    "duration": 148,
    "start_time": "2023-05-02T16:51:47.203Z"
   },
   {
    "duration": 13,
    "start_time": "2023-05-02T16:57:34.675Z"
   },
   {
    "duration": 88,
    "start_time": "2023-05-02T16:59:41.097Z"
   },
   {
    "duration": 5,
    "start_time": "2023-05-02T16:59:47.369Z"
   },
   {
    "duration": 171,
    "start_time": "2023-05-02T17:01:07.346Z"
   },
   {
    "duration": 9,
    "start_time": "2023-05-02T17:11:42.421Z"
   },
   {
    "duration": 546,
    "start_time": "2023-05-02T17:12:24.536Z"
   },
   {
    "duration": 70,
    "start_time": "2023-05-02T17:12:25.083Z"
   },
   {
    "duration": 3,
    "start_time": "2023-05-02T17:12:25.155Z"
   },
   {
    "duration": 75,
    "start_time": "2023-05-02T17:12:25.159Z"
   },
   {
    "duration": 3,
    "start_time": "2023-05-02T17:12:25.236Z"
   },
   {
    "duration": 7,
    "start_time": "2023-05-02T17:12:25.241Z"
   },
   {
    "duration": 10,
    "start_time": "2023-05-02T17:12:25.250Z"
   },
   {
    "duration": 251,
    "start_time": "2023-05-02T17:12:25.261Z"
   },
   {
    "duration": 6,
    "start_time": "2023-05-02T17:12:25.514Z"
   },
   {
    "duration": 14,
    "start_time": "2023-05-02T17:12:25.523Z"
   },
   {
    "duration": 23,
    "start_time": "2023-05-02T17:12:25.539Z"
   },
   {
    "duration": 13,
    "start_time": "2023-05-02T17:12:25.563Z"
   },
   {
    "duration": 7,
    "start_time": "2023-05-02T17:12:25.577Z"
   },
   {
    "duration": 260,
    "start_time": "2023-05-02T17:12:25.586Z"
   },
   {
    "duration": 4,
    "start_time": "2023-05-02T17:12:25.847Z"
   },
   {
    "duration": 248,
    "start_time": "2023-05-02T17:12:25.852Z"
   },
   {
    "duration": 192,
    "start_time": "2023-05-02T17:12:26.101Z"
   },
   {
    "duration": 321,
    "start_time": "2023-05-02T17:12:26.295Z"
   },
   {
    "duration": 200,
    "start_time": "2023-05-02T17:12:26.618Z"
   },
   {
    "duration": 333,
    "start_time": "2023-05-02T17:12:26.820Z"
   },
   {
    "duration": 143,
    "start_time": "2023-05-02T17:12:27.155Z"
   },
   {
    "duration": 5,
    "start_time": "2023-05-02T17:12:27.300Z"
   },
   {
    "duration": 149,
    "start_time": "2023-05-02T17:12:27.306Z"
   },
   {
    "duration": 5,
    "start_time": "2023-05-02T17:12:27.457Z"
   },
   {
    "duration": 692,
    "start_time": "2023-05-02T17:12:27.464Z"
   },
   {
    "duration": 164,
    "start_time": "2023-05-02T17:12:28.158Z"
   },
   {
    "duration": 9,
    "start_time": "2023-05-02T17:12:28.324Z"
   },
   {
    "duration": 22,
    "start_time": "2023-05-02T17:12:28.336Z"
   },
   {
    "duration": 7,
    "start_time": "2023-05-02T17:12:28.360Z"
   },
   {
    "duration": 32,
    "start_time": "2023-05-02T17:12:28.368Z"
   },
   {
    "duration": 12,
    "start_time": "2023-05-02T17:12:28.401Z"
   },
   {
    "duration": 23,
    "start_time": "2023-05-02T17:17:19.877Z"
   },
   {
    "duration": 13,
    "start_time": "2023-05-02T17:18:18.020Z"
   },
   {
    "duration": 617,
    "start_time": "2023-05-02T17:18:51.885Z"
   },
   {
    "duration": 71,
    "start_time": "2023-05-02T17:18:52.506Z"
   },
   {
    "duration": 3,
    "start_time": "2023-05-02T17:18:52.578Z"
   },
   {
    "duration": 76,
    "start_time": "2023-05-02T17:18:52.584Z"
   },
   {
    "duration": 6,
    "start_time": "2023-05-02T17:18:52.661Z"
   },
   {
    "duration": 24,
    "start_time": "2023-05-02T17:18:52.669Z"
   },
   {
    "duration": 12,
    "start_time": "2023-05-02T17:18:52.694Z"
   },
   {
    "duration": 277,
    "start_time": "2023-05-02T17:18:52.707Z"
   },
   {
    "duration": 7,
    "start_time": "2023-05-02T17:18:52.986Z"
   },
   {
    "duration": 35,
    "start_time": "2023-05-02T17:18:52.995Z"
   },
   {
    "duration": 15,
    "start_time": "2023-05-02T17:18:53.031Z"
   },
   {
    "duration": 10,
    "start_time": "2023-05-02T17:18:53.048Z"
   },
   {
    "duration": 16,
    "start_time": "2023-05-02T17:18:53.061Z"
   },
   {
    "duration": 272,
    "start_time": "2023-05-02T17:18:53.078Z"
   },
   {
    "duration": 4,
    "start_time": "2023-05-02T17:18:53.351Z"
   },
   {
    "duration": 253,
    "start_time": "2023-05-02T17:18:53.356Z"
   },
   {
    "duration": 193,
    "start_time": "2023-05-02T17:18:53.611Z"
   },
   {
    "duration": 325,
    "start_time": "2023-05-02T17:18:53.806Z"
   },
   {
    "duration": 197,
    "start_time": "2023-05-02T17:18:54.133Z"
   },
   {
    "duration": 276,
    "start_time": "2023-05-02T17:18:54.331Z"
   },
   {
    "duration": 131,
    "start_time": "2023-05-02T17:18:54.608Z"
   },
   {
    "duration": 4,
    "start_time": "2023-05-02T17:18:54.741Z"
   },
   {
    "duration": 146,
    "start_time": "2023-05-02T17:18:54.747Z"
   },
   {
    "duration": 5,
    "start_time": "2023-05-02T17:18:54.895Z"
   },
   {
    "duration": 637,
    "start_time": "2023-05-02T17:18:54.901Z"
   },
   {
    "duration": 158,
    "start_time": "2023-05-02T17:18:55.540Z"
   },
   {
    "duration": 9,
    "start_time": "2023-05-02T17:18:55.700Z"
   },
   {
    "duration": 9,
    "start_time": "2023-05-02T17:18:55.711Z"
   },
   {
    "duration": 8,
    "start_time": "2023-05-02T17:18:55.721Z"
   },
   {
    "duration": 23,
    "start_time": "2023-05-02T17:18:55.731Z"
   },
   {
    "duration": 36,
    "start_time": "2023-05-02T17:18:55.755Z"
   },
   {
    "duration": 645,
    "start_time": "2023-05-02T17:22:05.001Z"
   },
   {
    "duration": 70,
    "start_time": "2023-05-02T17:22:05.648Z"
   },
   {
    "duration": 2,
    "start_time": "2023-05-02T17:22:05.720Z"
   },
   {
    "duration": 93,
    "start_time": "2023-05-02T17:22:05.724Z"
   },
   {
    "duration": 4,
    "start_time": "2023-05-02T17:22:05.819Z"
   },
   {
    "duration": 8,
    "start_time": "2023-05-02T17:22:05.825Z"
   },
   {
    "duration": 12,
    "start_time": "2023-05-02T17:22:05.835Z"
   },
   {
    "duration": 256,
    "start_time": "2023-05-02T17:22:05.848Z"
   },
   {
    "duration": 7,
    "start_time": "2023-05-02T17:22:06.106Z"
   },
   {
    "duration": 15,
    "start_time": "2023-05-02T17:22:06.114Z"
   },
   {
    "duration": 16,
    "start_time": "2023-05-02T17:22:06.131Z"
   },
   {
    "duration": 13,
    "start_time": "2023-05-02T17:22:06.149Z"
   },
   {
    "duration": 7,
    "start_time": "2023-05-02T17:22:06.163Z"
   },
   {
    "duration": 318,
    "start_time": "2023-05-02T17:22:06.174Z"
   },
   {
    "duration": 6,
    "start_time": "2023-05-02T17:22:06.494Z"
   },
   {
    "duration": 321,
    "start_time": "2023-05-02T17:22:06.502Z"
   },
   {
    "duration": 194,
    "start_time": "2023-05-02T17:22:06.825Z"
   },
   {
    "duration": 365,
    "start_time": "2023-05-02T17:22:07.021Z"
   },
   {
    "duration": 206,
    "start_time": "2023-05-02T17:22:07.391Z"
   },
   {
    "duration": 299,
    "start_time": "2023-05-02T17:22:07.599Z"
   },
   {
    "duration": 139,
    "start_time": "2023-05-02T17:22:07.899Z"
   },
   {
    "duration": 5,
    "start_time": "2023-05-02T17:22:08.039Z"
   },
   {
    "duration": 128,
    "start_time": "2023-05-02T17:22:08.045Z"
   },
   {
    "duration": 5,
    "start_time": "2023-05-02T17:22:08.174Z"
   },
   {
    "duration": 681,
    "start_time": "2023-05-02T17:22:08.181Z"
   },
   {
    "duration": 169,
    "start_time": "2023-05-02T17:22:08.863Z"
   },
   {
    "duration": 9,
    "start_time": "2023-05-02T17:22:09.035Z"
   },
   {
    "duration": 12,
    "start_time": "2023-05-02T17:22:09.045Z"
   },
   {
    "duration": 8,
    "start_time": "2023-05-02T17:22:09.058Z"
   },
   {
    "duration": 46,
    "start_time": "2023-05-02T17:22:09.067Z"
   },
   {
    "duration": 12,
    "start_time": "2023-05-02T17:22:09.115Z"
   }
  ],
  "kernelspec": {
   "display_name": "Python 3 (ipykernel)",
   "language": "python",
   "name": "python3"
  },
  "language_info": {
   "codemirror_mode": {
    "name": "ipython",
    "version": 3
   },
   "file_extension": ".py",
   "mimetype": "text/x-python",
   "name": "python",
   "nbconvert_exporter": "python",
   "pygments_lexer": "ipython3",
   "version": "3.9.13"
  },
  "toc": {
   "base_numbering": 1,
   "nav_menu": {
    "height": "90px",
    "width": "168px"
   },
   "number_sections": true,
   "sideBar": true,
   "skip_h1_title": true,
   "title_cell": "Table of Contents",
   "title_sidebar": "Contents",
   "toc_cell": false,
   "toc_position": {
    "height": "calc(100% - 180px)",
    "left": "10px",
    "top": "150px",
    "width": "284.075px"
   },
   "toc_section_display": true,
   "toc_window_display": true
  }
 },
 "nbformat": 4,
 "nbformat_minor": 2
}
